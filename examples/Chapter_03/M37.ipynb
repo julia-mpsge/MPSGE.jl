{
 "cells": [
  {
   "cell_type": "markdown",
   "metadata": {},
   "source": [
    "# Model 37\n",
    "\n",
    "\n",
    "|Markets   |    X  |   Y   |  K  |   W     |     CONS  |\n",
    "|----------|-------|-------|-----|---------|-----------|\n",
    "|PX        |   100 |       |     | -100    | |\n",
    "|PY        |       |  100  |     | -100    | |\n",
    "|PW        |       |       |     |  200    |     -200|\n",
    "|PL        |   -40 |  -60  | -60 |         |      160|\n",
    "|PK        |  -120 |  -80  |  60 |         |      140|\n",
    "|SUB       |    60 |   40  |     |         |     -100|\n"
   ]
  },
  {
   "cell_type": "code",
   "execution_count": 1,
   "metadata": {},
   "outputs": [],
   "source": [
    "using MPSGE"
   ]
  },
  {
   "cell_type": "code",
   "execution_count": 9,
   "metadata": {},
   "outputs": [
    {
     "data": {
      "text/plain": [
       "ScalarAuxConstraint(KFORWRD, KFORWRD - ((-K*DELTA + K) / DELTA))"
      ]
     },
     "metadata": {},
     "output_type": "display_data"
    }
   ],
   "source": [
    "M37 = MPSGEModel()\n",
    "\n",
    "\n",
    "@parameters(M37, begin\n",
    "    RHO, .4, (description = \"Time preference parameter,\",)\n",
    "    DELTA, .3, (description = \"Depreciation rate,\",)\n",
    "    TAU, -(1-.3)/(1+.4), (description = \"Effective capital use tax (it is a subsidy, its < 0),\",)\n",
    "    KTAX, 0, (description = \"Tax on new capital production\",)\n",
    "    NEWCAP, 0, (description = \"New capital stock after counterfactual (= 1 initially)\",)\n",
    "end)\n",
    "\n",
    "\n",
    "@sectors(M37, begin\n",
    "\tX,\t(description = \"Activity level for sector X\",)\n",
    "\tY,\t(description = \"Activity level for sector Y\",)\n",
    "\tW,\t(description = \"Activity level for sector W (Hicksian welfare index)\",)\n",
    "\tK,\t(description = \"Capital stock index\",)\n",
    "end)\n",
    "\n",
    "@commodities(M37, begin\n",
    "\tPX,\t(description = \"Price index for commodity X\",)\n",
    "\tPY,\t(description = \"Price index for commodity Y\",)\n",
    "\tPL,\t(description = \"Price index for primary factor L (net of tax)\",)\n",
    "\tPK,\t(description = \"Price index for primary factor K\",)\n",
    "\tPW,\t(description = \"Price index for welfare (expenditure function)\",)\n",
    "end)\n",
    "\n",
    "@consumers(M37, begin\n",
    "\tCONS,\t(description = \"Income level for consumer CONS\",)\n",
    "end)\n",
    "\n",
    "@auxiliaries(M37, begin\n",
    "\tKFORWRD,\t(description = \"Capital stock from previous period\",)\n",
    "end)\n",
    "\n",
    "\n",
    "@production(M37, X, [s=1, t=0], begin\n",
    "    @output(PX, 100, t)\n",
    "    @input(PL, 40, s)\n",
    "    @input(PK, 120, s, taxes = [Tax(CONS,TAU)], reference_price = .5)\n",
    "end)\n",
    "\n",
    "@production(M37, Y, [s=1, t=0], begin\n",
    "    @output(PY, 100, t)\n",
    "    @input(PL, 60, s)\n",
    "    @input(PK, 80, s, taxes = [Tax(CONS,TAU)], reference_price = .5)\n",
    "end)\n",
    "\n",
    "@production(M37, K, [s=0,t=0], begin\n",
    "    @output(PK, 1, t, taxes = [Tax(CONS, KTAX)])\n",
    "    @input(PL, 1, s)\n",
    "end)\n",
    "\n",
    "@production(M37, W, [s=1,t=0], begin\n",
    "    @output(PW, 200, t)\n",
    "    @input(PX, 100, s)\n",
    "    @input(PY, 100, s)\n",
    "end)\n",
    "\n",
    "@demand(M37, CONS, begin\n",
    "    @final_demand(PW, 200)\n",
    "end,begin\n",
    "    @endowment(PL, 160)\n",
    "    @endowment(PK, KFORWRD)\n",
    "end)\n",
    "\n",
    "@aux_constraint(M37, KFORWRD,\n",
    "    KFORWRD - K*(1-DELTA)/DELTA\n",
    ")"
   ]
  },
  {
   "cell_type": "markdown",
   "metadata": {},
   "source": [
    "# Benchmark"
   ]
  },
  {
   "cell_type": "code",
   "execution_count": 10,
   "metadata": {},
   "outputs": [
    {
     "name": "stdout",
     "output_type": "stream",
     "text": [
      "Reading options file C:\\Users\\MPHILL~1\\AppData\\Local\\Temp\\jl_990D.tmp\n",
      " > cumulative_iteration_limit 0\n",
      "Read of options file complete.\n",
      "\n",
      "Path 5.0.03 (Fri Jun 26 10:05:33 2020)\n",
      "Written by Todd Munson, Steven Dirkse, Youngdae Kim, and Michael Ferris\n",
      "Preprocessed size   : 10\n",
      "\n",
      "Major Iteration Log\n",
      "major minor  func  grad  residual    step  type prox    inorm  (label)\n",
      "    0     0     1     1 0.0000e+00           I 0.0e+00 0.0e+00 (zero_profit[X)\n",
      "\n",
      "Major Iterations. . . . 0\n",
      "Minor Iterations. . . . 0\n",
      "Restarts. . . . . . . . 0\n",
      "Crash Iterations. . . . 0\n",
      "Gradient Steps. . . . . 0\n",
      "Function Evaluations. . 1\n",
      "Gradient Evaluations. . 1\n",
      "Basis Time. . . . . . . 0.000000\n",
      "Total Time. . . . . . . 0.000000\n",
      "Residual. . . . . . . . 0.000000e+00\n",
      "Postsolved residual: 0.0000e+00\n",
      "\n",
      "\n",
      "Solver Status: LOCALLY_SOLVED\n",
      "Model Status: FEASIBLE_POINT"
     ]
    },
    {
     "data": {
      "text/html": [
       "<div><div style = \"float: left;\"><span>11×3 DataFrame</span></div><div style = \"clear: both;\"></div></div><div class = \"data-frame\" style = \"overflow-x: scroll;\"><table class = \"data-frame\" style = \"margin-bottom: 6px;\"><thead><tr class = \"header\"><th class = \"rowNumber\" style = \"font-weight: bold; text-align: right;\">Row</th><th style = \"text-align: left;\">var</th><th style = \"text-align: left;\">value</th><th style = \"text-align: left;\">margin</th></tr><tr class = \"subheader headerLastRow\"><th class = \"rowNumber\" style = \"font-weight: bold; text-align: right;\"></th><th title = \"JuMP.VariableRef\" style = \"text-align: left;\">GenericV…</th><th title = \"Float64\" style = \"text-align: left;\">Float64</th><th title = \"Float64\" style = \"text-align: left;\">Float64</th></tr></thead><tbody><tr><td class = \"rowNumber\" style = \"font-weight: bold; text-align: right;\">1</td><td style = \"text-align: left;\">Y</td><td style = \"text-align: right;\">1.0</td><td style = \"text-align: right;\">0.0</td></tr><tr><td class = \"rowNumber\" style = \"font-weight: bold; text-align: right;\">2</td><td style = \"text-align: left;\">X</td><td style = \"text-align: right;\">1.0</td><td style = \"text-align: right;\">0.0</td></tr><tr><td class = \"rowNumber\" style = \"font-weight: bold; text-align: right;\">3</td><td style = \"text-align: left;\">W</td><td style = \"text-align: right;\">1.0</td><td style = \"text-align: right;\">0.0</td></tr><tr><td class = \"rowNumber\" style = \"font-weight: bold; text-align: right;\">4</td><td style = \"text-align: left;\">PL</td><td style = \"text-align: right;\">1.0</td><td style = \"text-align: right;\">0.0</td></tr><tr><td class = \"rowNumber\" style = \"font-weight: bold; text-align: right;\">5</td><td style = \"text-align: left;\">PW</td><td style = \"text-align: right;\">1.0</td><td style = \"text-align: right;\">0.0</td></tr><tr><td class = \"rowNumber\" style = \"font-weight: bold; text-align: right;\">6</td><td style = \"text-align: left;\">PK</td><td style = \"text-align: right;\">1.0</td><td style = \"text-align: right;\">0.0</td></tr><tr><td class = \"rowNumber\" style = \"font-weight: bold; text-align: right;\">7</td><td style = \"text-align: left;\">PY</td><td style = \"text-align: right;\">1.0</td><td style = \"text-align: right;\">0.0</td></tr><tr><td class = \"rowNumber\" style = \"font-weight: bold; text-align: right;\">8</td><td style = \"text-align: left;\">PX</td><td style = \"text-align: right;\">1.0</td><td style = \"text-align: right;\">0.0</td></tr><tr><td class = \"rowNumber\" style = \"font-weight: bold; text-align: right;\">9</td><td style = \"text-align: left;\">CONS</td><td style = \"text-align: right;\">200.0</td><td style = \"text-align: right;\">0.0</td></tr><tr><td class = \"rowNumber\" style = \"font-weight: bold; text-align: right;\">10</td><td style = \"text-align: left;\">KFORWRD</td><td style = \"text-align: right;\">140.0</td><td style = \"text-align: right;\">0.0</td></tr><tr><td class = \"rowNumber\" style = \"font-weight: bold; text-align: right;\">11</td><td style = \"text-align: left;\">K</td><td style = \"text-align: right;\">60.0</td><td style = \"text-align: right;\">0.0</td></tr></tbody></table></div>"
      ],
      "text/latex": [
       "\\begin{tabular}{r|ccc}\n",
       "\t& var & value & margin\\\\\n",
       "\t\\hline\n",
       "\t& GenericV… & Float64 & Float64\\\\\n",
       "\t\\hline\n",
       "\t1 & $ Y $ & 1.0 & 0.0 \\\\\n",
       "\t2 & $ X $ & 1.0 & 0.0 \\\\\n",
       "\t3 & $ W $ & 1.0 & 0.0 \\\\\n",
       "\t4 & $ PL $ & 1.0 & 0.0 \\\\\n",
       "\t5 & $ PW $ & 1.0 & 0.0 \\\\\n",
       "\t6 & $ PK $ & 1.0 & 0.0 \\\\\n",
       "\t7 & $ PY $ & 1.0 & 0.0 \\\\\n",
       "\t8 & $ PX $ & 1.0 & 0.0 \\\\\n",
       "\t9 & $ CONS $ & 200.0 & 0.0 \\\\\n",
       "\t10 & $ KFORWRD $ & 140.0 & 0.0 \\\\\n",
       "\t11 & $ K $ & 60.0 & 0.0 \\\\\n",
       "\\end{tabular}\n"
      ],
      "text/plain": [
       "\u001b[1m11×3 DataFrame\u001b[0m\n",
       "\u001b[1m Row \u001b[0m│\u001b[1m var       \u001b[0m\u001b[1m value   \u001b[0m\u001b[1m margin  \u001b[0m\n",
       "     │\u001b[90m GenericV… \u001b[0m\u001b[90m Float64 \u001b[0m\u001b[90m Float64 \u001b[0m\n",
       "─────┼─────────────────────────────\n",
       "   1 │ Y              1.0      0.0\n",
       "   2 │ X              1.0      0.0\n",
       "   3 │ W              1.0      0.0\n",
       "   4 │ PL             1.0      0.0\n",
       "   5 │ PW             1.0      0.0\n",
       "   6 │ PK             1.0      0.0\n",
       "   7 │ PY             1.0      0.0\n",
       "   8 │ PX             1.0      0.0\n",
       "   9 │ CONS         200.0      0.0\n",
       "  10 │ KFORWRD      140.0      0.0\n",
       "  11 │ K             60.0      0.0"
      ]
     },
     "metadata": {},
     "output_type": "display_data"
    }
   ],
   "source": [
    "set_start_value(K, 60)\n",
    "set_start_value(KFORWRD, 140)\n",
    "fix(PW, 1)\n",
    "\n",
    "solve!(M37; cumulative_iteration_limit=0)\n",
    "generate_report(M37)"
   ]
  },
  {
   "cell_type": "markdown",
   "metadata": {},
   "source": [
    "# Counterfactual"
   ]
  },
  {
   "cell_type": "code",
   "execution_count": 16,
   "metadata": {},
   "outputs": [
    {
     "name": "stdout",
     "output_type": "stream",
     "text": [
      "Reading options file C:\\Users\\MPHILL~1\\AppData\\Local\\Temp\\jl_3162.tmp\n",
      " > cumulative_iteration_limit 10000\n",
      "Read of options file complete.\n",
      "\n",
      "Path 5.0.03 (Fri Jun 26 10:05:33 2020)\n",
      "Written by Todd Munson, Steven Dirkse, Youngdae Kim, and Michael Ferris\n",
      "\n",
      "Preprocessed size   : 10\n",
      "\n",
      "Crash Log\n",
      "major  func  diff  size  residual    step       prox   (label)\n",
      "    0     0             2.7743e+01             0.0e+00 (market_clearance[PK)\n",
      "    1     1     0    10 4.9465e-01  1.0e+00    0.0e+00 (income_balance[CONS)\n",
      "pn_search terminated: no basis change.\n",
      "\n",
      "Major Iteration Log\n",
      "major minor  func  grad  residual    step  type prox    inorm  (label)\n",
      "    0     0     2     2 4.9465e-01           I 0.0e+00 4.9e-01 (income_balance[)\n",
      "    1     1     3     3 1.6053e-07  1.0e+00 SO 0.0e+00 1.6e-07 (income_balance[)\n",
      "\n",
      "Major Iterations. . . . 1\n",
      "Minor Iterations. . . . 1\n",
      "Restarts. . . . . . . . 0\n",
      "Crash Iterations. . . . 1\n",
      "Gradient Steps. . . . . 0\n",
      "Function Evaluations. . 3\n",
      "Gradient Evaluations. . 3\n",
      "Basis Time. . . . . . . 0.000000\n",
      "Total Time. . . . . . . 0.000000\n",
      "Residual. . . . . . . . 1.605264e-07\n",
      "Postsolved residual: 1.6053e-07\n",
      "\n",
      "\n",
      "Solver Status: LOCALLY_SOLVED\n",
      "Model Status: FEASIBLE_POINT"
     ]
    },
    {
     "data": {
      "text/html": [
       "<div><div style = \"float: left;\"><span>11×3 DataFrame</span></div><div style = \"clear: both;\"></div></div><div class = \"data-frame\" style = \"overflow-x: scroll;\"><table class = \"data-frame\" style = \"margin-bottom: 6px;\"><thead><tr class = \"header\"><th class = \"rowNumber\" style = \"font-weight: bold; text-align: right;\">Row</th><th style = \"text-align: left;\">var</th><th style = \"text-align: left;\">value</th><th style = \"text-align: left;\">margin</th></tr><tr class = \"subheader headerLastRow\"><th class = \"rowNumber\" style = \"font-weight: bold; text-align: right;\"></th><th title = \"JuMP.VariableRef\" style = \"text-align: left;\">GenericV…</th><th title = \"Float64\" style = \"text-align: left;\">Float64</th><th title = \"Float64\" style = \"text-align: left;\">Float64</th></tr></thead><tbody><tr><td class = \"rowNumber\" style = \"font-weight: bold; text-align: right;\">1</td><td style = \"text-align: left;\">Y</td><td style = \"text-align: right;\">0.995457</td><td style = \"text-align: right;\">-4.26326e-14</td></tr><tr><td class = \"rowNumber\" style = \"font-weight: bold; text-align: right;\">2</td><td style = \"text-align: left;\">X</td><td style = \"text-align: right;\">0.972281</td><td style = \"text-align: right;\">1.42109e-14</td></tr><tr><td class = \"rowNumber\" style = \"font-weight: bold; text-align: right;\">3</td><td style = \"text-align: left;\">W</td><td style = \"text-align: right;\">0.983801</td><td style = \"text-align: right;\">0.0</td></tr><tr><td class = \"rowNumber\" style = \"font-weight: bold; text-align: right;\">4</td><td style = \"text-align: left;\">PL</td><td style = \"text-align: right;\">0.942809</td><td style = \"text-align: right;\">-5.68434e-14</td></tr><tr><td class = \"rowNumber\" style = \"font-weight: bold; text-align: right;\">5</td><td style = \"text-align: left;\">PW</td><td style = \"text-align: right;\">1.0</td><td style = \"text-align: right;\">-1.60526e-7</td></tr><tr><td class = \"rowNumber\" style = \"font-weight: bold; text-align: right;\">6</td><td style = \"text-align: left;\">PK</td><td style = \"text-align: right;\">0.942809</td><td style = \"text-align: right;\">2.84217e-14</td></tr><tr><td class = \"rowNumber\" style = \"font-weight: bold; text-align: right;\">7</td><td style = \"text-align: left;\">PY</td><td style = \"text-align: right;\">0.988291</td><td style = \"text-align: right;\">-1.42109e-14</td></tr><tr><td class = \"rowNumber\" style = \"font-weight: bold; text-align: right;\">8</td><td style = \"text-align: left;\">PX</td><td style = \"text-align: right;\">1.01185</td><td style = \"text-align: right;\">-5.68434e-14</td></tr><tr><td class = \"rowNumber\" style = \"font-weight: bold; text-align: right;\">9</td><td style = \"text-align: left;\">CONS</td><td style = \"text-align: right;\">196.76</td><td style = \"text-align: right;\">-1.60526e-7</td></tr><tr><td class = \"rowNumber\" style = \"font-weight: bold; text-align: right;\">10</td><td style = \"text-align: left;\">KFORWRD</td><td style = \"text-align: right;\">129.855</td><td style = \"text-align: right;\">0.0</td></tr><tr><td class = \"rowNumber\" style = \"font-weight: bold; text-align: right;\">11</td><td style = \"text-align: left;\">K</td><td style = \"text-align: right;\">55.6522</td><td style = \"text-align: right;\">0.0</td></tr></tbody></table></div>"
      ],
      "text/latex": [
       "\\begin{tabular}{r|ccc}\n",
       "\t& var & value & margin\\\\\n",
       "\t\\hline\n",
       "\t& GenericV… & Float64 & Float64\\\\\n",
       "\t\\hline\n",
       "\t1 & $ Y $ & 0.995457 & -4.26326e-14 \\\\\n",
       "\t2 & $ X $ & 0.972281 & 1.42109e-14 \\\\\n",
       "\t3 & $ W $ & 0.983801 & 0.0 \\\\\n",
       "\t4 & $ PL $ & 0.942809 & -5.68434e-14 \\\\\n",
       "\t5 & $ PW $ & 1.0 & -1.60526e-7 \\\\\n",
       "\t6 & $ PK $ & 0.942809 & 2.84217e-14 \\\\\n",
       "\t7 & $ PY $ & 0.988291 & -1.42109e-14 \\\\\n",
       "\t8 & $ PX $ & 1.01185 & -5.68434e-14 \\\\\n",
       "\t9 & $ CONS $ & 196.76 & -1.60526e-7 \\\\\n",
       "\t10 & $ KFORWRD $ & 129.855 & 0.0 \\\\\n",
       "\t11 & $ K $ & 55.6522 & 0.0 \\\\\n",
       "\\end{tabular}\n"
      ],
      "text/plain": [
       "\u001b[1m11×3 DataFrame\u001b[0m\n",
       "\u001b[1m Row \u001b[0m│\u001b[1m var       \u001b[0m\u001b[1m value      \u001b[0m\u001b[1m margin       \u001b[0m\n",
       "     │\u001b[90m GenericV… \u001b[0m\u001b[90m Float64    \u001b[0m\u001b[90m Float64      \u001b[0m\n",
       "─────┼─────────────────────────────────────\n",
       "   1 │ Y            0.995457  -4.26326e-14\n",
       "   2 │ X            0.972281   1.42109e-14\n",
       "   3 │ W            0.983801   0.0\n",
       "   4 │ PL           0.942809  -5.68434e-14\n",
       "   5 │ PW           1.0       -1.60526e-7\n",
       "   6 │ PK           0.942809   2.84217e-14\n",
       "   7 │ PY           0.988291  -1.42109e-14\n",
       "   8 │ PX           1.01185   -5.68434e-14\n",
       "   9 │ CONS       196.76      -1.60526e-7\n",
       "  10 │ KFORWRD    129.855      0.0\n",
       "  11 │ K           55.6522     0.0"
      ]
     },
     "metadata": {},
     "output_type": "display_data"
    }
   ],
   "source": [
    "set_value!(RHO, .6)\n",
    "set_value!( TAU, -(1-value(DELTA))/(1+value(RHO)))\n",
    "\n",
    "solve!(M37)\n",
    "generate_report(M37)"
   ]
  },
  {
   "cell_type": "markdown",
   "metadata": {},
   "source": [
    "# Counterfactual"
   ]
  },
  {
   "cell_type": "code",
   "execution_count": 17,
   "metadata": {},
   "outputs": [
    {
     "name": "stdout",
     "output_type": "stream",
     "text": [
      "Reading options file C:\\Users\\MPHILL~1\\AppData\\Local\\Temp\\jl_BCEA.tmp\n",
      " > cumulative_iteration_limit 10000\n",
      "Read of options file complete.\n",
      "\n",
      "Path 5.0.03 (Fri Jun 26 10:05:33 2020)\n",
      "Written by Todd Munson, Steven Dirkse, Youngdae Kim, and Michael Ferris\n",
      "\n",
      "Preprocessed size   : 10\n",
      "\n",
      "Crash Log\n",
      "major  func  diff  size  residual    step       prox   (label)\n",
      "    0     0             1.2361e+01             0.0e+00 (income_balance[CONS)\n",
      "    1     1     0    10 2.1756e+00  1.0e+00    0.0e+00 (income_balance[CONS)\n",
      "pn_search terminated: no basis change.\n",
      "\n",
      "Major Iteration Log\n",
      "major minor  func  grad  residual    step  type prox    inorm  (label)\n",
      "    0     0     2     2 2.1756e+00           I 0.0e+00 1.7e+00 (income_balance[)\n",
      "    1     1     3     3 6.9930e-03  1.0e+00 SO 0.0e+00 7.0e-03 (income_balance[)\n",
      "    2     1     4     4 1.0173e-13  1.0e+00 SO 0.0e+00 5.7e-14 (market_clearanc)\n",
      "\n",
      "Major Iterations. . . . 2\n",
      "Minor Iterations. . . . 2\n",
      "Restarts. . . . . . . . 0\n",
      "Crash Iterations. . . . 1\n",
      "Gradient Steps. . . . . 0\n",
      "Function Evaluations. . 4\n",
      "Gradient Evaluations. . 4\n",
      "Basis Time. . . . . . . 0.000000\n",
      "Total Time. . . . . . . 0.000000\n",
      "Residual. . . . . . . . 1.017345e-13\n",
      "Postsolved residual: 1.0173e-13\n",
      "\n",
      "\n",
      "Solver Status: LOCALLY_SOLVED\n",
      "Model Status: FEASIBLE_POINT"
     ]
    },
    {
     "data": {
      "text/html": [
       "<div><div style = \"float: left;\"><span>11×3 DataFrame</span></div><div style = \"clear: both;\"></div></div><div class = \"data-frame\" style = \"overflow-x: scroll;\"><table class = \"data-frame\" style = \"margin-bottom: 6px;\"><thead><tr class = \"header\"><th class = \"rowNumber\" style = \"font-weight: bold; text-align: right;\">Row</th><th style = \"text-align: left;\">var</th><th style = \"text-align: left;\">value</th><th style = \"text-align: left;\">margin</th></tr><tr class = \"subheader headerLastRow\"><th class = \"rowNumber\" style = \"font-weight: bold; text-align: right;\"></th><th title = \"JuMP.VariableRef\" style = \"text-align: left;\">GenericV…</th><th title = \"Float64\" style = \"text-align: left;\">Float64</th><th title = \"Float64\" style = \"text-align: left;\">Float64</th></tr></thead><tbody><tr><td class = \"rowNumber\" style = \"font-weight: bold; text-align: right;\">1</td><td style = \"text-align: left;\">Y</td><td style = \"text-align: right;\">0.988768</td><td style = \"text-align: right;\">-2.13163e-14</td></tr><tr><td class = \"rowNumber\" style = \"font-weight: bold; text-align: right;\">2</td><td style = \"text-align: left;\">X</td><td style = \"text-align: right;\">0.94561</td><td style = \"text-align: right;\">-1.42109e-14</td></tr><tr><td class = \"rowNumber\" style = \"font-weight: bold; text-align: right;\">3</td><td style = \"text-align: left;\">W</td><td style = \"text-align: right;\">0.966948</td><td style = \"text-align: right;\">2.84217e-14</td></tr><tr><td class = \"rowNumber\" style = \"font-weight: bold; text-align: right;\">4</td><td style = \"text-align: left;\">PL</td><td style = \"text-align: right;\">0.894427</td><td style = \"text-align: right;\">0.0</td></tr><tr><td class = \"rowNumber\" style = \"font-weight: bold; text-align: right;\">5</td><td style = \"text-align: left;\">PW</td><td style = \"text-align: right;\">1.0</td><td style = \"text-align: right;\">-1.13687e-13</td></tr><tr><td class = \"rowNumber\" style = \"font-weight: bold; text-align: right;\">6</td><td style = \"text-align: left;\">PK</td><td style = \"text-align: right;\">1.11803</td><td style = \"text-align: right;\">-2.84217e-14</td></tr><tr><td class = \"rowNumber\" style = \"font-weight: bold; text-align: right;\">7</td><td style = \"text-align: left;\">PY</td><td style = \"text-align: right;\">0.977933</td><td style = \"text-align: right;\">2.84217e-14</td></tr><tr><td class = \"rowNumber\" style = \"font-weight: bold; text-align: right;\">8</td><td style = \"text-align: left;\">PX</td><td style = \"text-align: right;\">1.02257</td><td style = \"text-align: right;\">5.68434e-14</td></tr><tr><td class = \"rowNumber\" style = \"font-weight: bold; text-align: right;\">9</td><td style = \"text-align: left;\">CONS</td><td style = \"text-align: right;\">193.39</td><td style = \"text-align: right;\">-2.84217e-14</td></tr><tr><td class = \"rowNumber\" style = \"font-weight: bold; text-align: right;\">10</td><td style = \"text-align: left;\">KFORWRD</td><td style = \"text-align: right;\">121.081</td><td style = \"text-align: right;\">1.42109e-14</td></tr><tr><td class = \"rowNumber\" style = \"font-weight: bold; text-align: right;\">11</td><td style = \"text-align: left;\">K</td><td style = \"text-align: right;\">51.8919</td><td style = \"text-align: right;\">2.22045e-16</td></tr></tbody></table></div>"
      ],
      "text/latex": [
       "\\begin{tabular}{r|ccc}\n",
       "\t& var & value & margin\\\\\n",
       "\t\\hline\n",
       "\t& GenericV… & Float64 & Float64\\\\\n",
       "\t\\hline\n",
       "\t1 & $ Y $ & 0.988768 & -2.13163e-14 \\\\\n",
       "\t2 & $ X $ & 0.94561 & -1.42109e-14 \\\\\n",
       "\t3 & $ W $ & 0.966948 & 2.84217e-14 \\\\\n",
       "\t4 & $ PL $ & 0.894427 & 0.0 \\\\\n",
       "\t5 & $ PW $ & 1.0 & -1.13687e-13 \\\\\n",
       "\t6 & $ PK $ & 1.11803 & -2.84217e-14 \\\\\n",
       "\t7 & $ PY $ & 0.977933 & 2.84217e-14 \\\\\n",
       "\t8 & $ PX $ & 1.02257 & 5.68434e-14 \\\\\n",
       "\t9 & $ CONS $ & 193.39 & -2.84217e-14 \\\\\n",
       "\t10 & $ KFORWRD $ & 121.081 & 1.42109e-14 \\\\\n",
       "\t11 & $ K $ & 51.8919 & 2.22045e-16 \\\\\n",
       "\\end{tabular}\n"
      ],
      "text/plain": [
       "\u001b[1m11×3 DataFrame\u001b[0m\n",
       "\u001b[1m Row \u001b[0m│\u001b[1m var       \u001b[0m\u001b[1m value      \u001b[0m\u001b[1m margin       \u001b[0m\n",
       "     │\u001b[90m GenericV… \u001b[0m\u001b[90m Float64    \u001b[0m\u001b[90m Float64      \u001b[0m\n",
       "─────┼─────────────────────────────────────\n",
       "   1 │ Y            0.988768  -2.13163e-14\n",
       "   2 │ X            0.94561   -1.42109e-14\n",
       "   3 │ W            0.966948   2.84217e-14\n",
       "   4 │ PL           0.894427   0.0\n",
       "   5 │ PW           1.0       -1.13687e-13\n",
       "   6 │ PK           1.11803   -2.84217e-14\n",
       "   7 │ PY           0.977933   2.84217e-14\n",
       "   8 │ PX           1.02257    5.68434e-14\n",
       "   9 │ CONS       193.39      -2.84217e-14\n",
       "  10 │ KFORWRD    121.081      1.42109e-14\n",
       "  11 │ K           51.8919     2.22045e-16"
      ]
     },
     "metadata": {},
     "output_type": "display_data"
    }
   ],
   "source": [
    "set_value!(RHO, .4)\n",
    "set_value!( TAU, -(1-value(DELTA))/(1+value(RHO)))\n",
    "\n",
    "set_value!(KTAX,.2)\n",
    "\n",
    "solve!(M37)\n",
    "generate_report(M37)"
   ]
  },
  {
   "cell_type": "code",
   "execution_count": null,
   "metadata": {},
   "outputs": [],
   "source": []
  }
 ],
 "metadata": {
  "kernelspec": {
   "display_name": "Julia 1.9.2",
   "language": "julia",
   "name": "julia-1.9"
  },
  "language_info": {
   "file_extension": ".jl",
   "mimetype": "application/julia",
   "name": "julia",
   "version": "1.9.2"
  }
 },
 "nbformat": 4,
 "nbformat_minor": 2
}
