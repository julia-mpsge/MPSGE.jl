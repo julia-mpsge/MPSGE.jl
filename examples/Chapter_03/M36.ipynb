{
 "cells": [
  {
   "cell_type": "markdown",
   "metadata": {},
   "source": [
    "# Model M36\n",
    "\n",
    "|Markets      |    X  |     Y  |      W    |       CONS |\n",
    "|-------------|-------|--------|-----------|------------|\n",
    "|        PX   |  100  |        |   -100    | |\n",
    "|        PY   |       |   100  |   -100    | |\n",
    "|        PW   |       |        |    200    |       -200 |\n",
    "|        PL   |  -20  |   -60  |           |        100*(1-U) |\n",
    "|        PK   |  -60  |   -40  |           |        100|\n",
    "|        TAX  |  -20  |     0  |           |         20|"
   ]
  },
  {
   "cell_type": "code",
   "execution_count": 1,
   "metadata": {},
   "outputs": [],
   "source": [
    "using MPSGE"
   ]
  },
  {
   "cell_type": "code",
   "execution_count": 4,
   "metadata": {},
   "outputs": [],
   "source": [
    "M36 = MPSGEModel()\n",
    "\n",
    "U0 = .2\n",
    "\n",
    "@parameters(M36, begin\n",
    "    TX, 0, (description = \"Proportional output tax on sector X\",)\n",
    "    TY, 0, (description = \"Proportional output tax on sector Y\",)\n",
    "    TLX, 1, (description = \"Ad-valorem tax on labor inputs to X\",)\n",
    "    TKX, 0, (description = \"Ad-valorem tax on capital inputs to X\",)\n",
    "end)\n",
    "\n",
    "@sectors(M36, begin\n",
    "\tX,\t(description = \"Activity level for sector X\",)\n",
    "\tY,\t(description = \"Activity level for sector Y\",)\n",
    "\tW,\t(description = \"Activity level for sector W (Hicksian welfare index)\",)\n",
    "end)\n",
    "\n",
    "@commodities(M36, begin\n",
    "\tPX,\t(description = \"Price index for commodity X\",)\n",
    "\tPY,\t(description = \"Price index for commodity Y\",)\n",
    "\tPL,\t(description = \"Price index for primary factor L (net of tax)\",)\n",
    "\tPK,\t(description = \"Price index for primary factor K\",)\n",
    "\tPW,\t(description = \"Price index for welfare (expenditure function)\",)\n",
    "end)\n",
    "\n",
    "@consumers(M36, begin\n",
    "\tCONS,\t(description = \"Income level for consumer CONS\",)\n",
    "end)\n",
    "\n",
    "@auxiliaries(M36, begin\n",
    "\tU,\t(description = \"Unemployment rate\",)\n",
    "end)\n",
    "\n",
    "\n",
    "@production(M36, X, [s=1,t=0], begin\n",
    "    @output(PX, 100, t, taxes = [Tax(CONS,TX)])\n",
    "    @input(PL, 20, s, taxes = [Tax(CONS, TLX)], reference_price = 2)\n",
    "    @input(PK, 60, s, taxes = [Tax(CONS, TKX)])\n",
    "end)\n",
    "\n",
    "@production(M36, Y, [s=1,t=0], begin\n",
    "    @output(PY, 100, t, taxes=[Tax(CONS, TY)])\n",
    "    @input(PL, 60, s)\n",
    "    @input(PK, 40, s)\n",
    "end)\n",
    "\n",
    "@production(M36, W, [s=1, t=0], begin\n",
    "    @output(PW, 200, t)\n",
    "    @input(PX, 100, s)\n",
    "    @input(PY, 100, s)\n",
    "end)\n",
    "\n",
    "@demand(M36, CONS, begin\n",
    "    @final_demand(PW, 200)\n",
    "    end,begin\n",
    "    @endowment(PL, 80/(1-U0)-80*U/(1-U0))\n",
    "    @endowment(PK, 100)\n",
    "end)\n",
    "\n",
    "@aux_constraint(M36, U,\n",
    "    PL - PW\n",
    ");"
   ]
  },
  {
   "cell_type": "markdown",
   "metadata": {},
   "source": [
    "# Benchmark"
   ]
  },
  {
   "cell_type": "code",
   "execution_count": 6,
   "metadata": {},
   "outputs": [
    {
     "name": "stdout",
     "output_type": "stream",
     "text": [
      "Reading options file C:\\Users\\MPHILL~1\\AppData\\Local\\Temp\\jl_95D2.tmp\n",
      " > cumulative_iteration_limit 0\n",
      "Read of options file complete.\n",
      "\n",
      "Path 5.0.03 (Fri Jun 26 10:05:33 2020)\n",
      "Written by Todd Munson, Steven Dirkse, Youngdae Kim, and Michael Ferris\n",
      "Preprocessed size   : 9\n",
      "\n",
      "Major Iteration Log\n",
      "major minor  func  grad  residual    step  type prox    inorm  (label)\n",
      "    0     0     1     1 0.0000e+00           I 0.0e+00 0.0e+00 (zero_profit[X)\n",
      "\n",
      "Major Iterations. . . . 0\n",
      "Minor Iterations. . . . 0\n",
      "Restarts. . . . . . . . 0\n",
      "Crash Iterations. . . . 0\n",
      "Gradient Steps. . . . . 0\n",
      "Function Evaluations. . 1\n",
      "Gradient Evaluations. . 1\n",
      "Basis Time. . . . . . . 0.000000\n",
      "Total Time. . . . . . . 0.063000\n",
      "Residual. . . . . . . . 0.000000e+00\n",
      "Postsolved residual: 0.0000e+00\n",
      "\n",
      "\n",
      "Solver Status: LOCALLY_SOLVED\n",
      "Model Status: FEASIBLE_POINT"
     ]
    },
    {
     "data": {
      "text/html": [
       "<div><div style = \"float: left;\"><span>10×3 DataFrame</span></div><div style = \"clear: both;\"></div></div><div class = \"data-frame\" style = \"overflow-x: scroll;\"><table class = \"data-frame\" style = \"margin-bottom: 6px;\"><thead><tr class = \"header\"><th class = \"rowNumber\" style = \"font-weight: bold; text-align: right;\">Row</th><th style = \"text-align: left;\">var</th><th style = \"text-align: left;\">value</th><th style = \"text-align: left;\">margin</th></tr><tr class = \"subheader headerLastRow\"><th class = \"rowNumber\" style = \"font-weight: bold; text-align: right;\"></th><th title = \"JuMP.VariableRef\" style = \"text-align: left;\">GenericV…</th><th title = \"Float64\" style = \"text-align: left;\">Float64</th><th title = \"Float64\" style = \"text-align: left;\">Float64</th></tr></thead><tbody><tr><td class = \"rowNumber\" style = \"font-weight: bold; text-align: right;\">1</td><td style = \"text-align: left;\">Y</td><td style = \"text-align: right;\">1.0</td><td style = \"text-align: right;\">0.0</td></tr><tr><td class = \"rowNumber\" style = \"font-weight: bold; text-align: right;\">2</td><td style = \"text-align: left;\">X</td><td style = \"text-align: right;\">1.0</td><td style = \"text-align: right;\">0.0</td></tr><tr><td class = \"rowNumber\" style = \"font-weight: bold; text-align: right;\">3</td><td style = \"text-align: left;\">W</td><td style = \"text-align: right;\">1.0</td><td style = \"text-align: right;\">0.0</td></tr><tr><td class = \"rowNumber\" style = \"font-weight: bold; text-align: right;\">4</td><td style = \"text-align: left;\">PL</td><td style = \"text-align: right;\">1.0</td><td style = \"text-align: right;\">0.0</td></tr><tr><td class = \"rowNumber\" style = \"font-weight: bold; text-align: right;\">5</td><td style = \"text-align: left;\">PW</td><td style = \"text-align: right;\">1.0</td><td style = \"text-align: right;\">0.0</td></tr><tr><td class = \"rowNumber\" style = \"font-weight: bold; text-align: right;\">6</td><td style = \"text-align: left;\">PK</td><td style = \"text-align: right;\">1.0</td><td style = \"text-align: right;\">0.0</td></tr><tr><td class = \"rowNumber\" style = \"font-weight: bold; text-align: right;\">7</td><td style = \"text-align: left;\">PY</td><td style = \"text-align: right;\">1.0</td><td style = \"text-align: right;\">0.0</td></tr><tr><td class = \"rowNumber\" style = \"font-weight: bold; text-align: right;\">8</td><td style = \"text-align: left;\">PX</td><td style = \"text-align: right;\">1.0</td><td style = \"text-align: right;\">0.0</td></tr><tr><td class = \"rowNumber\" style = \"font-weight: bold; text-align: right;\">9</td><td style = \"text-align: left;\">CONS</td><td style = \"text-align: right;\">200.0</td><td style = \"text-align: right;\">0.0</td></tr><tr><td class = \"rowNumber\" style = \"font-weight: bold; text-align: right;\">10</td><td style = \"text-align: left;\">U</td><td style = \"text-align: right;\">0.2</td><td style = \"text-align: right;\">0.0</td></tr></tbody></table></div>"
      ],
      "text/latex": [
       "\\begin{tabular}{r|ccc}\n",
       "\t& var & value & margin\\\\\n",
       "\t\\hline\n",
       "\t& GenericV… & Float64 & Float64\\\\\n",
       "\t\\hline\n",
       "\t1 & $ Y $ & 1.0 & 0.0 \\\\\n",
       "\t2 & $ X $ & 1.0 & 0.0 \\\\\n",
       "\t3 & $ W $ & 1.0 & 0.0 \\\\\n",
       "\t4 & $ PL $ & 1.0 & 0.0 \\\\\n",
       "\t5 & $ PW $ & 1.0 & 0.0 \\\\\n",
       "\t6 & $ PK $ & 1.0 & 0.0 \\\\\n",
       "\t7 & $ PY $ & 1.0 & 0.0 \\\\\n",
       "\t8 & $ PX $ & 1.0 & 0.0 \\\\\n",
       "\t9 & $ CONS $ & 200.0 & 0.0 \\\\\n",
       "\t10 & $ U $ & 0.2 & 0.0 \\\\\n",
       "\\end{tabular}\n"
      ],
      "text/plain": [
       "\u001b[1m10×3 DataFrame\u001b[0m\n",
       "\u001b[1m Row \u001b[0m│\u001b[1m var       \u001b[0m\u001b[1m value   \u001b[0m\u001b[1m margin  \u001b[0m\n",
       "     │\u001b[90m GenericV… \u001b[0m\u001b[90m Float64 \u001b[0m\u001b[90m Float64 \u001b[0m\n",
       "─────┼─────────────────────────────\n",
       "   1 │ Y              1.0      0.0\n",
       "   2 │ X              1.0      0.0\n",
       "   3 │ W              1.0      0.0\n",
       "   4 │ PL             1.0      0.0\n",
       "   5 │ PW             1.0      0.0\n",
       "   6 │ PK             1.0      0.0\n",
       "   7 │ PY             1.0      0.0\n",
       "   8 │ PX             1.0      0.0\n",
       "   9 │ CONS         200.0      0.0\n",
       "  10 │ U              0.2      0.0"
      ]
     },
     "metadata": {},
     "output_type": "display_data"
    }
   ],
   "source": [
    "set_start_value(U, U0)\n",
    "\n",
    "fix(PW,1)\n",
    "\n",
    "solve!(M36; cumulative_iteration_limit=0)\n",
    "generate_report(M36)"
   ]
  },
  {
   "cell_type": "markdown",
   "metadata": {},
   "source": [
    "# Counterfactual"
   ]
  },
  {
   "cell_type": "code",
   "execution_count": 8,
   "metadata": {},
   "outputs": [
    {
     "name": "stdout",
     "output_type": "stream",
     "text": [
      "Reading options file C:\\Users\\MPHILL~1\\AppData\\Local\\Temp\\jl_76AD.tmp\n",
      " > cumulative_iteration_limit 10000\n",
      "Read of options file complete.\n",
      "\n",
      "Path 5.0.03 (Fri Jun 26 10:05:33 2020)\n",
      "Written by Todd Munson, Steven Dirkse, Youngdae Kim, and Michael Ferris\n",
      "\n",
      "Preprocessed size   : 9\n",
      "\n",
      "Crash Log\n",
      "major  func  diff  size  residual    step       prox   (label)\n",
      "    0     0             2.9730e+01             0.0e+00 (market_clearance[PK)\n",
      "    1     1     1     9 9.3746e+00  1.0e+00    0.0e+00 (income_balance[CONS)\n",
      "pn_search terminated: no basis change.\n",
      "\n",
      "Major Iteration Log\n",
      "major minor  func  grad  residual    step  type prox    inorm  (label)\n",
      "    0     0     2     2 9.3746e+00           I 0.0e+00 9.3e+00 (income_balance[)\n",
      "    1     2     3     3 3.3608e-01  1.0e+00 SO 0.0e+00 2.7e-01 (market_clearanc)\n",
      "    2     1     4     4 7.8371e-04  1.0e+00 SO 0.0e+00 6.7e-04 (market_clearanc)\n",
      "    3     1     5     5 3.4958e-09  1.0e+00 SO 0.0e+00 3.0e-09 (market_clearanc)\n",
      "\n",
      "Major Iterations. . . . 3\n",
      "Minor Iterations. . . . 4\n",
      "Restarts. . . . . . . . 0\n",
      "Crash Iterations. . . . 1\n",
      "Gradient Steps. . . . . 0\n",
      "Function Evaluations. . 5\n",
      "Gradient Evaluations. . 5\n",
      "Basis Time. . . . . . . 0.000000\n",
      "Total Time. . . . . . . 0.016000\n",
      "Residual. . . . . . . . 3.495847e-09\n",
      "Postsolved residual: 3.4958e-09\n",
      "\n",
      "\n",
      "Solver Status: LOCALLY_SOLVED\n",
      "Model Status: FEASIBLE_POINT"
     ]
    },
    {
     "data": {
      "text/html": [
       "<div><div style = \"float: left;\"><span>10×3 DataFrame</span></div><div style = \"clear: both;\"></div></div><div class = \"data-frame\" style = \"overflow-x: scroll;\"><table class = \"data-frame\" style = \"margin-bottom: 6px;\"><thead><tr class = \"header\"><th class = \"rowNumber\" style = \"font-weight: bold; text-align: right;\">Row</th><th style = \"text-align: left;\">var</th><th style = \"text-align: left;\">value</th><th style = \"text-align: left;\">margin</th></tr><tr class = \"subheader headerLastRow\"><th class = \"rowNumber\" style = \"font-weight: bold; text-align: right;\"></th><th title = \"JuMP.VariableRef\" style = \"text-align: left;\">GenericV…</th><th title = \"Float64\" style = \"text-align: left;\">Float64</th><th title = \"Float64\" style = \"text-align: left;\">Float64</th></tr></thead><tbody><tr><td class = \"rowNumber\" style = \"font-weight: bold; text-align: right;\">1</td><td style = \"text-align: left;\">Y</td><td style = \"text-align: right;\">1.10646</td><td style = \"text-align: right;\">-1.05846e-9</td></tr><tr><td class = \"rowNumber\" style = \"font-weight: bold; text-align: right;\">2</td><td style = \"text-align: left;\">X</td><td style = \"text-align: right;\">1.17841</td><td style = \"text-align: right;\">-9.93822e-10</td></tr><tr><td class = \"rowNumber\" style = \"font-weight: bold; text-align: right;\">3</td><td style = \"text-align: left;\">W</td><td style = \"text-align: right;\">1.14187</td><td style = \"text-align: right;\">-8.5663e-11</td></tr><tr><td class = \"rowNumber\" style = \"font-weight: bold; text-align: right;\">4</td><td style = \"text-align: left;\">PL</td><td style = \"text-align: right;\">1.05052</td><td style = \"text-align: right;\">2.97665e-9</td></tr><tr><td class = \"rowNumber\" style = \"font-weight: bold; text-align: right;\">5</td><td style = \"text-align: left;\">PW</td><td style = \"text-align: right;\">1.0</td><td style = \"text-align: right;\">-4.35267e-9</td></tr><tr><td class = \"rowNumber\" style = \"font-weight: bold; text-align: right;\">6</td><td style = \"text-align: left;\">PK</td><td style = \"text-align: right;\">1.00484</td><td style = \"text-align: right;\">-1.01397e-9</td></tr><tr><td class = \"rowNumber\" style = \"font-weight: bold; text-align: right;\">7</td><td style = \"text-align: left;\">PY</td><td style = \"text-align: right;\">1.032</td><td style = \"text-align: right;\">2.93568e-10</td></tr><tr><td class = \"rowNumber\" style = \"font-weight: bold; text-align: right;\">8</td><td style = \"text-align: left;\">PX</td><td style = \"text-align: right;\">0.968988</td><td style = \"text-align: right;\">-2.11813e-10</td></tr><tr><td class = \"rowNumber\" style = \"font-weight: bold; text-align: right;\">9</td><td style = \"text-align: left;\">CONS</td><td style = \"text-align: right;\">228.374</td><td style = \"text-align: right;\">2.93284e-10</td></tr><tr><td class = \"rowNumber\" style = \"font-weight: bold; text-align: right;\">10</td><td style = \"text-align: left;\">U</td><td style = \"text-align: right;\">0.0</td><td style = \"text-align: right;\">0.0505182</td></tr></tbody></table></div>"
      ],
      "text/latex": [
       "\\begin{tabular}{r|ccc}\n",
       "\t& var & value & margin\\\\\n",
       "\t\\hline\n",
       "\t& GenericV… & Float64 & Float64\\\\\n",
       "\t\\hline\n",
       "\t1 & $ Y $ & 1.10646 & -1.05846e-9 \\\\\n",
       "\t2 & $ X $ & 1.17841 & -9.93822e-10 \\\\\n",
       "\t3 & $ W $ & 1.14187 & -8.5663e-11 \\\\\n",
       "\t4 & $ PL $ & 1.05052 & 2.97665e-9 \\\\\n",
       "\t5 & $ PW $ & 1.0 & -4.35267e-9 \\\\\n",
       "\t6 & $ PK $ & 1.00484 & -1.01397e-9 \\\\\n",
       "\t7 & $ PY $ & 1.032 & 2.93568e-10 \\\\\n",
       "\t8 & $ PX $ & 0.968988 & -2.11813e-10 \\\\\n",
       "\t9 & $ CONS $ & 228.374 & 2.93284e-10 \\\\\n",
       "\t10 & $ U $ & 0.0 & 0.0505182 \\\\\n",
       "\\end{tabular}\n"
      ],
      "text/plain": [
       "\u001b[1m10×3 DataFrame\u001b[0m\n",
       "\u001b[1m Row \u001b[0m│\u001b[1m var       \u001b[0m\u001b[1m value      \u001b[0m\u001b[1m margin       \u001b[0m\n",
       "     │\u001b[90m GenericV… \u001b[0m\u001b[90m Float64    \u001b[0m\u001b[90m Float64      \u001b[0m\n",
       "─────┼─────────────────────────────────────\n",
       "   1 │ Y            1.10646   -1.05846e-9\n",
       "   2 │ X            1.17841   -9.93822e-10\n",
       "   3 │ W            1.14187   -8.5663e-11\n",
       "   4 │ PL           1.05052    2.97665e-9\n",
       "   5 │ PW           1.0       -4.35267e-9\n",
       "   6 │ PK           1.00484   -1.01397e-9\n",
       "   7 │ PY           1.032      2.93568e-10\n",
       "   8 │ PX           0.968988  -2.11813e-10\n",
       "   9 │ CONS       228.374      2.93284e-10\n",
       "  10 │ U            0.0        0.0505182"
      ]
     },
     "metadata": {},
     "output_type": "display_data"
    }
   ],
   "source": [
    "set_value!(TLX, .25)\n",
    "set_value!(TKX, .25)\n",
    "set_value!(TX, 0)\n",
    "set_value!(TY, 0)\n",
    "\n",
    "solve!(M36)\n",
    "generate_report(M36)"
   ]
  },
  {
   "cell_type": "markdown",
   "metadata": {},
   "source": [
    "# Counterfactual"
   ]
  },
  {
   "cell_type": "code",
   "execution_count": 9,
   "metadata": {},
   "outputs": [
    {
     "name": "stdout",
     "output_type": "stream",
     "text": [
      "Reading options file C:\\Users\\MPHILL~1\\AppData\\Local\\Temp\\jl_E288.tmp\n",
      " > cumulative_iteration_limit 10000\n",
      "Read of options file complete.\n",
      "\n",
      "Path 5.0.03 (Fri Jun 26 10:05:33 2020)\n",
      "Written by Todd Munson, Steven Dirkse, Youngdae Kim, and Michael Ferris\n",
      "\n",
      "Preprocessed size   : 8\n",
      "\n",
      "Crash Log\n",
      "major  func  diff  size  residual    step       prox   (label)\n",
      "    0     0             2.9730e+01             0.0e+00 (market_clearance[PK)\n",
      "    1     1     0     8 1.8637e+00  1.0e+00    0.0e+00 (zero_profit[Y)\n",
      "pn_search terminated: no basis change.\n",
      "\n",
      "Major Iteration Log\n",
      "major minor  func  grad  residual    step  type prox    inorm  (label)\n",
      "    0     0     2     2 1.8637e+00           I 0.0e+00 1.2e+00 (zero_profit[Y)\n",
      "    1     1     3     3 1.6985e-03  1.0e+00 SO 0.0e+00 1.4e-03 (income_balance[)\n",
      "    2     1     4     4 4.9963e-09  1.0e+00 SO 0.0e+00 2.8e-09 (market_clearanc)\n",
      "\n",
      "Major Iterations. . . . 2\n",
      "Minor Iterations. . . . 2\n",
      "Restarts. . . . . . . . 0\n",
      "Crash Iterations. . . . 1\n",
      "Gradient Steps. . . . . 0\n",
      "Function Evaluations. . 4\n",
      "Gradient Evaluations. . 4\n",
      "Basis Time. . . . . . . 0.000000\n",
      "Total Time. . . . . . . 0.000000\n",
      "Residual. . . . . . . . 4.996320e-09\n",
      "Postsolved residual: 4.9963e-09\n",
      "\n",
      "\n",
      "Solver Status: LOCALLY_SOLVED\n",
      "Model Status: FEASIBLE_POINT"
     ]
    },
    {
     "data": {
      "text/html": [
       "<div><div style = \"float: left;\"><span>10×3 DataFrame</span></div><div style = \"clear: both;\"></div></div><div class = \"data-frame\" style = \"overflow-x: scroll;\"><table class = \"data-frame\" style = \"margin-bottom: 6px;\"><thead><tr class = \"header\"><th class = \"rowNumber\" style = \"font-weight: bold; text-align: right;\">Row</th><th style = \"text-align: left;\">var</th><th style = \"text-align: left;\">value</th><th style = \"text-align: left;\">margin</th></tr><tr class = \"subheader headerLastRow\"><th class = \"rowNumber\" style = \"font-weight: bold; text-align: right;\"></th><th title = \"JuMP.VariableRef\" style = \"text-align: left;\">GenericV…</th><th title = \"Float64\" style = \"text-align: left;\">Float64</th><th title = \"Float64\" style = \"text-align: left;\">Float64</th></tr></thead><tbody><tr><td class = \"rowNumber\" style = \"font-weight: bold; text-align: right;\">1</td><td style = \"text-align: left;\">Y</td><td style = \"text-align: right;\">0.967806</td><td style = \"text-align: right;\">-2.70312e-9</td></tr><tr><td class = \"rowNumber\" style = \"font-weight: bold; text-align: right;\">2</td><td style = \"text-align: left;\">X</td><td style = \"text-align: right;\">1.07779</td><td style = \"text-align: right;\">-2.4273e-9</td></tr><tr><td class = \"rowNumber\" style = \"font-weight: bold; text-align: right;\">3</td><td style = \"text-align: left;\">W</td><td style = \"text-align: right;\">1.02132</td><td style = \"text-align: right;\">-2.13532e-10</td></tr><tr><td class = \"rowNumber\" style = \"font-weight: bold; text-align: right;\">4</td><td style = \"text-align: left;\">PL</td><td style = \"text-align: right;\">1.17452</td><td style = \"text-align: right;\">1.8678e-9</td></tr><tr><td class = \"rowNumber\" style = \"font-weight: bold; text-align: right;\">5</td><td style = \"text-align: left;\">PW</td><td style = \"text-align: right;\">1.0</td><td style = \"text-align: right;\">-9.77187e-9</td></tr><tr><td class = \"rowNumber\" style = \"font-weight: bold; text-align: right;\">6</td><td style = \"text-align: left;\">PK</td><td style = \"text-align: right;\">0.898759</td><td style = \"text-align: right;\">2.79861e-9</td></tr><tr><td class = \"rowNumber\" style = \"font-weight: bold; text-align: right;\">7</td><td style = \"text-align: left;\">PY</td><td style = \"text-align: right;\">1.05529</td><td style = \"text-align: right;\">5.4925e-11</td></tr><tr><td class = \"rowNumber\" style = \"font-weight: bold; text-align: right;\">8</td><td style = \"text-align: left;\">PX</td><td style = \"text-align: right;\">0.947605</td><td style = \"text-align: right;\">1.68768e-10</td></tr><tr><td class = \"rowNumber\" style = \"font-weight: bold; text-align: right;\">9</td><td style = \"text-align: left;\">CONS</td><td style = \"text-align: right;\">204.263</td><td style = \"text-align: right;\">6.05382e-10</td></tr><tr><td class = \"rowNumber\" style = \"font-weight: bold; text-align: right;\">10</td><td style = \"text-align: left;\">U</td><td style = \"text-align: right;\">0.2</td><td style = \"text-align: right;\">0.174515</td></tr></tbody></table></div>"
      ],
      "text/latex": [
       "\\begin{tabular}{r|ccc}\n",
       "\t& var & value & margin\\\\\n",
       "\t\\hline\n",
       "\t& GenericV… & Float64 & Float64\\\\\n",
       "\t\\hline\n",
       "\t1 & $ Y $ & 0.967806 & -2.70312e-9 \\\\\n",
       "\t2 & $ X $ & 1.07779 & -2.4273e-9 \\\\\n",
       "\t3 & $ W $ & 1.02132 & -2.13532e-10 \\\\\n",
       "\t4 & $ PL $ & 1.17452 & 1.8678e-9 \\\\\n",
       "\t5 & $ PW $ & 1.0 & -9.77187e-9 \\\\\n",
       "\t6 & $ PK $ & 0.898759 & 2.79861e-9 \\\\\n",
       "\t7 & $ PY $ & 1.05529 & 5.4925e-11 \\\\\n",
       "\t8 & $ PX $ & 0.947605 & 1.68768e-10 \\\\\n",
       "\t9 & $ CONS $ & 204.263 & 6.05382e-10 \\\\\n",
       "\t10 & $ U $ & 0.2 & 0.174515 \\\\\n",
       "\\end{tabular}\n"
      ],
      "text/plain": [
       "\u001b[1m10×3 DataFrame\u001b[0m\n",
       "\u001b[1m Row \u001b[0m│\u001b[1m var       \u001b[0m\u001b[1m value      \u001b[0m\u001b[1m margin       \u001b[0m\n",
       "     │\u001b[90m GenericV… \u001b[0m\u001b[90m Float64    \u001b[0m\u001b[90m Float64      \u001b[0m\n",
       "─────┼─────────────────────────────────────\n",
       "   1 │ Y            0.967806  -2.70312e-9\n",
       "   2 │ X            1.07779   -2.4273e-9\n",
       "   3 │ W            1.02132   -2.13532e-10\n",
       "   4 │ PL           1.17452    1.8678e-9\n",
       "   5 │ PW           1.0       -9.77187e-9\n",
       "   6 │ PK           0.898759   2.79861e-9\n",
       "   7 │ PY           1.05529    5.4925e-11\n",
       "   8 │ PX           0.947605   1.68768e-10\n",
       "   9 │ CONS       204.263      6.05382e-10\n",
       "  10 │ U            0.2        0.174515"
      ]
     },
     "metadata": {},
     "output_type": "display_data"
    }
   ],
   "source": [
    "fix(U,.2)\n",
    "\n",
    "solve!(M36)\n",
    "generate_report(M36)"
   ]
  },
  {
   "cell_type": "code",
   "execution_count": null,
   "metadata": {},
   "outputs": [],
   "source": []
  }
 ],
 "metadata": {
  "kernelspec": {
   "display_name": "Julia 1.9.2",
   "language": "julia",
   "name": "julia-1.9"
  },
  "language_info": {
   "file_extension": ".jl",
   "mimetype": "application/julia",
   "name": "julia",
   "version": "1.9.2"
  }
 },
 "nbformat": 4,
 "nbformat_minor": 2
}
