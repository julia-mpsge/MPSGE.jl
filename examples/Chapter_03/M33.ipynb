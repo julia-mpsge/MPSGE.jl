{
 "cells": [
  {
   "cell_type": "markdown",
   "metadata": {},
   "source": [
    "# Model M33\n",
    "\n",
    "\n",
    "|Markets   |    A   |    B   |     W   |   TL  |  TK  |    |   CONS|\n",
    "|----------|--------|--------|---------|-------|------|----|------ |\n",
    "|PX        |  120   |        |  -120   |       |      |    |       |    \n",
    "|PY        |        |  120   |  -120   |       |      |    |       |        \n",
    "|PW        |        |        |   340   |       |      |    |  -340 | \n",
    "|PLS       |  -48   |  -72   |         |  120  |      |    |       |     \n",
    "|PKS       |  -72   |  -48   |         |       |   120|    |       |       \n",
    "|PL        |        |        |  -100   | -100  |      |    |200    |     \n",
    "|PK        |        |        |         |       |  -100|    |100    |      \n",
    "|TAX       |        |        |         |  -20  |   -20|    |  40   |    \n"
   ]
  },
  {
   "cell_type": "code",
   "execution_count": 1,
   "metadata": {},
   "outputs": [],
   "source": [
    "using MPSGE\n",
    "using DataFrames"
   ]
  },
  {
   "cell_type": "code",
   "execution_count": 4,
   "metadata": {},
   "outputs": [],
   "source": [
    "M33 = MPSGEModel()\n",
    "\n",
    "\n",
    "txl0 = 20/100\n",
    "\n",
    "@parameters(M33, begin\n",
    "    TXL, txl0, (description = \"Labor income tax rate\",)\n",
    "end)\n",
    "\n",
    "@sectors(M33, begin\n",
    "    X,\t(description = \" Activity level for sector X\",)\n",
    "    Y,\t(description = \" Activity level for sector Y\",)\n",
    "    W,\t(description = \" Activity level for sector W (Hicksian welfare index)\",)\n",
    "    TL,\t(description = \" Supply activity for L\",)\n",
    "    TK,\t(description = \" Supply activity for K\",)\n",
    "end)\n",
    "\n",
    "\n",
    "@commodities(M33, begin\n",
    "    PX,\t(description = \" Price index for commodity X\",)\n",
    "    PY,\t(description = \" Price index for commodity Y\",)\n",
    "    PL,\t(description = \" Price index for primary factor L (net of tax)\",)\n",
    "    PK,\t(description = \" Price index for primary factor K (net of tax)\",)\n",
    "    PLS,\t(description = \" Price index for primary factor L (gross of tax)\",)\n",
    "    PKS,\t(description = \" Price index for primary factor K (gross of tax)\",)\n",
    "    PW,\t(description = \" Price index for welfare (expenditure function)\",)\n",
    "end)\n",
    "\n",
    "@consumer(M33, CONS, description = \"Income level for consumer CONS\")\n",
    "\n",
    "@auxiliary(M33, TXK, description = \"Endogenous captial tax from equal yield constraint\")\n",
    "\n",
    "@production(M33, X, [s=1,t=0], begin\n",
    "    @output(PX, 120, t)\n",
    "    @input(PLS, 40, s, reference_price = 1.2)\n",
    "    @input(PKS, 60, s, reference_price = 1.2)\n",
    "end)\n",
    "\n",
    "@production(M33, Y, [s=1,t=0], begin\n",
    "    @output(PY, 120, t)\n",
    "    @input(PLS, 60, s, reference_price = 1.2)\n",
    "    @input(PKS, 40, s, reference_price = 1.2)\n",
    "end)\n",
    "\n",
    "@production(M33, TL, [s=0,t=0], begin\n",
    "    @output(PLS, 100, t , reference_price = 1.2)\n",
    "    @input(PL, 100, s, taxes = [Tax(CONS, TXL)])\n",
    "end)\n",
    "\n",
    "@production(M33, TK, [s=0,t=0], begin\n",
    "    @output(PKS, 100, t, reference_price = 1.2)\n",
    "    @input(PK, 100, s, taxes = [Tax(CONS, TXK)])\n",
    "end)\n",
    "\n",
    "@production(M33, W, [s=.7, a=>s=1, t=0], begin\n",
    "    @output(PW, 340, t)\n",
    "    @input(PX, 120, a)\n",
    "    @input(PY, 120, a)\n",
    "    @input(PL, 100, s)\n",
    "end)\n",
    "\n",
    "@demand(M33, CONS, begin\n",
    "    @final_demand(PW, 340)\n",
    "    end,begin\n",
    "    @endowment(PL, 200)\n",
    "    @endowment(PK, 100)\n",
    "end)\n",
    "\n",
    "@aux_constraint(M33, TXK,\n",
    "    TXL*PL*TL*100 + TXK*PK*TK*100 - 40 * (PX+PY)/2\n",
    ");"
   ]
  },
  {
   "cell_type": "markdown",
   "metadata": {},
   "source": [
    "# Benchmark"
   ]
  },
  {
   "cell_type": "code",
   "execution_count": 5,
   "metadata": {},
   "outputs": [
    {
     "name": "stdout",
     "output_type": "stream",
     "text": [
      "Reading options file C:\\Users\\MPHILL~1\\AppData\\Local\\Temp\\jl_5AE.tmp\n",
      " > cumulative_iteration_limit 0\n",
      "Read of options file complete.\n",
      "\n",
      "Path 5.0.03 (Fri Jun 26 10:05:33 2020)\n",
      "Written by Todd Munson, Steven Dirkse, Youngdae Kim, and Michael Ferris\n",
      "Preprocessed size   : 13\n",
      "\n",
      "Major Iteration Log\n",
      "major minor  func  grad  residual    step  type prox    inorm  (label)\n",
      "    0     0     1     1 0.0000e+00           I 0.0e+00 0.0e+00 (zero_profit[X)\n",
      "\n",
      "Major Iterations. . . . 0\n",
      "Minor Iterations. . . . 0\n",
      "Restarts. . . . . . . . 0\n",
      "Crash Iterations. . . . 0\n",
      "Gradient Steps. . . . . 0\n",
      "Function Evaluations. . 1\n",
      "Gradient Evaluations. . 1\n",
      "Basis Time. . . . . . . 0.000000\n",
      "Total Time. . . . . . . 0.062000\n",
      "Residual. . . . . . . . 0.000000e+00\n",
      "Postsolved residual: 0.0000e+00\n",
      "\n",
      "\n",
      "Solver Status: LOCALLY_SOLVED\n",
      "Model Status: FEASIBLE_POINT\n",
      "\n",
      "Default price normalization using income for CONS - This value is fixed. Unfix with unfix(CONS)."
     ]
    },
    {
     "data": {
      "text/html": [
       "<div><div style = \"float: left;\"><span>14×3 DataFrame</span></div><div style = \"clear: both;\"></div></div><div class = \"data-frame\" style = \"overflow-x: scroll;\"><table class = \"data-frame\" style = \"margin-bottom: 6px;\"><thead><tr class = \"header\"><th class = \"rowNumber\" style = \"font-weight: bold; text-align: right;\">Row</th><th style = \"text-align: left;\">var</th><th style = \"text-align: left;\">value</th><th style = \"text-align: left;\">margin</th></tr><tr class = \"subheader headerLastRow\"><th class = \"rowNumber\" style = \"font-weight: bold; text-align: right;\"></th><th title = \"JuMP.VariableRef\" style = \"text-align: left;\">GenericV…</th><th title = \"Float64\" style = \"text-align: left;\">Float64</th><th title = \"Float64\" style = \"text-align: left;\">Float64</th></tr></thead><tbody><tr><td class = \"rowNumber\" style = \"font-weight: bold; text-align: right;\">1</td><td style = \"text-align: left;\">W</td><td style = \"text-align: right;\">1.0</td><td style = \"text-align: right;\">0.0</td></tr><tr><td class = \"rowNumber\" style = \"font-weight: bold; text-align: right;\">2</td><td style = \"text-align: left;\">X</td><td style = \"text-align: right;\">1.0</td><td style = \"text-align: right;\">0.0</td></tr><tr><td class = \"rowNumber\" style = \"font-weight: bold; text-align: right;\">3</td><td style = \"text-align: left;\">Y</td><td style = \"text-align: right;\">1.0</td><td style = \"text-align: right;\">0.0</td></tr><tr><td class = \"rowNumber\" style = \"font-weight: bold; text-align: right;\">4</td><td style = \"text-align: left;\">PL</td><td style = \"text-align: right;\">1.0</td><td style = \"text-align: right;\">0.0</td></tr><tr><td class = \"rowNumber\" style = \"font-weight: bold; text-align: right;\">5</td><td style = \"text-align: left;\">PW</td><td style = \"text-align: right;\">1.0</td><td style = \"text-align: right;\">0.0</td></tr><tr><td class = \"rowNumber\" style = \"font-weight: bold; text-align: right;\">6</td><td style = \"text-align: left;\">PKS</td><td style = \"text-align: right;\">1.2</td><td style = \"text-align: right;\">0.0</td></tr><tr><td class = \"rowNumber\" style = \"font-weight: bold; text-align: right;\">7</td><td style = \"text-align: left;\">PY</td><td style = \"text-align: right;\">1.0</td><td style = \"text-align: right;\">0.0</td></tr><tr><td class = \"rowNumber\" style = \"font-weight: bold; text-align: right;\">8</td><td style = \"text-align: left;\">PX</td><td style = \"text-align: right;\">1.0</td><td style = \"text-align: right;\">0.0</td></tr><tr><td class = \"rowNumber\" style = \"font-weight: bold; text-align: right;\">9</td><td style = \"text-align: left;\">PLS</td><td style = \"text-align: right;\">1.2</td><td style = \"text-align: right;\">0.0</td></tr><tr><td class = \"rowNumber\" style = \"font-weight: bold; text-align: right;\">10</td><td style = \"text-align: left;\">CONS</td><td style = \"text-align: right;\">340.0</td><td style = \"text-align: right;\">0.0</td></tr><tr><td class = \"rowNumber\" style = \"font-weight: bold; text-align: right;\">11</td><td style = \"text-align: left;\">TXK</td><td style = \"text-align: right;\">0.2</td><td style = \"text-align: right;\">0.0</td></tr><tr><td class = \"rowNumber\" style = \"font-weight: bold; text-align: right;\">12</td><td style = \"text-align: left;\">PK</td><td style = \"text-align: right;\">1.0</td><td style = \"text-align: right;\">0.0</td></tr><tr><td class = \"rowNumber\" style = \"font-weight: bold; text-align: right;\">13</td><td style = \"text-align: left;\">TL</td><td style = \"text-align: right;\">1.0</td><td style = \"text-align: right;\">0.0</td></tr><tr><td class = \"rowNumber\" style = \"font-weight: bold; text-align: right;\">14</td><td style = \"text-align: left;\">TK</td><td style = \"text-align: right;\">1.0</td><td style = \"text-align: right;\">0.0</td></tr></tbody></table></div>"
      ],
      "text/latex": [
       "\\begin{tabular}{r|ccc}\n",
       "\t& var & value & margin\\\\\n",
       "\t\\hline\n",
       "\t& GenericV… & Float64 & Float64\\\\\n",
       "\t\\hline\n",
       "\t1 & $ W $ & 1.0 & 0.0 \\\\\n",
       "\t2 & $ X $ & 1.0 & 0.0 \\\\\n",
       "\t3 & $ Y $ & 1.0 & 0.0 \\\\\n",
       "\t4 & $ PL $ & 1.0 & 0.0 \\\\\n",
       "\t5 & $ PW $ & 1.0 & 0.0 \\\\\n",
       "\t6 & $ PKS $ & 1.2 & 0.0 \\\\\n",
       "\t7 & $ PY $ & 1.0 & 0.0 \\\\\n",
       "\t8 & $ PX $ & 1.0 & 0.0 \\\\\n",
       "\t9 & $ PLS $ & 1.2 & 0.0 \\\\\n",
       "\t10 & $ CONS $ & 340.0 & 0.0 \\\\\n",
       "\t11 & $ TXK $ & 0.2 & 0.0 \\\\\n",
       "\t12 & $ PK $ & 1.0 & 0.0 \\\\\n",
       "\t13 & $ TL $ & 1.0 & 0.0 \\\\\n",
       "\t14 & $ TK $ & 1.0 & 0.0 \\\\\n",
       "\\end{tabular}\n"
      ],
      "text/plain": [
       "\u001b[1m14×3 DataFrame\u001b[0m\n",
       "\u001b[1m Row \u001b[0m│\u001b[1m var       \u001b[0m\u001b[1m value   \u001b[0m\u001b[1m margin  \u001b[0m\n",
       "     │\u001b[90m GenericV… \u001b[0m\u001b[90m Float64 \u001b[0m\u001b[90m Float64 \u001b[0m\n",
       "─────┼─────────────────────────────\n",
       "   1 │ W              1.0      0.0\n",
       "   2 │ X              1.0      0.0\n",
       "   3 │ Y              1.0      0.0\n",
       "   4 │ PL             1.0      0.0\n",
       "   5 │ PW             1.0      0.0\n",
       "   6 │ PKS            1.2      0.0\n",
       "   7 │ PY             1.0      0.0\n",
       "   8 │ PX             1.0      0.0\n",
       "   9 │ PLS            1.2      0.0\n",
       "  10 │ CONS         340.0      0.0\n",
       "  11 │ TXK            0.2      0.0\n",
       "  12 │ PK             1.0      0.0\n",
       "  13 │ TL             1.0      0.0\n",
       "  14 │ TK             1.0      0.0"
      ]
     },
     "metadata": {},
     "output_type": "display_data"
    }
   ],
   "source": [
    "set_start_value(TXK, .2)\n",
    "set_start_value(PLS, 1.2)\n",
    "set_start_value(PKS, 1.2)\n",
    "\n",
    "solve!(M33; cumulative_iteration_limit=0)\n",
    "generate_report(M33)"
   ]
  },
  {
   "cell_type": "markdown",
   "metadata": {},
   "source": [
    "# Counterfactual"
   ]
  },
  {
   "cell_type": "code",
   "execution_count": 8,
   "metadata": {},
   "outputs": [],
   "source": [
    "set_silent(M33)\n",
    "\n",
    "df = DataFrame([name => Float64[] for name in [:welfare,:labor_supply,:real_CONS, :captax]])\n",
    "\n",
    "for s∈1:5\n",
    "    set_value!(TXL, .25 - .05*s)\n",
    "    \n",
    "    solve!(M33)\n",
    "\n",
    "    push!(df, [\n",
    "        value(W), \n",
    "        value(TL),\n",
    "        (value(PX)*value(X)*120 + value(PY)*value(Y)*120)/(value(PX)^.5*value(PY)^.5*240),\n",
    "        value(TXK)\n",
    "    ])\n",
    "end\n",
    "    "
   ]
  },
  {
   "cell_type": "code",
   "execution_count": 9,
   "metadata": {},
   "outputs": [
    {
     "data": {
      "text/html": [
       "<div><div style = \"float: left;\"><span>5×4 DataFrame</span></div><div style = \"clear: both;\"></div></div><div class = \"data-frame\" style = \"overflow-x: scroll;\"><table class = \"data-frame\" style = \"margin-bottom: 6px;\"><thead><tr class = \"header\"><th class = \"rowNumber\" style = \"font-weight: bold; text-align: right;\">Row</th><th style = \"text-align: left;\">welfare</th><th style = \"text-align: left;\">labor_supply</th><th style = \"text-align: left;\">real_CONS</th><th style = \"text-align: left;\">captax</th></tr><tr class = \"subheader headerLastRow\"><th class = \"rowNumber\" style = \"font-weight: bold; text-align: right;\"></th><th title = \"Float64\" style = \"text-align: left;\">Float64</th><th title = \"Float64\" style = \"text-align: left;\">Float64</th><th title = \"Float64\" style = \"text-align: left;\">Float64</th><th title = \"Float64\" style = \"text-align: left;\">Float64</th></tr></thead><tbody><tr><td class = \"rowNumber\" style = \"font-weight: bold; text-align: right;\">1</td><td style = \"text-align: right;\">1.0</td><td style = \"text-align: right;\">1.0</td><td style = \"text-align: right;\">1.0</td><td style = \"text-align: right;\">0.2</td></tr><tr><td class = \"rowNumber\" style = \"font-weight: bold; text-align: right;\">2</td><td style = \"text-align: right;\">1.00084</td><td style = \"text-align: right;\">1.01609</td><td style = \"text-align: right;\">1.00801</td><td style = \"text-align: right;\">0.250389</td></tr><tr><td class = \"rowNumber\" style = \"font-weight: bold; text-align: right;\">3</td><td style = \"text-align: right;\">1.00148</td><td style = \"text-align: right;\">1.03287</td><td style = \"text-align: right;\">1.0163</td><td style = \"text-align: right;\">0.310753</td></tr><tr><td class = \"rowNumber\" style = \"font-weight: bold; text-align: right;\">4</td><td style = \"text-align: right;\">1.00189</td><td style = \"text-align: right;\">1.05038</td><td style = \"text-align: right;\">1.02488</td><td style = \"text-align: right;\">0.384325</td></tr><tr><td class = \"rowNumber\" style = \"font-weight: bold; text-align: right;\">5</td><td style = \"text-align: right;\">1.00203</td><td style = \"text-align: right;\">1.06869</td><td style = \"text-align: right;\">1.03377</td><td style = \"text-align: right;\">0.475907</td></tr></tbody></table></div>"
      ],
      "text/latex": [
       "\\begin{tabular}{r|cccc}\n",
       "\t& welfare & labor\\_supply & real\\_CONS & captax\\\\\n",
       "\t\\hline\n",
       "\t& Float64 & Float64 & Float64 & Float64\\\\\n",
       "\t\\hline\n",
       "\t1 & 1.0 & 1.0 & 1.0 & 0.2 \\\\\n",
       "\t2 & 1.00084 & 1.01609 & 1.00801 & 0.250389 \\\\\n",
       "\t3 & 1.00148 & 1.03287 & 1.0163 & 0.310753 \\\\\n",
       "\t4 & 1.00189 & 1.05038 & 1.02488 & 0.384325 \\\\\n",
       "\t5 & 1.00203 & 1.06869 & 1.03377 & 0.475907 \\\\\n",
       "\\end{tabular}\n"
      ],
      "text/plain": [
       "\u001b[1m5×4 DataFrame\u001b[0m\n",
       "\u001b[1m Row \u001b[0m│\u001b[1m welfare \u001b[0m\u001b[1m labor_supply \u001b[0m\u001b[1m real_CONS \u001b[0m\u001b[1m captax   \u001b[0m\n",
       "     │\u001b[90m Float64 \u001b[0m\u001b[90m Float64      \u001b[0m\u001b[90m Float64   \u001b[0m\u001b[90m Float64  \u001b[0m\n",
       "─────┼────────────────────────────────────────────\n",
       "   1 │ 1.0           1.0        1.0      0.2\n",
       "   2 │ 1.00084       1.01609    1.00801  0.250389\n",
       "   3 │ 1.00148       1.03287    1.0163   0.310753\n",
       "   4 │ 1.00189       1.05038    1.02488  0.384325\n",
       "   5 │ 1.00203       1.06869    1.03377  0.475907"
      ]
     },
     "metadata": {},
     "output_type": "display_data"
    }
   ],
   "source": [
    "df"
   ]
  }
 ],
 "metadata": {
  "kernelspec": {
   "display_name": "Julia 1.9.2",
   "language": "julia",
   "name": "julia-1.9"
  },
  "language_info": {
   "file_extension": ".jl",
   "mimetype": "application/julia",
   "name": "julia",
   "version": "1.9.2"
  }
 },
 "nbformat": 4,
 "nbformat_minor": 2
}
