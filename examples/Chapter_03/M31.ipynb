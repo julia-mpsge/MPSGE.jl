{
 "cells": [
  {
   "cell_type": "markdown",
   "metadata": {},
   "source": [
    "# M31S \n",
    "\n",
    "Closed economy 2x2 with taxes in the benchmark\n",
    "\n",
    "\n",
    "| Markets | X   | Y   | W   |     | CONS|\n",
    "| ---     | --- | --- | --- | --- | --- |\n",
    "| PX      | 100 |     | -100|     |     |\n",
    "| PY      |     | 100 | -100|     |     |\n",
    "| PW      |     |     | 200 |     | -200|\n",
    "| PL      | -20 | -60 |     |     | 80  |\n",
    "| PK      | -60 | -40 |     |     | 100 |\n",
    "|         |     |     |     |     |     |\n",
    "| TAX     | -20 |     |     |     | 20  |"
   ]
  },
  {
   "cell_type": "code",
   "execution_count": 16,
   "metadata": {},
   "outputs": [],
   "source": [
    "using MPSGE\n",
    "using DataFrames"
   ]
  },
  {
   "cell_type": "code",
   "execution_count": 5,
   "metadata": {},
   "outputs": [],
   "source": [
    "M31 = MPSGEModel()\n",
    "\n",
    "tx0 = 0\n",
    "ty0 = 0\n",
    "tlx0 = 1\n",
    "tkx0 = 0\n",
    "\n",
    "@parameters(M31, begin\n",
    "    TX, tx0,  (description = \"Proportional output tax on sector X\",)\n",
    "    TY, ty0,  (description = \"Proportional output tax on sector Y\",)\n",
    "    TLX, tlx0, (description = \"Ad-valorem tax on labor inputs to X\",)\n",
    "    TKX, tkx0, (description = \"Ad-valorem tax on captial inputs to X\",)\n",
    "end)\n",
    "\n",
    "@sectors(M31, begin\n",
    "    X\n",
    "    Y\n",
    "    W\n",
    "end)\n",
    "\n",
    "@commodities(M31, begin\n",
    "    PX\n",
    "    PY\n",
    "    PW\n",
    "    PL\n",
    "    PK\n",
    "end)\n",
    "\n",
    "@consumer(M31, CONS)\n",
    "\n",
    "@production(M31, X, [s=1, t=0], begin\n",
    "    @output(PX, 100, t, taxes = [Tax(CONS, TX)])#, reference_price = 1 - tx0)\n",
    "    @input(PL, 20, s, taxes = [Tax(CONS, TLX)], reference_price = 1+tlx0)\n",
    "    @input(PK, 60, s, taxes = [Tax(CONS,TKX)])#, reference_price = 1+tkx0\n",
    "end)\n",
    "\n",
    "\n",
    "@production(M31, Y, [s=1, t=0], begin\n",
    "    @output(PY, 100, t, taxes = [Tax(CONS, TY)])\n",
    "    @input(PL, 60, s)\n",
    "    @input(PK, 40, s)\n",
    "end)\n",
    "\n",
    "@production(M31, W, [s=1, t=0], begin\n",
    "    @output(PW, 200, t)\n",
    "    @input(PX, 100, s)\n",
    "    @input(PY, 100, s)\n",
    "end)\n",
    "\n",
    "@demand(M31, CONS, begin\n",
    "    @final_demand(PW, 200)\n",
    "    end,begin\n",
    "    @endowment(PL, 80)\n",
    "    @endowment(PK, 100)\n",
    "end);"
   ]
  },
  {
   "cell_type": "markdown",
   "metadata": {},
   "source": [
    "# Benchmark Calibration"
   ]
  },
  {
   "cell_type": "code",
   "execution_count": 6,
   "metadata": {},
   "outputs": [
    {
     "name": "stdout",
     "output_type": "stream",
     "text": [
      "Reading options file C:\\Users\\MPHILL~1\\AppData\\Local\\Temp\\jl_208F.tmp\n",
      " > cumulative_iteration_limit 0\n",
      "Read of options file complete.\n",
      "\n",
      "Path 5.0.03 (Fri Jun 26 10:05:33 2020)\n",
      "Written by Todd Munson, Steven Dirkse, Youngdae Kim, and Michael Ferris\n",
      "Preprocessed size   : 8\n",
      "\n",
      "Major Iteration Log\n",
      "major minor  func  grad  residual    step  type prox    inorm  (label)\n",
      "    0     0     1     1 0.0000e+00           I 0.0e+00 0.0e+00 (zero_profit[X)\n",
      "\n",
      "Major Iterations. . . . 0\n",
      "Minor Iterations. . . . 0\n",
      "Restarts. . . . . . . . 0\n",
      "Crash Iterations. . . . 0\n",
      "Gradient Steps. . . . . 0\n",
      "Function Evaluations. . 1\n",
      "Gradient Evaluations. . 1\n",
      "Basis Time. . . . . . . 0.000000\n",
      "Total Time. . . . . . . 0.000000\n",
      "Residual. . . . . . . . 0.000000e+00\n",
      "Postsolved residual: 0.0000e+00\n",
      "\n",
      "\n",
      "Solver Status: LOCALLY_SOLVED\n",
      "Model Status: FEASIBLE_POINT"
     ]
    },
    {
     "data": {
      "text/html": [
       "<div><div style = \"float: left;\"><span>9×3 DataFrame</span></div><div style = \"clear: both;\"></div></div><div class = \"data-frame\" style = \"overflow-x: scroll;\"><table class = \"data-frame\" style = \"margin-bottom: 6px;\"><thead><tr class = \"header\"><th class = \"rowNumber\" style = \"font-weight: bold; text-align: right;\">Row</th><th style = \"text-align: left;\">var</th><th style = \"text-align: left;\">value</th><th style = \"text-align: left;\">margin</th></tr><tr class = \"subheader headerLastRow\"><th class = \"rowNumber\" style = \"font-weight: bold; text-align: right;\"></th><th title = \"JuMP.VariableRef\" style = \"text-align: left;\">GenericV…</th><th title = \"Float64\" style = \"text-align: left;\">Float64</th><th title = \"Float64\" style = \"text-align: left;\">Float64</th></tr></thead><tbody><tr><td class = \"rowNumber\" style = \"font-weight: bold; text-align: right;\">1</td><td style = \"text-align: left;\">X</td><td style = \"text-align: right;\">1.0</td><td style = \"text-align: right;\">0.0</td></tr><tr><td class = \"rowNumber\" style = \"font-weight: bold; text-align: right;\">2</td><td style = \"text-align: left;\">W</td><td style = \"text-align: right;\">1.0</td><td style = \"text-align: right;\">0.0</td></tr><tr><td class = \"rowNumber\" style = \"font-weight: bold; text-align: right;\">3</td><td style = \"text-align: left;\">Y</td><td style = \"text-align: right;\">1.0</td><td style = \"text-align: right;\">0.0</td></tr><tr><td class = \"rowNumber\" style = \"font-weight: bold; text-align: right;\">4</td><td style = \"text-align: left;\">PL</td><td style = \"text-align: right;\">1.0</td><td style = \"text-align: right;\">0.0</td></tr><tr><td class = \"rowNumber\" style = \"font-weight: bold; text-align: right;\">5</td><td style = \"text-align: left;\">PW</td><td style = \"text-align: right;\">1.0</td><td style = \"text-align: right;\">0.0</td></tr><tr><td class = \"rowNumber\" style = \"font-weight: bold; text-align: right;\">6</td><td style = \"text-align: left;\">PK</td><td style = \"text-align: right;\">1.0</td><td style = \"text-align: right;\">0.0</td></tr><tr><td class = \"rowNumber\" style = \"font-weight: bold; text-align: right;\">7</td><td style = \"text-align: left;\">PY</td><td style = \"text-align: right;\">1.0</td><td style = \"text-align: right;\">0.0</td></tr><tr><td class = \"rowNumber\" style = \"font-weight: bold; text-align: right;\">8</td><td style = \"text-align: left;\">PX</td><td style = \"text-align: right;\">1.0</td><td style = \"text-align: right;\">0.0</td></tr><tr><td class = \"rowNumber\" style = \"font-weight: bold; text-align: right;\">9</td><td style = \"text-align: left;\">CONS</td><td style = \"text-align: right;\">200.0</td><td style = \"text-align: right;\">0.0</td></tr></tbody></table></div>"
      ],
      "text/latex": [
       "\\begin{tabular}{r|ccc}\n",
       "\t& var & value & margin\\\\\n",
       "\t\\hline\n",
       "\t& GenericV… & Float64 & Float64\\\\\n",
       "\t\\hline\n",
       "\t1 & $ X $ & 1.0 & 0.0 \\\\\n",
       "\t2 & $ W $ & 1.0 & 0.0 \\\\\n",
       "\t3 & $ Y $ & 1.0 & 0.0 \\\\\n",
       "\t4 & $ PL $ & 1.0 & 0.0 \\\\\n",
       "\t5 & $ PW $ & 1.0 & 0.0 \\\\\n",
       "\t6 & $ PK $ & 1.0 & 0.0 \\\\\n",
       "\t7 & $ PY $ & 1.0 & 0.0 \\\\\n",
       "\t8 & $ PX $ & 1.0 & 0.0 \\\\\n",
       "\t9 & $ CONS $ & 200.0 & 0.0 \\\\\n",
       "\\end{tabular}\n"
      ],
      "text/plain": [
       "\u001b[1m9×3 DataFrame\u001b[0m\n",
       "\u001b[1m Row \u001b[0m│\u001b[1m var       \u001b[0m\u001b[1m value   \u001b[0m\u001b[1m margin  \u001b[0m\n",
       "     │\u001b[90m GenericV… \u001b[0m\u001b[90m Float64 \u001b[0m\u001b[90m Float64 \u001b[0m\n",
       "─────┼─────────────────────────────\n",
       "   1 │ X              1.0      0.0\n",
       "   2 │ W              1.0      0.0\n",
       "   3 │ Y              1.0      0.0\n",
       "   4 │ PL             1.0      0.0\n",
       "   5 │ PW             1.0      0.0\n",
       "   6 │ PK             1.0      0.0\n",
       "   7 │ PY             1.0      0.0\n",
       "   8 │ PX             1.0      0.0\n",
       "   9 │ CONS         200.0      0.0"
      ]
     },
     "metadata": {},
     "output_type": "display_data"
    }
   ],
   "source": [
    "fix(PW, 1)\n",
    "\n",
    "solve!(M31; cumulative_iteration_limit=0)\n",
    "generate_report(M31)"
   ]
  },
  {
   "cell_type": "markdown",
   "metadata": {},
   "source": [
    "# First Counterfactual\n",
    "\n",
    "Replace tax on labor inputs by a uniform tax on both factors"
   ]
  },
  {
   "cell_type": "code",
   "execution_count": 13,
   "metadata": {},
   "outputs": [
    {
     "name": "stdout",
     "output_type": "stream",
     "text": [
      "Reading options file C:\\Users\\MPHILL~1\\AppData\\Local\\Temp\\jl_CA7B.tmp\n",
      " > cumulative_iteration_limit 10000\n",
      "Read of options file complete.\n",
      "\n",
      "Path 5.0.03 (Fri Jun 26 10:05:33 2020)\n",
      "Written by Todd Munson, Steven Dirkse, Youngdae Kim, and Michael Ferris\n",
      "\n",
      "Preprocessed size   : 8\n",
      "\n",
      "Crash Log\n",
      "major  func  diff  size  residual    step       prox   (label)\n",
      "    0     0             2.9730e+01             0.0e+00 (market_clearance[PK)\n",
      "    1     1     0     8 1.8637e+00  1.0e+00    0.0e+00 (zero_profit[Y)\n",
      "pn_search terminated: no basis change.\n",
      "\n",
      "Major Iteration Log\n",
      "major minor  func  grad  residual    step  type prox    inorm  (label)\n",
      "    0     0     2     2 1.8637e+00           I 0.0e+00 1.2e+00 (zero_profit[Y)\n",
      "    1     1     3     3 1.6985e-03  1.0e+00 SO 0.0e+00 1.4e-03 (income_balance[)\n",
      "    2     1     4     4 4.9963e-09  1.0e+00 SO 0.0e+00 2.8e-09 (market_clearanc)\n",
      "\n",
      "Major Iterations. . . . 2\n",
      "Minor Iterations. . . . 2\n",
      "Restarts. . . . . . . . 0\n",
      "Crash Iterations. . . . 1\n",
      "Gradient Steps. . . . . 0\n",
      "Function Evaluations. . 4\n",
      "Gradient Evaluations. . 4\n",
      "Basis Time. . . . . . . 0.000000\n",
      "Total Time. . . . . . . 0.000000\n",
      "Residual. . . . . . . . 4.996289e-09\n",
      "Postsolved residual: 4.9963e-09\n",
      "\n",
      "\n",
      "Solver Status: LOCALLY_SOLVED\n",
      "Model Status: FEASIBLE_POINT"
     ]
    },
    {
     "data": {
      "text/html": [
       "<div><div style = \"float: left;\"><span>9×3 DataFrame</span></div><div style = \"clear: both;\"></div></div><div class = \"data-frame\" style = \"overflow-x: scroll;\"><table class = \"data-frame\" style = \"margin-bottom: 6px;\"><thead><tr class = \"header\"><th class = \"rowNumber\" style = \"font-weight: bold; text-align: right;\">Row</th><th style = \"text-align: left;\">var</th><th style = \"text-align: left;\">value</th><th style = \"text-align: left;\">margin</th></tr><tr class = \"subheader headerLastRow\"><th class = \"rowNumber\" style = \"font-weight: bold; text-align: right;\"></th><th title = \"JuMP.VariableRef\" style = \"text-align: left;\">GenericV…</th><th title = \"Float64\" style = \"text-align: left;\">Float64</th><th title = \"Float64\" style = \"text-align: left;\">Float64</th></tr></thead><tbody><tr><td class = \"rowNumber\" style = \"font-weight: bold; text-align: right;\">1</td><td style = \"text-align: left;\">X</td><td style = \"text-align: right;\">1.07779</td><td style = \"text-align: right;\">-2.42731e-9</td></tr><tr><td class = \"rowNumber\" style = \"font-weight: bold; text-align: right;\">2</td><td style = \"text-align: left;\">W</td><td style = \"text-align: right;\">1.02132</td><td style = \"text-align: right;\">-2.13532e-10</td></tr><tr><td class = \"rowNumber\" style = \"font-weight: bold; text-align: right;\">3</td><td style = \"text-align: left;\">Y</td><td style = \"text-align: right;\">0.967806</td><td style = \"text-align: right;\">-2.70312e-9</td></tr><tr><td class = \"rowNumber\" style = \"font-weight: bold; text-align: right;\">4</td><td style = \"text-align: left;\">PL</td><td style = \"text-align: right;\">1.17452</td><td style = \"text-align: right;\">1.86778e-9</td></tr><tr><td class = \"rowNumber\" style = \"font-weight: bold; text-align: right;\">5</td><td style = \"text-align: left;\">PW</td><td style = \"text-align: right;\">1.0</td><td style = \"text-align: right;\">-9.77184e-9</td></tr><tr><td class = \"rowNumber\" style = \"font-weight: bold; text-align: right;\">6</td><td style = \"text-align: left;\">PK</td><td style = \"text-align: right;\">0.898759</td><td style = \"text-align: right;\">2.79859e-9</td></tr><tr><td class = \"rowNumber\" style = \"font-weight: bold; text-align: right;\">7</td><td style = \"text-align: left;\">PY</td><td style = \"text-align: right;\">1.05529</td><td style = \"text-align: right;\">5.49392e-11</td></tr><tr><td class = \"rowNumber\" style = \"font-weight: bold; text-align: right;\">8</td><td style = \"text-align: left;\">PX</td><td style = \"text-align: right;\">0.947605</td><td style = \"text-align: right;\">1.68782e-10</td></tr><tr><td class = \"rowNumber\" style = \"font-weight: bold; text-align: right;\">9</td><td style = \"text-align: left;\">CONS</td><td style = \"text-align: right;\">204.263</td><td style = \"text-align: right;\">6.05382e-10</td></tr></tbody></table></div>"
      ],
      "text/latex": [
       "\\begin{tabular}{r|ccc}\n",
       "\t& var & value & margin\\\\\n",
       "\t\\hline\n",
       "\t& GenericV… & Float64 & Float64\\\\\n",
       "\t\\hline\n",
       "\t1 & $ X $ & 1.07779 & -2.42731e-9 \\\\\n",
       "\t2 & $ W $ & 1.02132 & -2.13532e-10 \\\\\n",
       "\t3 & $ Y $ & 0.967806 & -2.70312e-9 \\\\\n",
       "\t4 & $ PL $ & 1.17452 & 1.86778e-9 \\\\\n",
       "\t5 & $ PW $ & 1.0 & -9.77184e-9 \\\\\n",
       "\t6 & $ PK $ & 0.898759 & 2.79859e-9 \\\\\n",
       "\t7 & $ PY $ & 1.05529 & 5.49392e-11 \\\\\n",
       "\t8 & $ PX $ & 0.947605 & 1.68782e-10 \\\\\n",
       "\t9 & $ CONS $ & 204.263 & 6.05382e-10 \\\\\n",
       "\\end{tabular}\n"
      ],
      "text/plain": [
       "\u001b[1m9×3 DataFrame\u001b[0m\n",
       "\u001b[1m Row \u001b[0m│\u001b[1m var       \u001b[0m\u001b[1m value      \u001b[0m\u001b[1m margin       \u001b[0m\n",
       "     │\u001b[90m GenericV… \u001b[0m\u001b[90m Float64    \u001b[0m\u001b[90m Float64      \u001b[0m\n",
       "─────┼─────────────────────────────────────\n",
       "   1 │ X            1.07779   -2.42731e-9\n",
       "   2 │ W            1.02132   -2.13532e-10\n",
       "   3 │ Y            0.967806  -2.70312e-9\n",
       "   4 │ PL           1.17452    1.86778e-9\n",
       "   5 │ PW           1.0       -9.77184e-9\n",
       "   6 │ PK           0.898759   2.79859e-9\n",
       "   7 │ PY           1.05529    5.49392e-11\n",
       "   8 │ PX           0.947605   1.68782e-10\n",
       "   9 │ CONS       204.263      6.05382e-10"
      ]
     },
     "metadata": {},
     "output_type": "display_data"
    }
   ],
   "source": [
    "set_value!(TLX, .25)\n",
    "set_value!(TKX, .25)\n",
    "set_value!(TX, 0)\n",
    "set_value!(TY, 0)\n",
    "\n",
    "solve!(M31)\n",
    "CF1 = generate_report(M31)"
   ]
  },
  {
   "cell_type": "markdown",
   "metadata": {},
   "source": [
    "# Second Counterfactual\n",
    "\n",
    "Demonstrate that a 25% tax on all inputs is equivalent to a 20% tax on the output (or all outputs if more than one)"
   ]
  },
  {
   "cell_type": "code",
   "execution_count": 14,
   "metadata": {},
   "outputs": [
    {
     "name": "stdout",
     "output_type": "stream",
     "text": [
      "Reading options file C:\\Users\\MPHILL~1\\AppData\\Local\\Temp\\jl_E19E.tmp\n",
      " > cumulative_iteration_limit 10000\n",
      "Read of options file complete.\n",
      "\n",
      "Path 5.0.03 (Fri Jun 26 10:05:33 2020)\n",
      "Written by Todd Munson, Steven Dirkse, Youngdae Kim, and Michael Ferris\n",
      "\n",
      "Preprocessed size   : 8\n",
      "\n",
      "Crash Log\n",
      "major  func  diff  size  residual    step       prox   (label)\n",
      "    0     0             2.9103e+01             0.0e+00 (market_clearance[PK)\n",
      "    1     1     0     8 1.7156e+00  1.0e+00    0.0e+00 (zero_profit[Y)\n",
      "pn_search terminated: no basis change.\n",
      "\n",
      "Major Iteration Log\n",
      "major minor  func  grad  residual    step  type prox    inorm  (label)\n",
      "    0     0     2     2 1.7156e+00           I 0.0e+00 1.2e+00 (zero_profit[Y)\n",
      "    1     1     3     3 9.8865e-04  1.0e+00 SO 0.0e+00 7.7e-04 (market_clearanc)\n",
      "    2     1     4     4 4.7414e-09  1.0e+00 SO 0.0e+00 2.8e-09 (market_clearanc)\n",
      "\n",
      "Major Iterations. . . . 2\n",
      "Minor Iterations. . . . 2\n",
      "Restarts. . . . . . . . 0\n",
      "Crash Iterations. . . . 1\n",
      "Gradient Steps. . . . . 0\n",
      "Function Evaluations. . 4\n",
      "Gradient Evaluations. . 4\n",
      "Basis Time. . . . . . . 0.000000\n",
      "Total Time. . . . . . . 0.000000\n",
      "Residual. . . . . . . . 4.741435e-09\n",
      "Postsolved residual: 4.7414e-09\n",
      "\n",
      "\n",
      "Solver Status: LOCALLY_SOLVED\n",
      "Model Status: FEASIBLE_POINT"
     ]
    },
    {
     "data": {
      "text/html": [
       "<div><div style = \"float: left;\"><span>9×3 DataFrame</span></div><div style = \"clear: both;\"></div></div><div class = \"data-frame\" style = \"overflow-x: scroll;\"><table class = \"data-frame\" style = \"margin-bottom: 6px;\"><thead><tr class = \"header\"><th class = \"rowNumber\" style = \"font-weight: bold; text-align: right;\">Row</th><th style = \"text-align: left;\">var</th><th style = \"text-align: left;\">value</th><th style = \"text-align: left;\">margin</th></tr><tr class = \"subheader headerLastRow\"><th class = \"rowNumber\" style = \"font-weight: bold; text-align: right;\"></th><th title = \"JuMP.VariableRef\" style = \"text-align: left;\">GenericV…</th><th title = \"Float64\" style = \"text-align: left;\">Float64</th><th title = \"Float64\" style = \"text-align: left;\">Float64</th></tr></thead><tbody><tr><td class = \"rowNumber\" style = \"font-weight: bold; text-align: right;\">1</td><td style = \"text-align: left;\">X</td><td style = \"text-align: right;\">1.07779</td><td style = \"text-align: right;\">-1.94179e-9</td></tr><tr><td class = \"rowNumber\" style = \"font-weight: bold; text-align: right;\">2</td><td style = \"text-align: left;\">W</td><td style = \"text-align: right;\">1.02132</td><td style = \"text-align: right;\">-2.13475e-10</td></tr><tr><td class = \"rowNumber\" style = \"font-weight: bold; text-align: right;\">3</td><td style = \"text-align: left;\">Y</td><td style = \"text-align: right;\">0.967806</td><td style = \"text-align: right;\">-2.70313e-9</td></tr><tr><td class = \"rowNumber\" style = \"font-weight: bold; text-align: right;\">4</td><td style = \"text-align: left;\">PL</td><td style = \"text-align: right;\">1.17452</td><td style = \"text-align: right;\">1.86775e-9</td></tr><tr><td class = \"rowNumber\" style = \"font-weight: bold; text-align: right;\">5</td><td style = \"text-align: left;\">PW</td><td style = \"text-align: right;\">1.0</td><td style = \"text-align: right;\">-9.77604e-9</td></tr><tr><td class = \"rowNumber\" style = \"font-weight: bold; text-align: right;\">6</td><td style = \"text-align: left;\">PK</td><td style = \"text-align: right;\">0.898759</td><td style = \"text-align: right;\">2.7986e-9</td></tr><tr><td class = \"rowNumber\" style = \"font-weight: bold; text-align: right;\">7</td><td style = \"text-align: left;\">PY</td><td style = \"text-align: right;\">1.05529</td><td style = \"text-align: right;\">5.4996e-11</td></tr><tr><td class = \"rowNumber\" style = \"font-weight: bold; text-align: right;\">8</td><td style = \"text-align: left;\">PX</td><td style = \"text-align: right;\">0.947605</td><td style = \"text-align: right;\">1.68797e-10</td></tr><tr><td class = \"rowNumber\" style = \"font-weight: bold; text-align: right;\">9</td><td style = \"text-align: left;\">CONS</td><td style = \"text-align: right;\">204.263</td><td style = \"text-align: right;\">7.78471e-11</td></tr></tbody></table></div>"
      ],
      "text/latex": [
       "\\begin{tabular}{r|ccc}\n",
       "\t& var & value & margin\\\\\n",
       "\t\\hline\n",
       "\t& GenericV… & Float64 & Float64\\\\\n",
       "\t\\hline\n",
       "\t1 & $ X $ & 1.07779 & -1.94179e-9 \\\\\n",
       "\t2 & $ W $ & 1.02132 & -2.13475e-10 \\\\\n",
       "\t3 & $ Y $ & 0.967806 & -2.70313e-9 \\\\\n",
       "\t4 & $ PL $ & 1.17452 & 1.86775e-9 \\\\\n",
       "\t5 & $ PW $ & 1.0 & -9.77604e-9 \\\\\n",
       "\t6 & $ PK $ & 0.898759 & 2.7986e-9 \\\\\n",
       "\t7 & $ PY $ & 1.05529 & 5.4996e-11 \\\\\n",
       "\t8 & $ PX $ & 0.947605 & 1.68797e-10 \\\\\n",
       "\t9 & $ CONS $ & 204.263 & 7.78471e-11 \\\\\n",
       "\\end{tabular}\n"
      ],
      "text/plain": [
       "\u001b[1m9×3 DataFrame\u001b[0m\n",
       "\u001b[1m Row \u001b[0m│\u001b[1m var       \u001b[0m\u001b[1m value      \u001b[0m\u001b[1m margin       \u001b[0m\n",
       "     │\u001b[90m GenericV… \u001b[0m\u001b[90m Float64    \u001b[0m\u001b[90m Float64      \u001b[0m\n",
       "─────┼─────────────────────────────────────\n",
       "   1 │ X            1.07779   -1.94179e-9\n",
       "   2 │ W            1.02132   -2.13475e-10\n",
       "   3 │ Y            0.967806  -2.70313e-9\n",
       "   4 │ PL           1.17452    1.86775e-9\n",
       "   5 │ PW           1.0       -9.77604e-9\n",
       "   6 │ PK           0.898759   2.7986e-9\n",
       "   7 │ PY           1.05529    5.4996e-11\n",
       "   8 │ PX           0.947605   1.68797e-10\n",
       "   9 │ CONS       204.263      7.78471e-11"
      ]
     },
     "metadata": {},
     "output_type": "display_data"
    }
   ],
   "source": [
    "set_value!(TLX, 0)\n",
    "set_value!(TKX, 0)\n",
    "set_value!(TX, .2)\n",
    "set_value!(TY, 0)\n",
    "\n",
    "solve!(M31)\n",
    "CF2 = generate_report(M31)"
   ]
  },
  {
   "cell_type": "markdown",
   "metadata": {},
   "source": [
    "# Counterfactual 3\n",
    "\n",
    "Finally, demonstrate that a 20% tax on the $X$ sector output is equivalent to a 25% subsidy on $Y$ sector output (assumes that the funds for the subsidy can be raised lump sum from the consumer!) "
   ]
  },
  {
   "cell_type": "code",
   "execution_count": 15,
   "metadata": {},
   "outputs": [
    {
     "name": "stdout",
     "output_type": "stream",
     "text": [
      "Reading options file C:\\Users\\MPHILL~1\\AppData\\Local\\Temp\\jl_FB80.tmp\n",
      " > cumulative_iteration_limit 10000\n",
      "Read of options file complete.\n",
      "\n",
      "Path 5.0.03 (Fri Jun 26 10:05:33 2020)\n",
      "Written by Todd Munson, Steven Dirkse, Youngdae Kim, and Michael Ferris\n",
      "\n",
      "Preprocessed size   : 8\n",
      "\n",
      "Crash Log\n",
      "major  func  diff  size  residual    step       prox   (label)\n",
      "    0     0             8.3931e+01             0.0e+00 (zero_profit[Y)\n",
      "    1     1     0     8 3.1997e+00  1.0e+00    0.0e+00 (market_clearance[PK)\n",
      "pn_search terminated: no basis change.\n",
      "\n",
      "Major Iteration Log\n",
      "major minor  func  grad  residual    step  type prox    inorm  (label)\n",
      "    0     0     2     2 3.1997e+00           I 0.0e+00 2.8e+00 (market_clearanc)\n",
      "    1     1     3     3 7.4371e-02  1.0e+00 SO 0.0e+00 5.3e-02 (market_clearanc)\n",
      "    2     1     4     4 3.0502e-05  1.0e+00 SO 0.0e+00 2.3e-05 (market_clearanc)\n",
      "    3     1     5     5 6.0521e-12  1.0e+00 SO 0.0e+00 4.3e-12 (market_clearanc)\n",
      "\n",
      "Major Iterations. . . . 3\n",
      "Minor Iterations. . . . 3\n",
      "Restarts. . . . . . . . 0\n",
      "Crash Iterations. . . . 1\n",
      "Gradient Steps. . . . . 0\n",
      "Function Evaluations. . 5\n",
      "Gradient Evaluations. . 5\n",
      "Basis Time. . . . . . . 0.000000\n",
      "Total Time. . . . . . . 0.000000\n",
      "Residual. . . . . . . . 6.052082e-12\n",
      "Postsolved residual: 6.0521e-12\n",
      "\n",
      "\n",
      "Solver Status: LOCALLY_SOLVED\n",
      "Model Status: FEASIBLE_POINT"
     ]
    },
    {
     "data": {
      "text/html": [
       "<div><div style = \"float: left;\"><span>9×3 DataFrame</span></div><div style = \"clear: both;\"></div></div><div class = \"data-frame\" style = \"overflow-x: scroll;\"><table class = \"data-frame\" style = \"margin-bottom: 6px;\"><thead><tr class = \"header\"><th class = \"rowNumber\" style = \"font-weight: bold; text-align: right;\">Row</th><th style = \"text-align: left;\">var</th><th style = \"text-align: left;\">value</th><th style = \"text-align: left;\">margin</th></tr><tr class = \"subheader headerLastRow\"><th class = \"rowNumber\" style = \"font-weight: bold; text-align: right;\"></th><th title = \"JuMP.VariableRef\" style = \"text-align: left;\">GenericV…</th><th title = \"Float64\" style = \"text-align: left;\">Float64</th><th title = \"Float64\" style = \"text-align: left;\">Float64</th></tr></thead><tbody><tr><td class = \"rowNumber\" style = \"font-weight: bold; text-align: right;\">1</td><td style = \"text-align: left;\">X</td><td style = \"text-align: right;\">1.07779</td><td style = \"text-align: right;\">-2.43006e-12</td></tr><tr><td class = \"rowNumber\" style = \"font-weight: bold; text-align: right;\">2</td><td style = \"text-align: left;\">W</td><td style = \"text-align: right;\">1.02132</td><td style = \"text-align: right;\">-2.27374e-13</td></tr><tr><td class = \"rowNumber\" style = \"font-weight: bold; text-align: right;\">3</td><td style = \"text-align: left;\">Y</td><td style = \"text-align: right;\">0.967806</td><td style = \"text-align: right;\">-3.42126e-12</td></tr><tr><td class = \"rowNumber\" style = \"font-weight: bold; text-align: right;\">4</td><td style = \"text-align: left;\">PL</td><td style = \"text-align: right;\">1.46814</td><td style = \"text-align: right;\">4.30589e-12</td></tr><tr><td class = \"rowNumber\" style = \"font-weight: bold; text-align: right;\">5</td><td style = \"text-align: left;\">PW</td><td style = \"text-align: right;\">1.0</td><td style = \"text-align: right;\">-1.24203e-11</td></tr><tr><td class = \"rowNumber\" style = \"font-weight: bold; text-align: right;\">6</td><td style = \"text-align: left;\">PK</td><td style = \"text-align: right;\">1.12345</td><td style = \"text-align: right;\">-3.97904e-13</td></tr><tr><td class = \"rowNumber\" style = \"font-weight: bold; text-align: right;\">7</td><td style = \"text-align: left;\">PY</td><td style = \"text-align: right;\">1.05529</td><td style = \"text-align: right;\">4.68958e-13</td></tr><tr><td class = \"rowNumber\" style = \"font-weight: bold; text-align: right;\">8</td><td style = \"text-align: left;\">PX</td><td style = \"text-align: right;\">0.947605</td><td style = \"text-align: right;\">-1.98952e-13</td></tr><tr><td class = \"rowNumber\" style = \"font-weight: bold; text-align: right;\">9</td><td style = \"text-align: left;\">CONS</td><td style = \"text-align: right;\">204.263</td><td style = \"text-align: right;\">-8.52651e-14</td></tr></tbody></table></div>"
      ],
      "text/latex": [
       "\\begin{tabular}{r|ccc}\n",
       "\t& var & value & margin\\\\\n",
       "\t\\hline\n",
       "\t& GenericV… & Float64 & Float64\\\\\n",
       "\t\\hline\n",
       "\t1 & $ X $ & 1.07779 & -2.43006e-12 \\\\\n",
       "\t2 & $ W $ & 1.02132 & -2.27374e-13 \\\\\n",
       "\t3 & $ Y $ & 0.967806 & -3.42126e-12 \\\\\n",
       "\t4 & $ PL $ & 1.46814 & 4.30589e-12 \\\\\n",
       "\t5 & $ PW $ & 1.0 & -1.24203e-11 \\\\\n",
       "\t6 & $ PK $ & 1.12345 & -3.97904e-13 \\\\\n",
       "\t7 & $ PY $ & 1.05529 & 4.68958e-13 \\\\\n",
       "\t8 & $ PX $ & 0.947605 & -1.98952e-13 \\\\\n",
       "\t9 & $ CONS $ & 204.263 & -8.52651e-14 \\\\\n",
       "\\end{tabular}\n"
      ],
      "text/plain": [
       "\u001b[1m9×3 DataFrame\u001b[0m\n",
       "\u001b[1m Row \u001b[0m│\u001b[1m var       \u001b[0m\u001b[1m value      \u001b[0m\u001b[1m margin       \u001b[0m\n",
       "     │\u001b[90m GenericV… \u001b[0m\u001b[90m Float64    \u001b[0m\u001b[90m Float64      \u001b[0m\n",
       "─────┼─────────────────────────────────────\n",
       "   1 │ X            1.07779   -2.43006e-12\n",
       "   2 │ W            1.02132   -2.27374e-13\n",
       "   3 │ Y            0.967806  -3.42126e-12\n",
       "   4 │ PL           1.46814    4.30589e-12\n",
       "   5 │ PW           1.0       -1.24203e-11\n",
       "   6 │ PK           1.12345   -3.97904e-13\n",
       "   7 │ PY           1.05529    4.68958e-13\n",
       "   8 │ PX           0.947605  -1.98952e-13\n",
       "   9 │ CONS       204.263     -8.52651e-14"
      ]
     },
     "metadata": {},
     "output_type": "display_data"
    }
   ],
   "source": [
    "set_value!(TLX, 0)\n",
    "set_value!(TKX, 0)\n",
    "set_value!(TX, 0)\n",
    "set_value!(TY, -.25)\n",
    "\n",
    "solve!(M31)\n",
    "CF3 = generate_report(M31)"
   ]
  },
  {
   "cell_type": "markdown",
   "metadata": {},
   "source": [
    "# Verifying Solutions Match"
   ]
  },
  {
   "cell_type": "code",
   "execution_count": 19,
   "metadata": {},
   "outputs": [
    {
     "data": {
      "text/html": [
       "<div><div style = \"float: left;\"><span>9×4 DataFrame</span></div><div style = \"clear: both;\"></div></div><div class = \"data-frame\" style = \"overflow-x: scroll;\"><table class = \"data-frame\" style = \"margin-bottom: 6px;\"><thead><tr class = \"header\"><th class = \"rowNumber\" style = \"font-weight: bold; text-align: right;\">Row</th><th style = \"text-align: left;\">var</th><th style = \"text-align: left;\">value</th><th style = \"text-align: left;\">value_1</th><th style = \"text-align: left;\">value_2</th></tr><tr class = \"subheader headerLastRow\"><th class = \"rowNumber\" style = \"font-weight: bold; text-align: right;\"></th><th title = \"JuMP.VariableRef\" style = \"text-align: left;\">GenericV…</th><th title = \"Float64\" style = \"text-align: left;\">Float64</th><th title = \"Float64\" style = \"text-align: left;\">Float64</th><th title = \"Float64\" style = \"text-align: left;\">Float64</th></tr></thead><tbody><tr><td class = \"rowNumber\" style = \"font-weight: bold; text-align: right;\">1</td><td style = \"text-align: left;\">X</td><td style = \"text-align: right;\">1.07779</td><td style = \"text-align: right;\">1.07779</td><td style = \"text-align: right;\">1.07779</td></tr><tr><td class = \"rowNumber\" style = \"font-weight: bold; text-align: right;\">2</td><td style = \"text-align: left;\">W</td><td style = \"text-align: right;\">1.02132</td><td style = \"text-align: right;\">1.02132</td><td style = \"text-align: right;\">1.02132</td></tr><tr><td class = \"rowNumber\" style = \"font-weight: bold; text-align: right;\">3</td><td style = \"text-align: left;\">Y</td><td style = \"text-align: right;\">0.967806</td><td style = \"text-align: right;\">0.967806</td><td style = \"text-align: right;\">0.967806</td></tr><tr><td class = \"rowNumber\" style = \"font-weight: bold; text-align: right;\">4</td><td style = \"text-align: left;\">PL</td><td style = \"text-align: right;\">1.17452</td><td style = \"text-align: right;\">1.17452</td><td style = \"text-align: right;\">1.46814</td></tr><tr><td class = \"rowNumber\" style = \"font-weight: bold; text-align: right;\">5</td><td style = \"text-align: left;\">PW</td><td style = \"text-align: right;\">1.0</td><td style = \"text-align: right;\">1.0</td><td style = \"text-align: right;\">1.0</td></tr><tr><td class = \"rowNumber\" style = \"font-weight: bold; text-align: right;\">6</td><td style = \"text-align: left;\">PK</td><td style = \"text-align: right;\">0.898759</td><td style = \"text-align: right;\">0.898759</td><td style = \"text-align: right;\">1.12345</td></tr><tr><td class = \"rowNumber\" style = \"font-weight: bold; text-align: right;\">7</td><td style = \"text-align: left;\">PY</td><td style = \"text-align: right;\">1.05529</td><td style = \"text-align: right;\">1.05529</td><td style = \"text-align: right;\">1.05529</td></tr><tr><td class = \"rowNumber\" style = \"font-weight: bold; text-align: right;\">8</td><td style = \"text-align: left;\">PX</td><td style = \"text-align: right;\">0.947605</td><td style = \"text-align: right;\">0.947605</td><td style = \"text-align: right;\">0.947605</td></tr><tr><td class = \"rowNumber\" style = \"font-weight: bold; text-align: right;\">9</td><td style = \"text-align: left;\">CONS</td><td style = \"text-align: right;\">204.263</td><td style = \"text-align: right;\">204.263</td><td style = \"text-align: right;\">204.263</td></tr></tbody></table></div>"
      ],
      "text/latex": [
       "\\begin{tabular}{r|cccc}\n",
       "\t& var & value & value\\_1 & value\\_2\\\\\n",
       "\t\\hline\n",
       "\t& GenericV… & Float64 & Float64 & Float64\\\\\n",
       "\t\\hline\n",
       "\t1 & $ X $ & 1.07779 & 1.07779 & 1.07779 \\\\\n",
       "\t2 & $ W $ & 1.02132 & 1.02132 & 1.02132 \\\\\n",
       "\t3 & $ Y $ & 0.967806 & 0.967806 & 0.967806 \\\\\n",
       "\t4 & $ PL $ & 1.17452 & 1.17452 & 1.46814 \\\\\n",
       "\t5 & $ PW $ & 1.0 & 1.0 & 1.0 \\\\\n",
       "\t6 & $ PK $ & 0.898759 & 0.898759 & 1.12345 \\\\\n",
       "\t7 & $ PY $ & 1.05529 & 1.05529 & 1.05529 \\\\\n",
       "\t8 & $ PX $ & 0.947605 & 0.947605 & 0.947605 \\\\\n",
       "\t9 & $ CONS $ & 204.263 & 204.263 & 204.263 \\\\\n",
       "\\end{tabular}\n"
      ],
      "text/plain": [
       "\u001b[1m9×4 DataFrame\u001b[0m\n",
       "\u001b[1m Row \u001b[0m│\u001b[1m var       \u001b[0m\u001b[1m value      \u001b[0m\u001b[1m value_1    \u001b[0m\u001b[1m value_2    \u001b[0m\n",
       "     │\u001b[90m GenericV… \u001b[0m\u001b[90m Float64    \u001b[0m\u001b[90m Float64    \u001b[0m\u001b[90m Float64    \u001b[0m\n",
       "─────┼───────────────────────────────────────────────\n",
       "   1 │ X            1.07779     1.07779     1.07779\n",
       "   2 │ W            1.02132     1.02132     1.02132\n",
       "   3 │ Y            0.967806    0.967806    0.967806\n",
       "   4 │ PL           1.17452     1.17452     1.46814\n",
       "   5 │ PW           1.0         1.0         1.0\n",
       "   6 │ PK           0.898759    0.898759    1.12345\n",
       "   7 │ PY           1.05529     1.05529     1.05529\n",
       "   8 │ PX           0.947605    0.947605    0.947605\n",
       "   9 │ CONS       204.263     204.263     204.263"
      ]
     },
     "metadata": {},
     "output_type": "display_data"
    }
   ],
   "source": [
    "innerjoin(CF1, CF2, on = :var; makeunique=true) |>\n",
    "    x-> innerjoin(x, CF3, on = :var, makeunique=true) |>\n",
    "    x -> select(x, :var, :value, :value_1, :value_2)"
   ]
  }
 ],
 "metadata": {
  "kernelspec": {
   "display_name": "Julia 1.9.2",
   "language": "julia",
   "name": "julia-1.9"
  },
  "language_info": {
   "file_extension": ".jl",
   "mimetype": "application/julia",
   "name": "julia",
   "version": "1.9.2"
  }
 },
 "nbformat": 4,
 "nbformat_minor": 2
}
