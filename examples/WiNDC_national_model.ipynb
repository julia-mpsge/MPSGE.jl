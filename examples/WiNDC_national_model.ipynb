{
 "cells": [
  {
   "cell_type": "markdown",
   "metadata": {},
   "source": [
    "# WiNDC National Model\n",
    "\n",
    "You will need to point to the correct locations for a few objects, listed below"
   ]
  },
  {
   "cell_type": "code",
   "execution_count": 1,
   "metadata": {},
   "outputs": [],
   "source": [
    "parameter_path = raw\"C:\\Users\\mphillipson\\Documents\\Modeling\\MPSGE_dev_testing\\nationaldata_julia\\DAAData.jld2\"\n",
    "set_path = raw\"C:\\Users\\mphillipson\\Documents\\Modeling\\MPSGE_dev_testing\\nationaldata_julia\\Indices.jld2\";"
   ]
  },
  {
   "cell_type": "code",
   "execution_count": 2,
   "metadata": {},
   "outputs": [],
   "source": [
    "using MPSGE\n",
    "\n",
    "using CSV, DataFrames, JLD2\n",
    "\n",
    "using JuMP"
   ]
  },
  {
   "cell_type": "code",
   "execution_count": 3,
   "metadata": {},
   "outputs": [],
   "source": [
    "P= load(parameter_path)[\"data\"] # load in date from saved Notebook output Dict, named P\n",
    "S= load(set_path)[\"data\"] # load in date from saved Notebook output Dict, named P\n",
    "\n",
    "\n",
    "I = [i for i∈S[:i] if i∉[:use,:oth]]\n",
    "J = [i for i∈S[:j] if i∉[:use,:oth]]\n",
    "VA = [va for va∈S[:va] if va!=:othtax]\n",
    "FD = S[:fd]\n",
    "TS = S[:ts]\n",
    "YR = S[:yr]\n",
    "M = S[:m]\n",
    "\n",
    "a_0 = P[:a_0]\n",
    "id_0 = P[:id_0]\n",
    "ys_0 = P[:ys_0]\n",
    "tm_0 = P[:tm_0]\n",
    "va_0 = P[:va_0]\n",
    "md_0 = P[:md_0]\n",
    "fd_0 = P[:fd_0]\n",
    "m_0 = P[:m_0]\n",
    "ty_0 = P[:ty_0]\n",
    "ms_0 = P[:ms_0]\n",
    "bopdef_0 = P[:bopdef_0]\n",
    "x_0 = P[:x_0]\n",
    "ta_0 = P[:ta_0]\n",
    "#s_0 = P[:s_0]\n",
    "fs_0 = P[:fs_0]\n",
    "y_0 = P[:y_0];\n",
    "\n",
    "\n",
    "\n",
    "1;"
   ]
  },
  {
   "cell_type": "code",
   "execution_count": 4,
   "metadata": {},
   "outputs": [],
   "source": [
    "yr = Symbol(2017)\n",
    "\n",
    "WiNnat = MPSGEModel()\n",
    "\n",
    "#y_ = [j for j∈J if sum(ys_0[yr,j,i] for i∈I) !=0]\n",
    "#a_ = [i_ for i_∈I if a_0[yr,i_]!=0]\n",
    "\n",
    "\n",
    "@parameters(WiNnat, begin\n",
    "    ta[J], ta_0[yr,J]\n",
    "    ty[J], ty_0[yr,J]\n",
    "    tm[J], tm_0[yr,J]\n",
    "end)\n",
    "\n",
    "@sectors(WiNnat,begin\n",
    "    Y[J],  (description = \"Sectoral Production\",)\n",
    "    A[I],  (description = \"Armington Supply\",)\n",
    "    MS[M], (description = \"Margin Supply\",)\n",
    "end)\n",
    "\n",
    "@commodities(WiNnat,begin\n",
    "    PA[I],   (description = \"Armington Price\",)\n",
    "    PY[J],   (description = \"Supply\",)\n",
    "    PVA[VA], (description = \"Value-added\",)\n",
    "    PM[M],   (description = \"Margin Price\",)\n",
    "    PFX,     (description = \"Foreign Exachange\",)\n",
    "end)\n",
    "\n",
    "@consumer(WiNnat, RA, description = \"Representative Agent\")\n",
    "\n",
    "for j∈J\n",
    "    @production(WiNnat, Y[j], [t=0, s = 0, va => s = 1], begin\n",
    "        [@output(PY[i],ys_0[yr,j,i], t, taxes = [Tax(RA,ty[j])]) for i∈I]... \n",
    "        [@input(PA[i], id_0[yr,i,j], s) for i∈I]...\n",
    "        [@input(PVA[va], va_0[yr,va,j], va) for va∈VA]...\n",
    "    end)\n",
    "end\n",
    "\n",
    "\n",
    "\n",
    "for m∈M\n",
    "    @production(WiNnat, MS[m], [t = 0, s = 0], begin\n",
    "        [@output(PM[m], sum(ms_0[yr,i,m] for i∈I), t)]...\n",
    "        [@input(PY[i], ms_0[yr,i,m], s) for i∈I]...\n",
    "    end)\n",
    "end\n",
    "\n",
    "for i∈I\n",
    "    @production(WiNnat, A[i], [t = 2, s = 0, dm => s = 2], begin\n",
    "        [@output(PA[i], a_0[yr,i], t, taxes=[Tax(RA,ta[i])],reference_price=1-ta_0[yr,i])]...\n",
    "        [@output(PFX, x_0[yr,i], t)]...\n",
    "        [@input(PM[m], md_0[yr,m,i], s) for m∈M]...\n",
    "        @input(PY[i], y_0[yr,i], dm)\n",
    "        @input(PFX, m_0[yr,i], dm, taxes = [Tax(RA,tm[i])],reference_price=1+tm_0[yr,i])\n",
    "    end)\n",
    "end\n",
    "\n",
    "@demand(WiNnat, RA, begin\n",
    "    [@final_demand(PA[i], fd_0[yr,i,:pce]) for i∈I]...\n",
    "    end,begin\n",
    "    [@endowment(PY[i], fs_0[yr,i]) for i∈I]...\n",
    "    @endowment(PFX, bopdef_0[yr])\n",
    "    [@endowment(PA[i], -sum(fd_0[yr,i,xfd] for xfd∈FD if xfd!=:pce)) for i∈I]...\n",
    "    [@endowment(PVA[va], sum(va_0[yr,va,j] for j∈J)) for va∈VA]...\n",
    "end)\n",
    "\n",
    "1;"
   ]
  },
  {
   "cell_type": "markdown",
   "metadata": {},
   "source": [
    "# Benchmark "
   ]
  },
  {
   "cell_type": "code",
   "execution_count": 5,
   "metadata": {},
   "outputs": [
    {
     "name": "stdout",
     "output_type": "stream",
     "text": [
      "Path 5.0.03 (Fri Jun 26 10:05:33 2020)\n",
      "Written by Todd Munson, Steven Dirkse, Youngdae Kim, and Michael Ferris\n",
      "\n",
      "Zero:     3 Single:     0 Double:     0\n",
      "Preprocessed size   : 288\n",
      "\n",
      "Crash Log\n",
      "major  func  diff  size  residual    step       prox   (label)\n",
      "    0     0             3.5135e-12             0.0e+00 (market_clearance[PY(:ts)\n",
      "\n",
      "Major Iteration Log\n",
      "major minor  func  grad  residual    step  type prox    inorm  (label)\n",
      "    0     0     1     1 3.5135e-12           I 0.0e+00 1.6e-12 (market_clearanc)\n",
      "\n",
      "Major Iterations. . . . 0\n",
      "Minor Iterations. . . . 0\n",
      "Restarts. . . . . . . . 0\n",
      "Crash Iterations. . . . 0\n",
      "Gradient Steps. . . . . 0\n",
      "Function Evaluations. . 1\n",
      "Gradient Evaluations. . 1\n",
      "Basis Time. . . . . . . 0.000000\n",
      "Total Time. . . . . . . 0.093000\n",
      "Residual. . . . . . . . 3.513489e-12\n",
      "Postsolved residual: 3.5135e-12\n",
      "\n",
      "\n",
      "Solver Status: LOCALLY_SOLVED\n",
      "Model Status: FEASIBLE_POINT\n",
      "\n",
      "Default price normalization using income for RA - This value is fixed. Unfix with unfix(RA)."
     ]
    }
   ],
   "source": [
    "#fix(RA, sum(fd_0[yr,i,:pce] for i∈I))\n",
    "\n",
    "solve!(WiNnat; cumulative_iteration_limit = 0)\n",
    "\n",
    "df_benchmark = generate_report(WiNnat);"
   ]
  },
  {
   "cell_type": "markdown",
   "metadata": {},
   "source": [
    "# Counterfactual"
   ]
  },
  {
   "cell_type": "code",
   "execution_count": 6,
   "metadata": {},
   "outputs": [
    {
     "name": "stdout",
     "output_type": "stream",
     "text": [
      "Path 5.0.03 (Fri Jun 26 10:05:33 2020)\n",
      "Written by Todd Munson, Steven Dirkse, Youngdae Kim, and Michael Ferris\n",
      "\n",
      "Zero:     3 Single:     0 Double:     0\n",
      "Preprocessed size   : 288\n",
      "\n",
      "Crash Log\n",
      "major  func  diff  size  residual    step       prox   (label)\n",
      "    0     0             5.0521e+02             0.0e+00 (zero_profit[A(:pet,))\n",
      "    1     1     0   288 3.6325e+01  1.0e+00    5.1e+00 (market_clearance[PFX)\n",
      "pn_search terminated: no basis change.\n",
      "\n",
      "Major Iteration Log\n",
      "major minor  func  grad  residual    step  type prox    inorm  (label)\n",
      "    0     0     2     2 3.6325e+01           I 3.6e-01 3.6e+01 (market_clearanc)\n",
      "    1     1     3     3 1.1756e+00  1.0e+00 SO 1.5e-01 9.1e-01 (market_clearanc)\n",
      "    2     1     4     4 1.6501e-02  1.0e+00 SO 5.8e-02 1.3e-02 (market_clearanc)\n",
      "    3     1     5     5 3.2813e-04  1.0e+00 SO 1.7e-03 2.8e-04 (market_clearanc)\n",
      "    4     1     6     6 1.7256e-07  1.0e+00 SO 3.3e-05 1.4e-07 (market_clearanc)\n",
      "\n",
      "Major Iterations. . . . 4\n",
      "Minor Iterations. . . . 4\n",
      "Restarts. . . . . . . . 0\n",
      "Crash Iterations. . . . 1\n",
      "Gradient Steps. . . . . 0\n",
      "Function Evaluations. . 6\n",
      "Gradient Evaluations. . 6\n",
      "Basis Time. . . . . . . 0.016000\n",
      "Total Time. . . . . . . 0.016000\n",
      "Residual. . . . . . . . 1.725646e-07\n",
      "Postsolved residual: 1.7256e-07\n",
      "\n",
      "\n",
      "Solver Status: LOCALLY_SOLVED\n",
      "Model Status: FEASIBLE_POINT"
     ]
    }
   ],
   "source": [
    "fix(RA,12453.896315446877)\n",
    "\n",
    "set_value!(ta,0)\n",
    "set_value!(tm,0)\n",
    "\n",
    "solve!(WiNnat)\n",
    "\n",
    "df = generate_report(WiNnat);"
   ]
  },
  {
   "cell_type": "code",
   "execution_count": 7,
   "metadata": {},
   "outputs": [
    {
     "data": {
      "text/html": [
       "<div><div style = \"float: left;\"><span>289×3 DataFrame</span></div><div style = \"float: right;\"><span style = \"font-style: italic;\">264 rows omitted</span></div><div style = \"clear: both;\"></div></div><div class = \"data-frame\" style = \"overflow-x: scroll;\"><table class = \"data-frame\" style = \"margin-bottom: 6px;\"><thead><tr class = \"header\"><th class = \"rowNumber\" style = \"font-weight: bold; text-align: right;\">Row</th><th style = \"text-align: left;\">var</th><th style = \"text-align: left;\">value</th><th style = \"text-align: left;\">margin</th></tr><tr class = \"subheader headerLastRow\"><th class = \"rowNumber\" style = \"font-weight: bold; text-align: right;\"></th><th title = \"VariableRef\" style = \"text-align: left;\">GenericV…</th><th title = \"Float64\" style = \"text-align: left;\">Float64</th><th title = \"Float64\" style = \"text-align: left;\">Float64</th></tr></thead><tbody><tr><td class = \"rowNumber\" style = \"font-weight: bold; text-align: right;\">1</td><td style = \"text-align: left;\">PA[pip]</td><td style = \"text-align: right;\">0.779862</td><td style = \"text-align: right;\">1.39383e-7</td></tr><tr><td class = \"rowNumber\" style = \"font-weight: bold; text-align: right;\">2</td><td style = \"text-align: left;\">RA</td><td style = \"text-align: right;\">12453.9</td><td style = \"text-align: right;\">6.86305e-8</td></tr><tr><td class = \"rowNumber\" style = \"font-weight: bold; text-align: right;\">3</td><td style = \"text-align: left;\">PY[oil]</td><td style = \"text-align: right;\">0.970186</td><td style = \"text-align: right;\">2.89759e-10</td></tr><tr><td class = \"rowNumber\" style = \"font-weight: bold; text-align: right;\">4</td><td style = \"text-align: left;\">PA[pet]</td><td style = \"text-align: right;\">0.820925</td><td style = \"text-align: right;\">2.49315e-10</td></tr><tr><td class = \"rowNumber\" style = \"font-weight: bold; text-align: right;\">5</td><td style = \"text-align: left;\">PVA[compen]</td><td style = \"text-align: right;\">0.9916</td><td style = \"text-align: right;\">7.82165e-11</td></tr><tr><td class = \"rowNumber\" style = \"font-weight: bold; text-align: right;\">6</td><td style = \"text-align: left;\">PY[pet]</td><td style = \"text-align: right;\">0.95076</td><td style = \"text-align: right;\">5.69571e-11</td></tr><tr><td class = \"rowNumber\" style = \"font-weight: bold; text-align: right;\">7</td><td style = \"text-align: left;\">PA[alt]</td><td style = \"text-align: right;\">0.876066</td><td style = \"text-align: right;\">3.57545e-11</td></tr><tr><td class = \"rowNumber\" style = \"font-weight: bold; text-align: right;\">8</td><td style = \"text-align: left;\">PA[mot]</td><td style = \"text-align: right;\">0.929959</td><td style = \"text-align: right;\">2.9786e-11</td></tr><tr><td class = \"rowNumber\" style = \"font-weight: bold; text-align: right;\">9</td><td style = \"text-align: left;\">PA[cep]</td><td style = \"text-align: right;\">0.957657</td><td style = \"text-align: right;\">2.60911e-11</td></tr><tr><td class = \"rowNumber\" style = \"font-weight: bold; text-align: right;\">10</td><td style = \"text-align: left;\">PA[oil]</td><td style = \"text-align: right;\">0.944984</td><td style = \"text-align: right;\">1.59494e-11</td></tr><tr><td class = \"rowNumber\" style = \"font-weight: bold; text-align: right;\">11</td><td style = \"text-align: left;\">PA[uti]</td><td style = \"text-align: right;\">0.919269</td><td style = \"text-align: right;\">1.58593e-11</td></tr><tr><td class = \"rowNumber\" style = \"font-weight: bold; text-align: right;\">12</td><td style = \"text-align: left;\">PA[eec]</td><td style = \"text-align: right;\">0.937841</td><td style = \"text-align: right;\">9.80549e-12</td></tr><tr><td class = \"rowNumber\" style = \"font-weight: bold; text-align: right;\">13</td><td style = \"text-align: left;\">PY[mot]</td><td style = \"text-align: right;\">0.950392</td><td style = \"text-align: right;\">8.75389e-12</td></tr><tr><td style = \"text-align: right;\">&vellip;</td><td style = \"text-align: right;\">&vellip;</td><td style = \"text-align: right;\">&vellip;</td><td style = \"text-align: right;\">&vellip;</td></tr><tr><td class = \"rowNumber\" style = \"font-weight: bold; text-align: right;\">278</td><td style = \"text-align: left;\">PA[sec]</td><td style = \"text-align: right;\">0.973614</td><td style = \"text-align: right;\">-1.54046e-11</td></tr><tr><td class = \"rowNumber\" style = \"font-weight: bold; text-align: right;\">279</td><td style = \"text-align: left;\">PA[res]</td><td style = \"text-align: right;\">0.905439</td><td style = \"text-align: right;\">-1.79625e-11</td></tr><tr><td class = \"rowNumber\" style = \"font-weight: bold; text-align: right;\">280</td><td style = \"text-align: left;\">PA[ote]</td><td style = \"text-align: right;\">0.961442</td><td style = \"text-align: right;\">-2.25953e-11</td></tr><tr><td class = \"rowNumber\" style = \"font-weight: bold; text-align: right;\">281</td><td style = \"text-align: left;\">PA[bnk]</td><td style = \"text-align: right;\">0.979008</td><td style = \"text-align: right;\">-2.44995e-11</td></tr><tr><td class = \"rowNumber\" style = \"font-weight: bold; text-align: right;\">282</td><td style = \"text-align: left;\">PA[brd]</td><td style = \"text-align: right;\">0.912848</td><td style = \"text-align: right;\">-2.5409e-11</td></tr><tr><td class = \"rowNumber\" style = \"font-weight: bold; text-align: right;\">283</td><td style = \"text-align: left;\">PA[fbp]</td><td style = \"text-align: right;\">0.905582</td><td style = \"text-align: right;\">-3.29692e-11</td></tr><tr><td class = \"rowNumber\" style = \"font-weight: bold; text-align: right;\">284</td><td style = \"text-align: left;\">PA[rnt]</td><td style = \"text-align: right;\">0.932068</td><td style = \"text-align: right;\">-3.43761e-11</td></tr><tr><td class = \"rowNumber\" style = \"font-weight: bold; text-align: right;\">285</td><td style = \"text-align: left;\">PA[hou]</td><td style = \"text-align: right;\">1.00056</td><td style = \"text-align: right;\">-2.01908e-10</td></tr><tr><td class = \"rowNumber\" style = \"font-weight: bold; text-align: right;\">286</td><td style = \"text-align: left;\">PVA[surplus]</td><td style = \"text-align: right;\">0.98421</td><td style = \"text-align: right;\">-3.61069e-10</td></tr><tr><td class = \"rowNumber\" style = \"font-weight: bold; text-align: right;\">287</td><td style = \"text-align: left;\">Y[pip]</td><td style = \"text-align: right;\">1.02794</td><td style = \"text-align: right;\">-4.12259e-10</td></tr><tr><td class = \"rowNumber\" style = \"font-weight: bold; text-align: right;\">288</td><td style = \"text-align: left;\">A[pip]</td><td style = \"text-align: right;\">1.06223</td><td style = \"text-align: right;\">-4.54719e-8</td></tr><tr><td class = \"rowNumber\" style = \"font-weight: bold; text-align: right;\">289</td><td style = \"text-align: left;\">PFX</td><td style = \"text-align: right;\">0.97386</td><td style = \"text-align: right;\">-9.10101e-8</td></tr></tbody></table></div>"
      ],
      "text/latex": [
       "\\begin{tabular}{r|ccc}\n",
       "\t& var & value & margin\\\\\n",
       "\t\\hline\n",
       "\t& GenericV… & Float64 & Float64\\\\\n",
       "\t\\hline\n",
       "\t1 & $ PA_{pip} $ & 0.779862 & 1.39383e-7 \\\\\n",
       "\t2 & $ RA $ & 12453.9 & 6.86305e-8 \\\\\n",
       "\t3 & $ PY_{oil} $ & 0.970186 & 2.89759e-10 \\\\\n",
       "\t4 & $ PA_{pet} $ & 0.820925 & 2.49315e-10 \\\\\n",
       "\t5 & $ PVA_{compen} $ & 0.9916 & 7.82165e-11 \\\\\n",
       "\t6 & $ PY_{pet} $ & 0.95076 & 5.69571e-11 \\\\\n",
       "\t7 & $ PA_{alt} $ & 0.876066 & 3.57545e-11 \\\\\n",
       "\t8 & $ PA_{mot} $ & 0.929959 & 2.9786e-11 \\\\\n",
       "\t9 & $ PA_{cep} $ & 0.957657 & 2.60911e-11 \\\\\n",
       "\t10 & $ PA_{oil} $ & 0.944984 & 1.59494e-11 \\\\\n",
       "\t11 & $ PA_{uti} $ & 0.919269 & 1.58593e-11 \\\\\n",
       "\t12 & $ PA_{eec} $ & 0.937841 & 9.80549e-12 \\\\\n",
       "\t13 & $ PY_{mot} $ & 0.950392 & 8.75389e-12 \\\\\n",
       "\t14 & $ PA_{mmf} $ & 0.933638 & 7.44649e-12 \\\\\n",
       "\t15 & $ PA_{fpd} $ & 0.926863 & 6.36646e-12 \\\\\n",
       "\t16 & $ Y_{pmt} $ & 1.01859 & 5.04485e-12 \\\\\n",
       "\t17 & $ Y_{ote} $ & 1.00279 & 5.02487e-12 \\\\\n",
       "\t18 & $ Y_{smn} $ & 0.970472 & 4.95071e-12 \\\\\n",
       "\t19 & $ PA_{mch} $ & 0.947639 & 4.66116e-12 \\\\\n",
       "\t20 & $ Y_{cep} $ & 0.985267 & 4.30145e-12 \\\\\n",
       "\t21 & $ Y_{alt} $ & 0.849291 & 4.05032e-12 \\\\\n",
       "\t22 & $ Y_{fof} $ & 1.012 & 3.93574e-12 \\\\\n",
       "\t23 & $ Y_{eec} $ & 0.993423 & 3.92686e-12 \\\\\n",
       "\t24 & $ PY_{mch} $ & 0.965957 & 3.75167e-12 \\\\\n",
       "\t$\\dots$ & $\\dots$ & $\\dots$ & $\\dots$ \\\\\n",
       "\\end{tabular}\n"
      ],
      "text/plain": [
       "\u001b[1m289×3 DataFrame\u001b[0m\n",
       "\u001b[1m Row \u001b[0m│\u001b[1m var          \u001b[0m\u001b[1m value        \u001b[0m\u001b[1m margin       \u001b[0m\n",
       "     │\u001b[90m GenericV…    \u001b[0m\u001b[90m Float64      \u001b[0m\u001b[90m Float64      \u001b[0m\n",
       "─────┼──────────────────────────────────────────\n",
       "   1 │ PA[pip]           0.779862   1.39383e-7\n",
       "   2 │ RA            12453.9        6.86305e-8\n",
       "   3 │ PY[oil]           0.970186   2.89759e-10\n",
       "   4 │ PA[pet]           0.820925   2.49315e-10\n",
       "   5 │ PVA[compen]       0.9916     7.82165e-11\n",
       "   6 │ PY[pet]           0.95076    5.69571e-11\n",
       "   7 │ PA[alt]           0.876066   3.57545e-11\n",
       "   8 │ PA[mot]           0.929959   2.9786e-11\n",
       "  ⋮  │      ⋮             ⋮             ⋮\n",
       " 283 │ PA[fbp]           0.905582  -3.29692e-11\n",
       " 284 │ PA[rnt]           0.932068  -3.43761e-11\n",
       " 285 │ PA[hou]           1.00056   -2.01908e-10\n",
       " 286 │ PVA[surplus]      0.98421   -3.61069e-10\n",
       " 287 │ Y[pip]            1.02794   -4.12259e-10\n",
       " 288 │ A[pip]            1.06223   -4.54719e-8\n",
       " 289 │ PFX               0.97386   -9.10101e-8\n",
       "\u001b[36m                                274 rows omitted\u001b[0m"
      ]
     },
     "metadata": {},
     "output_type": "display_data"
    }
   ],
   "source": [
    "df |>\n",
    "    x -> sort(x, :margin, rev=true)"
   ]
  },
  {
   "cell_type": "code",
   "execution_count": 8,
   "metadata": {},
   "outputs": [
    {
     "data": {
      "text/plain": [
       "1-dimensional DenseAxisArray{Float64,1,...} with index sets:\n",
       "    Dimension 1, [:ppd, :res, :com, :amb, :fbp, :rec, :con, :agr, :eec, :fnd  …  :wtt, :wpd, :wht, :wrh, :ott, :che, :air, :mmf, :otr, :min]\n",
       "And data, a 71-element Vector{Float64}:\n",
       " 1.0187953968971064\n",
       " 1.0391645102222007\n",
       " 0.9992135081062236\n",
       " 0.9692416078119321\n",
       " 1.0440198767082485\n",
       " 1.0255766610783168\n",
       " 0.9987278473193701\n",
       " 1.0265093778213463\n",
       " 0.9934230640379613\n",
       " 1.0000000000000018\n",
       " ⋮\n",
       " 1.0065181451956695\n",
       " 1.02303098035276\n",
       " 1.0194303238163005\n",
       " 1.0234945511351343\n",
       " 1.0054452574139812\n",
       " 1.0853479140957458\n",
       " 0.9969695826772471\n",
       " 1.0224548485723481\n",
       " 1.0168041982593228"
      ]
     },
     "metadata": {},
     "output_type": "display_data"
    }
   ],
   "source": [
    "value.(Y)"
   ]
  },
  {
   "cell_type": "code",
   "execution_count": 9,
   "metadata": {},
   "outputs": [],
   "source": []
  }
 ],
 "metadata": {
  "kernelspec": {
   "display_name": "Julia 1.9.2",
   "language": "julia",
   "name": "julia-1.9"
  },
  "language_info": {
   "file_extension": ".jl",
   "mimetype": "application/julia",
   "name": "julia",
   "version": "1.9.2"
  }
 },
 "nbformat": 4,
 "nbformat_minor": 2
}
