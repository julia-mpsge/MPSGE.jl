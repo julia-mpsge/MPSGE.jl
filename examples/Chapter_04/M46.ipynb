{
 "cells": [
  {
   "cell_type": "markdown",
   "metadata": {},
   "source": [
    "# M46\n",
    "\n",
    "Small open economy model with a benchmark trade imbalance\n",
    "\n",
    "|Markets   |     X1  |    X2  |    E1  |    M2  |    W    |   CONS|\n",
    "|----------|---------|--------|--------|--------|---------|-------|\n",
    "|P1        |    150  |        |   -40  |        |   -110  |       |       \n",
    "|P2        |         |    50  |        |    60  |   -110  |       |       \n",
    "|PL        |   -100  |   -20  |        |        |         |    120|\n",
    "|PK        |    -50  |   -30  |        |        |         |     80|\n",
    "|PW        |         |        |        |        |    220  |   -220|\n",
    "|PFX       |         |        |    40  |   -60  |         |     20|\n"
   ]
  },
  {
   "cell_type": "code",
   "execution_count": 1,
   "metadata": {},
   "outputs": [],
   "source": [
    "using MPSGE"
   ]
  },
  {
   "cell_type": "code",
   "execution_count": 6,
   "metadata": {},
   "outputs": [],
   "source": [
    "M46 = MPSGEModel()\n",
    "\n",
    "\n",
    "initial_tax = 0\n",
    "\n",
    "@parameters(M46, begin\n",
    "    PE1, 1,     (description = \"Export price of good 1\",)\n",
    "    PE2, 1/(1+initial_tax)*.99,   (description = \"Export price of good 2\",)\n",
    "    PM1, 1.01,  (description = \"Import price of good 1\",)\n",
    "    PM2, 1/(1+initial_tax),     (description = \"Import price of good 1\",)    \n",
    "    TM2, initial_tax, (description = \"Tariff for good 2\",)\n",
    "    BOPDEF, 20, (description = \"Balance of payments, net deficit\",)\n",
    "end)\n",
    "\n",
    "@sectors(M46, begin\n",
    "    X1,\t(description = \"Production index for good 1\",)\n",
    "    X2,\t(description = \"Production index good 2\",)\n",
    "    E1,\t(description = \"Export level of good 1\",)\n",
    "    E2,\t(description = \"Export level of good 2\",)\n",
    "    M1,\t(description = \"Import level of good 1\",)\n",
    "    M2,\t(description = \"Import level of good 2\",)\n",
    "    W,\t(description = \"Welfare index \",)\n",
    "end)\n",
    "@commodities(M46, begin\n",
    "    P1,\t(description = \"Price index for good 1\",)\n",
    "    P2,\t(description = \"Price index for good 1\",)\n",
    "    PFX,\t(description = \"Read exchange rate index\",)\n",
    "    PW,\t(description = \"Welfare price index\",)\n",
    "    PL,\t(description = \"Wage index\",)\n",
    "    PK,\t(description = \"Capital rental index\",)\n",
    "end)\n",
    "@consumers(M46, begin\n",
    "    CONS,\t(description = \"Income level for representative agent\",)\n",
    "end)\n",
    "\n",
    "\n",
    "@production(M46, X1, [s=1,t=0],begin\n",
    "    @output(P1, 150, t)\n",
    "    @input(PL, 100,s)\n",
    "    @input(PK, 50, s)\n",
    "end)\n",
    "\n",
    "@production(M46, X2, [s=1,t=0], begin\n",
    "    @output(P2, 50, t)\n",
    "    @input(PL, 20, s)\n",
    "    @input(PK, 30, s)\n",
    "end)\n",
    "\n",
    "@production(M46, E1, [s=0,t=0], begin\n",
    "    @output(PFX, 40*PE1, t)\n",
    "    @input(P1, 40, s)\n",
    "end)\n",
    "\n",
    "@production(M46, M2, [s=0,t=0], begin\n",
    "    @output(P2, 60, t)\n",
    "    @input(PFX, 60*PM2, s, taxes = [Tax(CONS, TM2)]) # what is N?\n",
    "end)\n",
    "\n",
    "@production(M46, E2, [s=0,t=0], begin\n",
    "    @output(PFX, 60*PE2, t)\n",
    "    @input(P2, 60, s)\n",
    "end)\n",
    "\n",
    "@production(M46, M1, [s=0,t=0], begin\n",
    "    @output(P1, 40, t)\n",
    "    @input(PFX, 40*PM1, s)\n",
    "end)\n",
    "\n",
    "@production(M46, W, [s=1,t=0], begin\n",
    "    @output(PW, 220, t)\n",
    "    @input(P1, 110, s)\n",
    "    @input(P2, 110, s)\n",
    "end)\n",
    "\n",
    "@demand(M46, CONS, begin\n",
    "    @final_demand(PW, 220)\n",
    "end,begin\n",
    "    @endowment(PL, 120)\n",
    "    @endowment(PK, 80)\n",
    "    @endowment(PFX, BOPDEF)\n",
    "end);"
   ]
  },
  {
   "cell_type": "markdown",
   "metadata": {},
   "source": [
    "# Benchmark"
   ]
  },
  {
   "cell_type": "code",
   "execution_count": 7,
   "metadata": {},
   "outputs": [
    {
     "name": "stdout",
     "output_type": "stream",
     "text": [
      "Reading options file C:\\Users\\MPHILL~1\\AppData\\Local\\Temp\\jl_E2DB.tmp\n",
      " > cumulative_iteration_limit 0\n",
      "Read of options file complete.\n",
      "\n",
      "Path 5.0.03 (Fri Jun 26 10:05:33 2020)\n",
      "Written by Todd Munson, Steven Dirkse, Youngdae Kim, and Michael Ferris\n",
      "Preprocessed size   : 13\n",
      "\n",
      "Major Iteration Log\n",
      "major minor  func  grad  residual    step  type prox    inorm  (label)\n",
      "    0     0     1     1 0.0000e+00           I 0.0e+00 0.0e+00 (zero_profit[X1)\n",
      "\n",
      "Major Iterations. . . . 0\n",
      "Minor Iterations. . . . 0\n",
      "Restarts. . . . . . . . 0\n",
      "Crash Iterations. . . . 0\n",
      "Gradient Steps. . . . . 0\n",
      "Function Evaluations. . 1\n",
      "Gradient Evaluations. . 1\n",
      "Basis Time. . . . . . . 0.000000\n",
      "Total Time. . . . . . . 0.078000\n",
      "Residual. . . . . . . . 0.000000e+00\n",
      "Postsolved residual: 0.0000e+00\n",
      "\n",
      "\n",
      "Solver Status: LOCALLY_SOLVED\n",
      "Model Status: FEASIBLE_POINT\n",
      "\n",
      "Default price normalization using income for CONS - This value is fixed. Unfix with unfix(CONS)."
     ]
    },
    {
     "data": {
      "text/html": [
       "<div><div style = \"float: left;\"><span>14×3 DataFrame</span></div><div style = \"clear: both;\"></div></div><div class = \"data-frame\" style = \"overflow-x: scroll;\"><table class = \"data-frame\" style = \"margin-bottom: 6px;\"><thead><tr class = \"header\"><th class = \"rowNumber\" style = \"font-weight: bold; text-align: right;\">Row</th><th style = \"text-align: left;\">var</th><th style = \"text-align: left;\">value</th><th style = \"text-align: left;\">margin</th></tr><tr class = \"subheader headerLastRow\"><th class = \"rowNumber\" style = \"font-weight: bold; text-align: right;\"></th><th title = \"JuMP.VariableRef\" style = \"text-align: left;\">GenericV…</th><th title = \"Float64\" style = \"text-align: left;\">Float64</th><th title = \"Float64\" style = \"text-align: left;\">Float64</th></tr></thead><tbody><tr><td class = \"rowNumber\" style = \"font-weight: bold; text-align: right;\">1</td><td style = \"text-align: left;\">X1</td><td style = \"text-align: right;\">1.0</td><td style = \"text-align: right;\">0.0</td></tr><tr><td class = \"rowNumber\" style = \"font-weight: bold; text-align: right;\">2</td><td style = \"text-align: left;\">X2</td><td style = \"text-align: right;\">1.0</td><td style = \"text-align: right;\">0.0</td></tr><tr><td class = \"rowNumber\" style = \"font-weight: bold; text-align: right;\">3</td><td style = \"text-align: left;\">W</td><td style = \"text-align: right;\">1.0</td><td style = \"text-align: right;\">0.0</td></tr><tr><td class = \"rowNumber\" style = \"font-weight: bold; text-align: right;\">4</td><td style = \"text-align: left;\">M2</td><td style = \"text-align: right;\">1.0</td><td style = \"text-align: right;\">0.0</td></tr><tr><td class = \"rowNumber\" style = \"font-weight: bold; text-align: right;\">5</td><td style = \"text-align: left;\">PL</td><td style = \"text-align: right;\">1.0</td><td style = \"text-align: right;\">0.0</td></tr><tr><td class = \"rowNumber\" style = \"font-weight: bold; text-align: right;\">6</td><td style = \"text-align: left;\">PW</td><td style = \"text-align: right;\">1.0</td><td style = \"text-align: right;\">0.0</td></tr><tr><td class = \"rowNumber\" style = \"font-weight: bold; text-align: right;\">7</td><td style = \"text-align: left;\">P1</td><td style = \"text-align: right;\">1.0</td><td style = \"text-align: right;\">0.0</td></tr><tr><td class = \"rowNumber\" style = \"font-weight: bold; text-align: right;\">8</td><td style = \"text-align: left;\">PK</td><td style = \"text-align: right;\">1.0</td><td style = \"text-align: right;\">0.0</td></tr><tr><td class = \"rowNumber\" style = \"font-weight: bold; text-align: right;\">9</td><td style = \"text-align: left;\">P2</td><td style = \"text-align: right;\">1.0</td><td style = \"text-align: right;\">0.0</td></tr><tr><td class = \"rowNumber\" style = \"font-weight: bold; text-align: right;\">10</td><td style = \"text-align: left;\">CONS</td><td style = \"text-align: right;\">220.0</td><td style = \"text-align: right;\">0.0</td></tr><tr><td class = \"rowNumber\" style = \"font-weight: bold; text-align: right;\">11</td><td style = \"text-align: left;\">M1</td><td style = \"text-align: right;\">0.0</td><td style = \"text-align: right;\">0.4</td></tr><tr><td class = \"rowNumber\" style = \"font-weight: bold; text-align: right;\">12</td><td style = \"text-align: left;\">E1</td><td style = \"text-align: right;\">1.0</td><td style = \"text-align: right;\">0.0</td></tr><tr><td class = \"rowNumber\" style = \"font-weight: bold; text-align: right;\">13</td><td style = \"text-align: left;\">E2</td><td style = \"text-align: right;\">0.0</td><td style = \"text-align: right;\">0.6</td></tr><tr><td class = \"rowNumber\" style = \"font-weight: bold; text-align: right;\">14</td><td style = \"text-align: left;\">PFX</td><td style = \"text-align: right;\">1.0</td><td style = \"text-align: right;\">0.0</td></tr></tbody></table></div>"
      ],
      "text/latex": [
       "\\begin{tabular}{r|ccc}\n",
       "\t& var & value & margin\\\\\n",
       "\t\\hline\n",
       "\t& GenericV… & Float64 & Float64\\\\\n",
       "\t\\hline\n",
       "\t1 & $ X1 $ & 1.0 & 0.0 \\\\\n",
       "\t2 & $ X2 $ & 1.0 & 0.0 \\\\\n",
       "\t3 & $ W $ & 1.0 & 0.0 \\\\\n",
       "\t4 & $ M2 $ & 1.0 & 0.0 \\\\\n",
       "\t5 & $ PL $ & 1.0 & 0.0 \\\\\n",
       "\t6 & $ PW $ & 1.0 & 0.0 \\\\\n",
       "\t7 & $ P1 $ & 1.0 & 0.0 \\\\\n",
       "\t8 & $ PK $ & 1.0 & 0.0 \\\\\n",
       "\t9 & $ P2 $ & 1.0 & 0.0 \\\\\n",
       "\t10 & $ CONS $ & 220.0 & 0.0 \\\\\n",
       "\t11 & $ M1 $ & 0.0 & 0.4 \\\\\n",
       "\t12 & $ E1 $ & 1.0 & 0.0 \\\\\n",
       "\t13 & $ E2 $ & 0.0 & 0.6 \\\\\n",
       "\t14 & $ PFX $ & 1.0 & 0.0 \\\\\n",
       "\\end{tabular}\n"
      ],
      "text/plain": [
       "\u001b[1m14×3 DataFrame\u001b[0m\n",
       "\u001b[1m Row \u001b[0m│\u001b[1m var       \u001b[0m\u001b[1m value   \u001b[0m\u001b[1m margin  \u001b[0m\n",
       "     │\u001b[90m GenericV… \u001b[0m\u001b[90m Float64 \u001b[0m\u001b[90m Float64 \u001b[0m\n",
       "─────┼─────────────────────────────\n",
       "   1 │ X1             1.0      0.0\n",
       "   2 │ X2             1.0      0.0\n",
       "   3 │ W              1.0      0.0\n",
       "   4 │ M2             1.0      0.0\n",
       "   5 │ PL             1.0      0.0\n",
       "   6 │ PW             1.0      0.0\n",
       "   7 │ P1             1.0      0.0\n",
       "   8 │ PK             1.0      0.0\n",
       "   9 │ P2             1.0      0.0\n",
       "  10 │ CONS         220.0      0.0\n",
       "  11 │ M1             0.0      0.4\n",
       "  12 │ E1             1.0      0.0\n",
       "  13 │ E2             0.0      0.6\n",
       "  14 │ PFX            1.0      0.0"
      ]
     },
     "metadata": {},
     "output_type": "display_data"
    }
   ],
   "source": [
    "set_start_value(E2, 0)\n",
    "set_start_value(M1, 0)\n",
    "\n",
    "solve!(M46, cumulative_iteration_limit =0)\n",
    "generate_report(M46)"
   ]
  },
  {
   "cell_type": "markdown",
   "metadata": {},
   "source": [
    "# Counterfactual"
   ]
  },
  {
   "cell_type": "code",
   "execution_count": 10,
   "metadata": {},
   "outputs": [
    {
     "name": "stdout",
     "output_type": "stream",
     "text": [
      "Reading options file C:\\Users\\MPHILL~1\\AppData\\Local\\Temp\\jl_73F8.tmp\n",
      " > cumulative_iteration_limit 10000\n",
      "Read of options file complete.\n",
      "\n",
      "Path 5.0.03 (Fri Jun 26 10:05:33 2020)\n",
      "Written by Todd Munson, Steven Dirkse, Youngdae Kim, and Michael Ferris\n",
      "\n",
      "Preprocessed size   : 13\n",
      "\n",
      "Crash Log\n",
      "major  func  diff  size  residual    step       prox   (label)\n",
      "    0     0             1.9118e+01             0.0e+00 (income_balance[CONS)\n",
      "    1     1     0    11 0.0000e+00  1.0e+00    0.0e+00 (income_balance[CONS)\n",
      "pn_search terminated: no basis change.\n",
      "\n",
      "Major Iteration Log\n",
      "major minor  func  grad  residual    step  type prox    inorm  (label)\n",
      "    0     0     2     2 0.0000e+00           I 0.0e+00 0.0e+00 (income_balance[)\n",
      "\n",
      "Major Iterations. . . . 0\n",
      "Minor Iterations. . . . 0\n",
      "Restarts. . . . . . . . 0\n",
      "Crash Iterations. . . . 1\n",
      "Gradient Steps. . . . . 0\n",
      "Function Evaluations. . 2\n",
      "Gradient Evaluations. . 2\n",
      "Basis Time. . . . . . . 0.000000\n",
      "Total Time. . . . . . . 0.000000\n",
      "Residual. . . . . . . . 0.000000e+00\n",
      "Postsolved residual: 0.0000e+00\n",
      "\n",
      "\n",
      "Solver Status: LOCALLY_SOLVED\n",
      "Model Status: FEASIBLE_POINT"
     ]
    },
    {
     "data": {
      "text/html": [
       "<div><div style = \"float: left;\"><span>14×3 DataFrame</span></div><div style = \"clear: both;\"></div></div><div class = \"data-frame\" style = \"overflow-x: scroll;\"><table class = \"data-frame\" style = \"margin-bottom: 6px;\"><thead><tr class = \"header\"><th class = \"rowNumber\" style = \"font-weight: bold; text-align: right;\">Row</th><th style = \"text-align: left;\">var</th><th style = \"text-align: left;\">value</th><th style = \"text-align: left;\">margin</th></tr><tr class = \"subheader headerLastRow\"><th class = \"rowNumber\" style = \"font-weight: bold; text-align: right;\"></th><th title = \"JuMP.VariableRef\" style = \"text-align: left;\">GenericV…</th><th title = \"Float64\" style = \"text-align: left;\">Float64</th><th title = \"Float64\" style = \"text-align: left;\">Float64</th></tr></thead><tbody><tr><td class = \"rowNumber\" style = \"font-weight: bold; text-align: right;\">1</td><td style = \"text-align: left;\">X1</td><td style = \"text-align: right;\">1.0</td><td style = \"text-align: right;\">0.0</td></tr><tr><td class = \"rowNumber\" style = \"font-weight: bold; text-align: right;\">2</td><td style = \"text-align: left;\">X2</td><td style = \"text-align: right;\">1.0</td><td style = \"text-align: right;\">0.0</td></tr><tr><td class = \"rowNumber\" style = \"font-weight: bold; text-align: right;\">3</td><td style = \"text-align: left;\">W</td><td style = \"text-align: right;\">0.909091</td><td style = \"text-align: right;\">0.0</td></tr><tr><td class = \"rowNumber\" style = \"font-weight: bold; text-align: right;\">4</td><td style = \"text-align: left;\">M2</td><td style = \"text-align: right;\">0.833333</td><td style = \"text-align: right;\">0.0</td></tr><tr><td class = \"rowNumber\" style = \"font-weight: bold; text-align: right;\">5</td><td style = \"text-align: left;\">PL</td><td style = \"text-align: right;\">1.0</td><td style = \"text-align: right;\">0.0</td></tr><tr><td class = \"rowNumber\" style = \"font-weight: bold; text-align: right;\">6</td><td style = \"text-align: left;\">PW</td><td style = \"text-align: right;\">1.0</td><td style = \"text-align: right;\">0.0</td></tr><tr><td class = \"rowNumber\" style = \"font-weight: bold; text-align: right;\">7</td><td style = \"text-align: left;\">P1</td><td style = \"text-align: right;\">1.0</td><td style = \"text-align: right;\">0.0</td></tr><tr><td class = \"rowNumber\" style = \"font-weight: bold; text-align: right;\">8</td><td style = \"text-align: left;\">PK</td><td style = \"text-align: right;\">1.0</td><td style = \"text-align: right;\">0.0</td></tr><tr><td class = \"rowNumber\" style = \"font-weight: bold; text-align: right;\">9</td><td style = \"text-align: left;\">P2</td><td style = \"text-align: right;\">1.0</td><td style = \"text-align: right;\">0.0</td></tr><tr><td class = \"rowNumber\" style = \"font-weight: bold; text-align: right;\">10</td><td style = \"text-align: left;\">CONS</td><td style = \"text-align: right;\">200.0</td><td style = \"text-align: right;\">0.0</td></tr><tr><td class = \"rowNumber\" style = \"font-weight: bold; text-align: right;\">11</td><td style = \"text-align: left;\">M1</td><td style = \"text-align: right;\">0.0</td><td style = \"text-align: right;\">0.4</td></tr><tr><td class = \"rowNumber\" style = \"font-weight: bold; text-align: right;\">12</td><td style = \"text-align: left;\">E1</td><td style = \"text-align: right;\">1.25</td><td style = \"text-align: right;\">0.0</td></tr><tr><td class = \"rowNumber\" style = \"font-weight: bold; text-align: right;\">13</td><td style = \"text-align: left;\">E2</td><td style = \"text-align: right;\">0.0</td><td style = \"text-align: right;\">0.6</td></tr><tr><td class = \"rowNumber\" style = \"font-weight: bold; text-align: right;\">14</td><td style = \"text-align: left;\">PFX</td><td style = \"text-align: right;\">1.0</td><td style = \"text-align: right;\">0.0</td></tr></tbody></table></div>"
      ],
      "text/latex": [
       "\\begin{tabular}{r|ccc}\n",
       "\t& var & value & margin\\\\\n",
       "\t\\hline\n",
       "\t& GenericV… & Float64 & Float64\\\\\n",
       "\t\\hline\n",
       "\t1 & $ X1 $ & 1.0 & 0.0 \\\\\n",
       "\t2 & $ X2 $ & 1.0 & 0.0 \\\\\n",
       "\t3 & $ W $ & 0.909091 & 0.0 \\\\\n",
       "\t4 & $ M2 $ & 0.833333 & 0.0 \\\\\n",
       "\t5 & $ PL $ & 1.0 & 0.0 \\\\\n",
       "\t6 & $ PW $ & 1.0 & 0.0 \\\\\n",
       "\t7 & $ P1 $ & 1.0 & 0.0 \\\\\n",
       "\t8 & $ PK $ & 1.0 & 0.0 \\\\\n",
       "\t9 & $ P2 $ & 1.0 & 0.0 \\\\\n",
       "\t10 & $ CONS $ & 200.0 & 0.0 \\\\\n",
       "\t11 & $ M1 $ & 0.0 & 0.4 \\\\\n",
       "\t12 & $ E1 $ & 1.25 & 0.0 \\\\\n",
       "\t13 & $ E2 $ & 0.0 & 0.6 \\\\\n",
       "\t14 & $ PFX $ & 1.0 & 0.0 \\\\\n",
       "\\end{tabular}\n"
      ],
      "text/plain": [
       "\u001b[1m14×3 DataFrame\u001b[0m\n",
       "\u001b[1m Row \u001b[0m│\u001b[1m var       \u001b[0m\u001b[1m value      \u001b[0m\u001b[1m margin  \u001b[0m\n",
       "     │\u001b[90m GenericV… \u001b[0m\u001b[90m Float64    \u001b[0m\u001b[90m Float64 \u001b[0m\n",
       "─────┼────────────────────────────────\n",
       "   1 │ X1           1.0           0.0\n",
       "   2 │ X2           1.0           0.0\n",
       "   3 │ W            0.909091      0.0\n",
       "   4 │ M2           0.833333      0.0\n",
       "   5 │ PL           1.0           0.0\n",
       "   6 │ PW           1.0           0.0\n",
       "   7 │ P1           1.0           0.0\n",
       "   8 │ PK           1.0           0.0\n",
       "   9 │ P2           1.0           0.0\n",
       "  10 │ CONS       200.0           0.0\n",
       "  11 │ M1           0.0           0.4\n",
       "  12 │ E1           1.25          0.0\n",
       "  13 │ E2           0.0           0.6\n",
       "  14 │ PFX          1.0           0.0"
      ]
     },
     "metadata": {},
     "output_type": "display_data"
    }
   ],
   "source": [
    "unfix(CONS)\n",
    "fix(PW,1)\n",
    "\n",
    "set_value!(BOPDEF,0)\n",
    "\n",
    "solve!(M46)\n",
    "generate_report(M46)"
   ]
  },
  {
   "cell_type": "markdown",
   "metadata": {},
   "source": [
    "# Counterfactual"
   ]
  },
  {
   "cell_type": "code",
   "execution_count": 11,
   "metadata": {},
   "outputs": [
    {
     "name": "stdout",
     "output_type": "stream",
     "text": [
      "Reading options file C:\\Users\\MPHILL~1\\AppData\\Local\\Temp\\jl_FB5A.tmp\n",
      " > cumulative_iteration_limit 10000\n",
      "Read of options file complete.\n",
      "\n",
      "Path 5.0.03 (Fri Jun 26 10:05:33 2020)\n",
      "Written by Todd Munson, Steven Dirkse, Youngdae Kim, and Michael Ferris\n",
      "\n",
      "Preprocessed size   : 13\n",
      "\n",
      "Crash Log\n",
      "major  func  diff  size  residual    step       prox   (label)\n",
      "    0     0             3.6407e+01             0.0e+00 (income_balance[CONS)\n",
      "    1     1     0    11 7.1054e-15  1.0e+00    0.0e+00 (market_clearance[PFX)\n",
      "pn_search terminated: no basis change.\n",
      "\n",
      "Major Iteration Log\n",
      "major minor  func  grad  residual    step  type prox    inorm  (label)\n",
      "    0     0     2     2 7.1054e-15           I 0.0e+00 7.1e-15 (market_clearanc)\n",
      "\n",
      "Major Iterations. . . . 0\n",
      "Minor Iterations. . . . 0\n",
      "Restarts. . . . . . . . 0\n",
      "Crash Iterations. . . . 1\n",
      "Gradient Steps. . . . . 0\n",
      "Function Evaluations. . 2\n",
      "Gradient Evaluations. . 2\n",
      "Basis Time. . . . . . . 0.000000\n",
      "Total Time. . . . . . . 0.000000\n",
      "Residual. . . . . . . . 7.105427e-15\n",
      "Postsolved residual: 7.1054e-15\n",
      "\n",
      "\n",
      "Solver Status: LOCALLY_SOLVED\n",
      "Model Status: FEASIBLE_POINT"
     ]
    },
    {
     "data": {
      "text/html": [
       "<div><div style = \"float: left;\"><span>14×3 DataFrame</span></div><div style = \"clear: both;\"></div></div><div class = \"data-frame\" style = \"overflow-x: scroll;\"><table class = \"data-frame\" style = \"margin-bottom: 6px;\"><thead><tr class = \"header\"><th class = \"rowNumber\" style = \"font-weight: bold; text-align: right;\">Row</th><th style = \"text-align: left;\">var</th><th style = \"text-align: left;\">value</th><th style = \"text-align: left;\">margin</th></tr><tr class = \"subheader headerLastRow\"><th class = \"rowNumber\" style = \"font-weight: bold; text-align: right;\"></th><th title = \"JuMP.VariableRef\" style = \"text-align: left;\">GenericV…</th><th title = \"Float64\" style = \"text-align: left;\">Float64</th><th title = \"Float64\" style = \"text-align: left;\">Float64</th></tr></thead><tbody><tr><td class = \"rowNumber\" style = \"font-weight: bold; text-align: right;\">1</td><td style = \"text-align: left;\">X1</td><td style = \"text-align: right;\">1.0</td><td style = \"text-align: right;\">0.0</td></tr><tr><td class = \"rowNumber\" style = \"font-weight: bold; text-align: right;\">2</td><td style = \"text-align: left;\">X2</td><td style = \"text-align: right;\">1.0</td><td style = \"text-align: right;\">0.0</td></tr><tr><td class = \"rowNumber\" style = \"font-weight: bold; text-align: right;\">3</td><td style = \"text-align: left;\">W</td><td style = \"text-align: right;\">0.818182</td><td style = \"text-align: right;\">0.0</td></tr><tr><td class = \"rowNumber\" style = \"font-weight: bold; text-align: right;\">4</td><td style = \"text-align: left;\">M2</td><td style = \"text-align: right;\">0.666667</td><td style = \"text-align: right;\">0.0</td></tr><tr><td class = \"rowNumber\" style = \"font-weight: bold; text-align: right;\">5</td><td style = \"text-align: left;\">PL</td><td style = \"text-align: right;\">1.0</td><td style = \"text-align: right;\">0.0</td></tr><tr><td class = \"rowNumber\" style = \"font-weight: bold; text-align: right;\">6</td><td style = \"text-align: left;\">PW</td><td style = \"text-align: right;\">1.0</td><td style = \"text-align: right;\">0.0</td></tr><tr><td class = \"rowNumber\" style = \"font-weight: bold; text-align: right;\">7</td><td style = \"text-align: left;\">P1</td><td style = \"text-align: right;\">1.0</td><td style = \"text-align: right;\">0.0</td></tr><tr><td class = \"rowNumber\" style = \"font-weight: bold; text-align: right;\">8</td><td style = \"text-align: left;\">PK</td><td style = \"text-align: right;\">1.0</td><td style = \"text-align: right;\">0.0</td></tr><tr><td class = \"rowNumber\" style = \"font-weight: bold; text-align: right;\">9</td><td style = \"text-align: left;\">P2</td><td style = \"text-align: right;\">1.0</td><td style = \"text-align: right;\">0.0</td></tr><tr><td class = \"rowNumber\" style = \"font-weight: bold; text-align: right;\">10</td><td style = \"text-align: left;\">CONS</td><td style = \"text-align: right;\">180.0</td><td style = \"text-align: right;\">0.0</td></tr><tr><td class = \"rowNumber\" style = \"font-weight: bold; text-align: right;\">11</td><td style = \"text-align: left;\">M1</td><td style = \"text-align: right;\">0.0</td><td style = \"text-align: right;\">0.4</td></tr><tr><td class = \"rowNumber\" style = \"font-weight: bold; text-align: right;\">12</td><td style = \"text-align: left;\">E1</td><td style = \"text-align: right;\">1.5</td><td style = \"text-align: right;\">0.0</td></tr><tr><td class = \"rowNumber\" style = \"font-weight: bold; text-align: right;\">13</td><td style = \"text-align: left;\">E2</td><td style = \"text-align: right;\">0.0</td><td style = \"text-align: right;\">0.6</td></tr><tr><td class = \"rowNumber\" style = \"font-weight: bold; text-align: right;\">14</td><td style = \"text-align: left;\">PFX</td><td style = \"text-align: right;\">1.0</td><td style = \"text-align: right;\">7.10543e-15</td></tr></tbody></table></div>"
      ],
      "text/latex": [
       "\\begin{tabular}{r|ccc}\n",
       "\t& var & value & margin\\\\\n",
       "\t\\hline\n",
       "\t& GenericV… & Float64 & Float64\\\\\n",
       "\t\\hline\n",
       "\t1 & $ X1 $ & 1.0 & 0.0 \\\\\n",
       "\t2 & $ X2 $ & 1.0 & 0.0 \\\\\n",
       "\t3 & $ W $ & 0.818182 & 0.0 \\\\\n",
       "\t4 & $ M2 $ & 0.666667 & 0.0 \\\\\n",
       "\t5 & $ PL $ & 1.0 & 0.0 \\\\\n",
       "\t6 & $ PW $ & 1.0 & 0.0 \\\\\n",
       "\t7 & $ P1 $ & 1.0 & 0.0 \\\\\n",
       "\t8 & $ PK $ & 1.0 & 0.0 \\\\\n",
       "\t9 & $ P2 $ & 1.0 & 0.0 \\\\\n",
       "\t10 & $ CONS $ & 180.0 & 0.0 \\\\\n",
       "\t11 & $ M1 $ & 0.0 & 0.4 \\\\\n",
       "\t12 & $ E1 $ & 1.5 & 0.0 \\\\\n",
       "\t13 & $ E2 $ & 0.0 & 0.6 \\\\\n",
       "\t14 & $ PFX $ & 1.0 & 7.10543e-15 \\\\\n",
       "\\end{tabular}\n"
      ],
      "text/plain": [
       "\u001b[1m14×3 DataFrame\u001b[0m\n",
       "\u001b[1m Row \u001b[0m│\u001b[1m var       \u001b[0m\u001b[1m value      \u001b[0m\u001b[1m margin      \u001b[0m\n",
       "     │\u001b[90m GenericV… \u001b[0m\u001b[90m Float64    \u001b[0m\u001b[90m Float64     \u001b[0m\n",
       "─────┼────────────────────────────────────\n",
       "   1 │ X1           1.0       0.0\n",
       "   2 │ X2           1.0       0.0\n",
       "   3 │ W            0.818182  0.0\n",
       "   4 │ M2           0.666667  0.0\n",
       "   5 │ PL           1.0       0.0\n",
       "   6 │ PW           1.0       0.0\n",
       "   7 │ P1           1.0       0.0\n",
       "   8 │ PK           1.0       0.0\n",
       "   9 │ P2           1.0       0.0\n",
       "  10 │ CONS       180.0       0.0\n",
       "  11 │ M1           0.0       0.4\n",
       "  12 │ E1           1.5       0.0\n",
       "  13 │ E2           0.0       0.6\n",
       "  14 │ PFX          1.0       7.10543e-15"
      ]
     },
     "metadata": {},
     "output_type": "display_data"
    }
   ],
   "source": [
    "set_value!(BOPDEF,-20)\n",
    "\n",
    "solve!(M46)\n",
    "generate_report(M46)"
   ]
  },
  {
   "cell_type": "code",
   "execution_count": null,
   "metadata": {},
   "outputs": [],
   "source": []
  }
 ],
 "metadata": {
  "kernelspec": {
   "display_name": "Julia 1.9.2",
   "language": "julia",
   "name": "julia-1.9"
  },
  "language_info": {
   "file_extension": ".jl",
   "mimetype": "application/julia",
   "name": "julia",
   "version": "1.9.2"
  }
 },
 "nbformat": 4,
 "nbformat_minor": 2
}
