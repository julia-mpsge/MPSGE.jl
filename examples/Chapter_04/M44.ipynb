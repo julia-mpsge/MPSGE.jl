{
 "cells": [
  {
   "cell_type": "markdown",
   "metadata": {},
   "source": [
    "# M44\n",
    "\n",
    "Small open economy model with a (auction) quota\n",
    "\n",
    "|Markets   |     X1  |    X2  |    E1  |    M2  |    W   |    CONS  |\n",
    "|----------|---------|--------|--------|--------|--------|----------|\n",
    "|P1        |     150 |        |   -50  |        |   -100 |          |     \n",
    "|P2        |         |    40  |        |    60  |   -100 |          |      \n",
    "|PL        |    -100 |   -20  |        |        |        |     120  |\n",
    "|PK        |     -50 |   -20  |        |        |        |      70  |\n",
    "|PW        |         |        |        |        |    200 |    -200  |\n",
    "|PFX       |         |        |    50  |   -50  |        |          |      \n",
    "| T (tar rev)|       |        |        |   -10  |        |     10   |"
   ]
  },
  {
   "cell_type": "code",
   "execution_count": 3,
   "metadata": {},
   "outputs": [],
   "source": [
    "using MPSGE"
   ]
  },
  {
   "cell_type": "code",
   "execution_count": 14,
   "metadata": {},
   "outputs": [
    {
     "data": {
      "text/plain": [
       "ScalarAuxConstraint(Q, -M2 + 1)"
      ]
     },
     "metadata": {},
     "output_type": "display_data"
    }
   ],
   "source": [
    "M44 = MPSGEModel()\n",
    "\n",
    "\n",
    "initial_tax = .2\n",
    "\n",
    "@parameters(M44, begin\n",
    "    PE1, 1,     (description = \"Export price of good 1\",)\n",
    "    PE2, 1/(1+initial_tax)*.99,   (description = \"Export price of good 2\",)\n",
    "    PM1, 1.01,  (description = \"Import price of good 1\",)\n",
    "    PM2, 1/(1+initial_tax),     (description = \"Import price of good 1\",)    \n",
    "    TM2, initial_tax, (description = \"Tariff for good 2\",)\n",
    "end)\n",
    "\n",
    "@sectors(M44, begin\n",
    "    X1,\t(description = \"Production index for good 1\",)\n",
    "    X2,\t(description = \"Production index good 2\",)\n",
    "    E1,\t(description = \"Export level of good 1\",)\n",
    "    E2,\t(description = \"Export level of good 2\",)\n",
    "    M1,\t(description = \"Import level of good 1\",)\n",
    "    M2,\t(description = \"Import level of good 2\",)\n",
    "    W,\t(description = \"Welfare index \",)\n",
    "end)\n",
    "@commodities(M44, begin\n",
    "    P1,\t(description = \"Price index for good 1\",)\n",
    "    P2,\t(description = \"Price index for good 1\",)\n",
    "    PFX,\t(description = \"Read exchange rate index\",)\n",
    "    PW,\t(description = \"Welfare price index\",)\n",
    "    PL,\t(description = \"Wage index\",)\n",
    "    PK,\t(description = \"Capital rental index\",)\n",
    "end)\n",
    "@consumers(M44, begin\n",
    "    CONS,\t(description = \"Income level for representative agent\",)\n",
    "end)\n",
    "\n",
    "@auxiliary(M44, Q)\n",
    "\n",
    "\n",
    "@production(M44, X1, [s=1,t=0],begin\n",
    "    @output(P1, 150, t)\n",
    "    @input(PL, 100,s)\n",
    "    @input(PK, 50, s)\n",
    "end)\n",
    "\n",
    "@production(M44, X2, [s=1,t=0], begin\n",
    "    @output(P2, 40, t)\n",
    "    @input(PL, 20, s)\n",
    "    @input(PK, 20, s)\n",
    "end)\n",
    "\n",
    "@production(M44, E1, [s=0,t=0], begin\n",
    "    @output(PFX, 50*PE1, t)\n",
    "    @input(P1, 50, s)\n",
    "end)\n",
    "\n",
    "@production(M44, M2, [s=0,t=0], begin\n",
    "    @output(P2, 60, t)\n",
    "    @input(PFX, 60*PM2, s, taxes = [Tax(CONS, Q)]) # what is N?\n",
    "end)\n",
    "\n",
    "@production(M44, E2, [s=0,t=0], begin\n",
    "    @output(PFX, 60*PE2, t)\n",
    "    @input(P2, 60, s)\n",
    "end)\n",
    "\n",
    "@production(M44, M1, [s=0,t=0], begin\n",
    "    @output(P1, 50, t)\n",
    "    @input(PFX, 50*PM1, s)\n",
    "end)\n",
    "\n",
    "@production(M44, W, [s=1,t=0], begin\n",
    "    @output(PW, 200, t)\n",
    "    @input(P1, 100, s)\n",
    "    @input(P2, 100, s)\n",
    "end)\n",
    "\n",
    "@demand(M44, CONS, begin\n",
    "    @final_demand(PW, 200)\n",
    "end,begin\n",
    "    @endowment(PL, 120)\n",
    "    @endowment(PK, 70)\n",
    "end);\n",
    "\n",
    "@aux_constraint(M44, Q,\n",
    "    1 - M2\n",
    ")"
   ]
  },
  {
   "cell_type": "markdown",
   "metadata": {},
   "source": [
    "# Benchmark"
   ]
  },
  {
   "cell_type": "code",
   "execution_count": 15,
   "metadata": {},
   "outputs": [
    {
     "name": "stdout",
     "output_type": "stream",
     "text": [
      "Reading options file C:\\Users\\MPHILL~1\\AppData\\Local\\Temp\\jl_F6C2.tmp\n",
      " > cumulative_iteration_limit 0\n",
      "Read of options file complete.\n",
      "\n",
      "Path 5.0.03 (Fri Jun 26 10:05:33 2020)\n",
      "Written by Todd Munson, Steven Dirkse, Youngdae Kim, and Michael Ferris\n",
      "Preprocessed size   : 14\n",
      "\n",
      "Major Iteration Log\n",
      "major minor  func  grad  residual    step  type prox    inorm  (label)\n",
      "    0     0     1     1 0.0000e+00           I 0.0e+00 0.0e+00 (zero_profit[X1)\n",
      "\n",
      "Major Iterations. . . . 0\n",
      "Minor Iterations. . . . 0\n",
      "Restarts. . . . . . . . 0\n",
      "Crash Iterations. . . . 0\n",
      "Gradient Steps. . . . . 0\n",
      "Function Evaluations. . 1\n",
      "Gradient Evaluations. . 1\n",
      "Basis Time. . . . . . . 0.000000\n",
      "Total Time. . . . . . . 0.000000\n",
      "Residual. . . . . . . . 0.000000e+00\n",
      "Postsolved residual: 0.0000e+00\n",
      "\n",
      "\n",
      "Solver Status: LOCALLY_SOLVED\n",
      "Model Status: FEASIBLE_POINT"
     ]
    },
    {
     "data": {
      "text/html": [
       "<div><div style = \"float: left;\"><span>15×3 DataFrame</span></div><div style = \"clear: both;\"></div></div><div class = \"data-frame\" style = \"overflow-x: scroll;\"><table class = \"data-frame\" style = \"margin-bottom: 6px;\"><thead><tr class = \"header\"><th class = \"rowNumber\" style = \"font-weight: bold; text-align: right;\">Row</th><th style = \"text-align: left;\">var</th><th style = \"text-align: left;\">value</th><th style = \"text-align: left;\">margin</th></tr><tr class = \"subheader headerLastRow\"><th class = \"rowNumber\" style = \"font-weight: bold; text-align: right;\"></th><th title = \"JuMP.VariableRef\" style = \"text-align: left;\">GenericV…</th><th title = \"Float64\" style = \"text-align: left;\">Float64</th><th title = \"Float64\" style = \"text-align: left;\">Float64</th></tr></thead><tbody><tr><td class = \"rowNumber\" style = \"font-weight: bold; text-align: right;\">1</td><td style = \"text-align: left;\">X1</td><td style = \"text-align: right;\">1.0</td><td style = \"text-align: right;\">0.0</td></tr><tr><td class = \"rowNumber\" style = \"font-weight: bold; text-align: right;\">2</td><td style = \"text-align: left;\">X2</td><td style = \"text-align: right;\">1.0</td><td style = \"text-align: right;\">0.0</td></tr><tr><td class = \"rowNumber\" style = \"font-weight: bold; text-align: right;\">3</td><td style = \"text-align: left;\">W</td><td style = \"text-align: right;\">1.0</td><td style = \"text-align: right;\">0.0</td></tr><tr><td class = \"rowNumber\" style = \"font-weight: bold; text-align: right;\">4</td><td style = \"text-align: left;\">M2</td><td style = \"text-align: right;\">1.0</td><td style = \"text-align: right;\">0.0</td></tr><tr><td class = \"rowNumber\" style = \"font-weight: bold; text-align: right;\">5</td><td style = \"text-align: left;\">PL</td><td style = \"text-align: right;\">1.0</td><td style = \"text-align: right;\">0.0</td></tr><tr><td class = \"rowNumber\" style = \"font-weight: bold; text-align: right;\">6</td><td style = \"text-align: left;\">PW</td><td style = \"text-align: right;\">1.0</td><td style = \"text-align: right;\">0.0</td></tr><tr><td class = \"rowNumber\" style = \"font-weight: bold; text-align: right;\">7</td><td style = \"text-align: left;\">P1</td><td style = \"text-align: right;\">1.0</td><td style = \"text-align: right;\">0.0</td></tr><tr><td class = \"rowNumber\" style = \"font-weight: bold; text-align: right;\">8</td><td style = \"text-align: left;\">PK</td><td style = \"text-align: right;\">1.0</td><td style = \"text-align: right;\">0.0</td></tr><tr><td class = \"rowNumber\" style = \"font-weight: bold; text-align: right;\">9</td><td style = \"text-align: left;\">P2</td><td style = \"text-align: right;\">1.0</td><td style = \"text-align: right;\">0.0</td></tr><tr><td class = \"rowNumber\" style = \"font-weight: bold; text-align: right;\">10</td><td style = \"text-align: left;\">CONS</td><td style = \"text-align: right;\">200.0</td><td style = \"text-align: right;\">0.0</td></tr><tr><td class = \"rowNumber\" style = \"font-weight: bold; text-align: right;\">11</td><td style = \"text-align: left;\">Q</td><td style = \"text-align: right;\">0.2</td><td style = \"text-align: right;\">0.0</td></tr><tr><td class = \"rowNumber\" style = \"font-weight: bold; text-align: right;\">12</td><td style = \"text-align: left;\">M1</td><td style = \"text-align: right;\">0.0</td><td style = \"text-align: right;\">0.5</td></tr><tr><td class = \"rowNumber\" style = \"font-weight: bold; text-align: right;\">13</td><td style = \"text-align: left;\">E2</td><td style = \"text-align: right;\">0.0</td><td style = \"text-align: right;\">10.5</td></tr><tr><td class = \"rowNumber\" style = \"font-weight: bold; text-align: right;\">14</td><td style = \"text-align: left;\">E1</td><td style = \"text-align: right;\">1.0</td><td style = \"text-align: right;\">0.0</td></tr><tr><td class = \"rowNumber\" style = \"font-weight: bold; text-align: right;\">15</td><td style = \"text-align: left;\">PFX</td><td style = \"text-align: right;\">1.0</td><td style = \"text-align: right;\">0.0</td></tr></tbody></table></div>"
      ],
      "text/latex": [
       "\\begin{tabular}{r|ccc}\n",
       "\t& var & value & margin\\\\\n",
       "\t\\hline\n",
       "\t& GenericV… & Float64 & Float64\\\\\n",
       "\t\\hline\n",
       "\t1 & $ X1 $ & 1.0 & 0.0 \\\\\n",
       "\t2 & $ X2 $ & 1.0 & 0.0 \\\\\n",
       "\t3 & $ W $ & 1.0 & 0.0 \\\\\n",
       "\t4 & $ M2 $ & 1.0 & 0.0 \\\\\n",
       "\t5 & $ PL $ & 1.0 & 0.0 \\\\\n",
       "\t6 & $ PW $ & 1.0 & 0.0 \\\\\n",
       "\t7 & $ P1 $ & 1.0 & 0.0 \\\\\n",
       "\t8 & $ PK $ & 1.0 & 0.0 \\\\\n",
       "\t9 & $ P2 $ & 1.0 & 0.0 \\\\\n",
       "\t10 & $ CONS $ & 200.0 & 0.0 \\\\\n",
       "\t11 & $ Q $ & 0.2 & 0.0 \\\\\n",
       "\t12 & $ M1 $ & 0.0 & 0.5 \\\\\n",
       "\t13 & $ E2 $ & 0.0 & 10.5 \\\\\n",
       "\t14 & $ E1 $ & 1.0 & 0.0 \\\\\n",
       "\t15 & $ PFX $ & 1.0 & 0.0 \\\\\n",
       "\\end{tabular}\n"
      ],
      "text/plain": [
       "\u001b[1m15×3 DataFrame\u001b[0m\n",
       "\u001b[1m Row \u001b[0m│\u001b[1m var       \u001b[0m\u001b[1m value   \u001b[0m\u001b[1m margin  \u001b[0m\n",
       "     │\u001b[90m GenericV… \u001b[0m\u001b[90m Float64 \u001b[0m\u001b[90m Float64 \u001b[0m\n",
       "─────┼─────────────────────────────\n",
       "   1 │ X1             1.0      0.0\n",
       "   2 │ X2             1.0      0.0\n",
       "   3 │ W              1.0      0.0\n",
       "   4 │ M2             1.0      0.0\n",
       "   5 │ PL             1.0      0.0\n",
       "   6 │ PW             1.0      0.0\n",
       "   7 │ P1             1.0      0.0\n",
       "   8 │ PK             1.0      0.0\n",
       "   9 │ P2             1.0      0.0\n",
       "  10 │ CONS         200.0      0.0\n",
       "  11 │ Q              0.2      0.0\n",
       "  12 │ M1             0.0      0.5\n",
       "  13 │ E2             0.0     10.5\n",
       "  14 │ E1             1.0      0.0\n",
       "  15 │ PFX            1.0      0.0"
      ]
     },
     "metadata": {},
     "output_type": "display_data"
    }
   ],
   "source": [
    "fix(PW, 1)\n",
    "\n",
    "set_start_value(E2, 0)\n",
    "set_start_value(M1, 0)\n",
    "set_start_value(Q, 0.2)\n",
    "\n",
    "solve!(M44, cumulative_iteration_limit = 0)\n",
    "generate_report(M44)"
   ]
  },
  {
   "cell_type": "markdown",
   "metadata": {},
   "source": [
    "# Counterfactual"
   ]
  },
  {
   "cell_type": "code",
   "execution_count": 16,
   "metadata": {},
   "outputs": [
    {
     "name": "stdout",
     "output_type": "stream",
     "text": [
      "Reading options file C:\\Users\\MPHILL~1\\AppData\\Local\\Temp\\jl_F9B1.tmp\n",
      " > cumulative_iteration_limit 10000\n",
      "Read of options file complete.\n",
      "\n",
      "Path 5.0.03 (Fri Jun 26 10:05:33 2020)\n",
      "Written by Todd Munson, Steven Dirkse, Youngdae Kim, and Michael Ferris\n",
      "\n",
      "Preprocessed size   : 13\n",
      "\n",
      "Crash Log\n",
      "major  func  diff  size  residual    step       prox   (label)\n",
      "    0     0             2.1400e+01             0.0e+00 (zero_profit[M2)\n",
      "    1    10     0    11 2.1359e+01  1.9e-03    0.0e+00 (zero_profit[M2)\n",
      "pn_search terminated: no basis change.\n",
      "\n",
      "Major Iteration Log\n",
      "major minor  func  grad  residual    step  type prox    inorm  (label)\n",
      "    0     0    11     2 2.1359e+01           I 0.0e+00 1.9e+01 (zero_profit[M2)\n",
      "    1     2    12     3 1.4242e+00  1.0e+00 SM 0.0e+00 1.1e+00 (zero_profit[W)\n",
      "    2     1    13     4 4.3077e-03  1.0e+00 SO 0.0e+00 3.5e-03 (market_clearanc)\n",
      "    3     1    14     5 7.5198e-08  1.0e+00 SO 0.0e+00 5.6e-08 (zero_profit[X1)\n",
      "\n",
      "Major Iterations. . . . 3\n",
      "Minor Iterations. . . . 4\n",
      "Restarts. . . . . . . . 0\n",
      "Crash Iterations. . . . 1\n",
      "Gradient Steps. . . . . 0\n",
      "Function Evaluations. . 14\n",
      "Gradient Evaluations. . 5\n",
      "Basis Time. . . . . . . 0.000000\n",
      "Total Time. . . . . . . 0.000000\n",
      "Residual. . . . . . . . 7.519838e-08\n",
      "Postsolved residual: 7.5198e-08\n",
      "\n",
      "\n",
      "Solver Status: LOCALLY_SOLVED\n",
      "Model Status: FEASIBLE_POINT"
     ]
    },
    {
     "data": {
      "text/html": [
       "<div><div style = \"float: left;\"><span>15×3 DataFrame</span></div><div style = \"clear: both;\"></div></div><div class = \"data-frame\" style = \"overflow-x: scroll;\"><table class = \"data-frame\" style = \"margin-bottom: 6px;\"><thead><tr class = \"header\"><th class = \"rowNumber\" style = \"font-weight: bold; text-align: right;\">Row</th><th style = \"text-align: left;\">var</th><th style = \"text-align: left;\">value</th><th style = \"text-align: left;\">margin</th></tr><tr class = \"subheader headerLastRow\"><th class = \"rowNumber\" style = \"font-weight: bold; text-align: right;\"></th><th title = \"JuMP.VariableRef\" style = \"text-align: left;\">GenericV…</th><th title = \"Float64\" style = \"text-align: left;\">Float64</th><th title = \"Float64\" style = \"text-align: left;\">Float64</th></tr></thead><tbody><tr><td class = \"rowNumber\" style = \"font-weight: bold; text-align: right;\">1</td><td style = \"text-align: left;\">X1</td><td style = \"text-align: right;\">1.26327</td><td style = \"text-align: right;\">-5.62526e-8</td></tr><tr><td class = \"rowNumber\" style = \"font-weight: bold; text-align: right;\">2</td><td style = \"text-align: left;\">X2</td><td style = \"text-align: right;\">0.0</td><td style = \"text-align: right;\">6.19155</td></tr><tr><td class = \"rowNumber\" style = \"font-weight: bold; text-align: right;\">3</td><td style = \"text-align: left;\">W</td><td style = \"text-align: right;\">1.03788</td><td style = \"text-align: right;\">0.0</td></tr><tr><td class = \"rowNumber\" style = \"font-weight: bold; text-align: right;\">4</td><td style = \"text-align: left;\">M2</td><td style = \"text-align: right;\">1.89491</td><td style = \"text-align: right;\">-7.10543e-15</td></tr><tr><td class = \"rowNumber\" style = \"font-weight: bold; text-align: right;\">5</td><td style = \"text-align: left;\">PL</td><td style = \"text-align: right;\">1.1532</td><td style = \"text-align: right;\">4.68214e-8</td></tr><tr><td class = \"rowNumber\" style = \"font-weight: bold; text-align: right;\">6</td><td style = \"text-align: left;\">PW</td><td style = \"text-align: right;\">1.0</td><td style = \"text-align: right;\">-1.42126e-7</td></tr><tr><td class = \"rowNumber\" style = \"font-weight: bold; text-align: right;\">7</td><td style = \"text-align: left;\">P1</td><td style = \"text-align: right;\">1.09545</td><td style = \"text-align: right;\">0.0</td></tr><tr><td class = \"rowNumber\" style = \"font-weight: bold; text-align: right;\">8</td><td style = \"text-align: left;\">PK</td><td style = \"text-align: right;\">0.988461</td><td style = \"text-align: right;\">1.72682e-8</td></tr><tr><td class = \"rowNumber\" style = \"font-weight: bold; text-align: right;\">9</td><td style = \"text-align: left;\">P2</td><td style = \"text-align: right;\">0.912871</td><td style = \"text-align: right;\">2.84217e-14</td></tr><tr><td class = \"rowNumber\" style = \"font-weight: bold; text-align: right;\">10</td><td style = \"text-align: left;\">CONS</td><td style = \"text-align: right;\">207.577</td><td style = \"text-align: right;\">0.0</td></tr><tr><td class = \"rowNumber\" style = \"font-weight: bold; text-align: right;\">11</td><td style = \"text-align: left;\">Q</td><td style = \"text-align: right;\">0.0</td><td style = \"text-align: right;\">-0.894908</td></tr><tr><td class = \"rowNumber\" style = \"font-weight: bold; text-align: right;\">12</td><td style = \"text-align: left;\">M1</td><td style = \"text-align: right;\">0.0</td><td style = \"text-align: right;\">0.547723</td></tr><tr><td class = \"rowNumber\" style = \"font-weight: bold; text-align: right;\">13</td><td style = \"text-align: left;\">E2</td><td style = \"text-align: right;\">0.0</td><td style = \"text-align: right;\">0.547723</td></tr><tr><td class = \"rowNumber\" style = \"font-weight: bold; text-align: right;\">14</td><td style = \"text-align: left;\">E1</td><td style = \"text-align: right;\">1.89491</td><td style = \"text-align: right;\">2.13163e-14</td></tr><tr><td class = \"rowNumber\" style = \"font-weight: bold; text-align: right;\">15</td><td style = \"text-align: left;\">PFX</td><td style = \"text-align: right;\">1.09545</td><td style = \"text-align: right;\">1.42109e-14</td></tr></tbody></table></div>"
      ],
      "text/latex": [
       "\\begin{tabular}{r|ccc}\n",
       "\t& var & value & margin\\\\\n",
       "\t\\hline\n",
       "\t& GenericV… & Float64 & Float64\\\\\n",
       "\t\\hline\n",
       "\t1 & $ X1 $ & 1.26327 & -5.62526e-8 \\\\\n",
       "\t2 & $ X2 $ & 0.0 & 6.19155 \\\\\n",
       "\t3 & $ W $ & 1.03788 & 0.0 \\\\\n",
       "\t4 & $ M2 $ & 1.89491 & -7.10543e-15 \\\\\n",
       "\t5 & $ PL $ & 1.1532 & 4.68214e-8 \\\\\n",
       "\t6 & $ PW $ & 1.0 & -1.42126e-7 \\\\\n",
       "\t7 & $ P1 $ & 1.09545 & 0.0 \\\\\n",
       "\t8 & $ PK $ & 0.988461 & 1.72682e-8 \\\\\n",
       "\t9 & $ P2 $ & 0.912871 & 2.84217e-14 \\\\\n",
       "\t10 & $ CONS $ & 207.577 & 0.0 \\\\\n",
       "\t11 & $ Q $ & 0.0 & -0.894908 \\\\\n",
       "\t12 & $ M1 $ & 0.0 & 0.547723 \\\\\n",
       "\t13 & $ E2 $ & 0.0 & 0.547723 \\\\\n",
       "\t14 & $ E1 $ & 1.89491 & 2.13163e-14 \\\\\n",
       "\t15 & $ PFX $ & 1.09545 & 1.42109e-14 \\\\\n",
       "\\end{tabular}\n"
      ],
      "text/plain": [
       "\u001b[1m15×3 DataFrame\u001b[0m\n",
       "\u001b[1m Row \u001b[0m│\u001b[1m var       \u001b[0m\u001b[1m value      \u001b[0m\u001b[1m margin       \u001b[0m\n",
       "     │\u001b[90m GenericV… \u001b[0m\u001b[90m Float64    \u001b[0m\u001b[90m Float64      \u001b[0m\n",
       "─────┼─────────────────────────────────────\n",
       "   1 │ X1           1.26327   -5.62526e-8\n",
       "   2 │ X2           0.0        6.19155\n",
       "   3 │ W            1.03788    0.0\n",
       "   4 │ M2           1.89491   -7.10543e-15\n",
       "   5 │ PL           1.1532     4.68214e-8\n",
       "   6 │ PW           1.0       -1.42126e-7\n",
       "   7 │ P1           1.09545    0.0\n",
       "   8 │ PK           0.988461   1.72682e-8\n",
       "   9 │ P2           0.912871   2.84217e-14\n",
       "  10 │ CONS       207.577      0.0\n",
       "  11 │ Q            0.0       -0.894908\n",
       "  12 │ M1           0.0        0.547723\n",
       "  13 │ E2           0.0        0.547723\n",
       "  14 │ E1           1.89491    2.13163e-14\n",
       "  15 │ PFX          1.09545    1.42109e-14"
      ]
     },
     "metadata": {},
     "output_type": "display_data"
    }
   ],
   "source": [
    "fix(Q,0)\n",
    "\n",
    "\n",
    "solve!(M44)\n",
    "generate_report(M44)"
   ]
  },
  {
   "cell_type": "code",
   "execution_count": 17,
   "metadata": {},
   "outputs": [],
   "source": []
  },
  {
   "cell_type": "code",
   "execution_count": null,
   "metadata": {},
   "outputs": [],
   "source": []
  }
 ],
 "metadata": {
  "kernelspec": {
   "display_name": "Julia 1.9.2",
   "language": "julia",
   "name": "julia-1.9"
  },
  "language_info": {
   "file_extension": ".jl",
   "mimetype": "application/julia",
   "name": "julia",
   "version": "1.9.2"
  }
 },
 "nbformat": 4,
 "nbformat_minor": 2
}
