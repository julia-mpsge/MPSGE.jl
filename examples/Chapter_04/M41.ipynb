{
 "cells": [
  {
   "cell_type": "markdown",
   "metadata": {},
   "source": [
    "# Model M41\n",
    "\n",
    "Small open economy model. Two goods, two factors.\n",
    "\n",
    "|Markets   |     X1  |    X2  |    E1  |    M2  |    W   |    CONS  |\n",
    "|----------|---------|--------|--------|--------|--------|----------|\n",
    "|P1        |     150 |        |   -50  |        |   -100 |          |     \n",
    "|P2        |         |    50  |        |    50  |   -100 |          |      \n",
    "|PL        |    -100 |   -20  |        |        |        |     120  |\n",
    "|PK        |     -50 |   -30  |        |        |        |      80  |\n",
    "|PW        |         |        |        |        |    200 |    -200  |\n",
    "|PFX       |         |        |    50  |   -50  |        |          |      \n"
   ]
  },
  {
   "cell_type": "code",
   "execution_count": 1,
   "metadata": {},
   "outputs": [],
   "source": [
    "using MPSGE"
   ]
  },
  {
   "cell_type": "code",
   "execution_count": 6,
   "metadata": {},
   "outputs": [],
   "source": [
    "M41 = MPSGEModel()\n",
    "\n",
    "\n",
    "@parameters(M41, begin\n",
    "    PE1, 1,     (description = \"Export price of good 1\",)\n",
    "    PE2, .99,   (description = \"Export price of good 2\",)\n",
    "    PM1, 1.01,  (description = \"Import price of good 1\",)\n",
    "    PM2, 1,     (description = \"Import price of good 1\",)    \n",
    "    TM2, 0,     (description = \"Tariff for good 2\",)\n",
    "end)\n",
    "\n",
    "@sectors(M41, begin\n",
    "    X1,\t(description = \"Production index for good 1\",)\n",
    "    X2,\t(description = \"Production index good 2\",)\n",
    "    E1,\t(description = \"Export level of good 1\",)\n",
    "    E2,\t(description = \"Export level of good 2\",)\n",
    "    M1,\t(description = \"Import level of good 1\",)\n",
    "    M2,\t(description = \"Import level of good 2\",)\n",
    "    W,\t(description = \"Welfare index \",)\n",
    "end)\n",
    "@commodities(M41, begin\n",
    "    P1,\t(description = \"Price index for good 1\",)\n",
    "    P2,\t(description = \"Price index for good 1\",)\n",
    "    PFX,\t(description = \"Read exchange rate index\",)\n",
    "    PW,\t(description = \"Welfare price index\",)\n",
    "    PL,\t(description = \"Wage index\",)\n",
    "    PK,\t(description = \"Capital rental index\",)\n",
    "end)\n",
    "@consumers(M41, begin\n",
    "    CONS,\t(description = \"Income level for representative agent\",)\n",
    "end)\n",
    "\n",
    "\n",
    "@production(M41, X1, [s=1,t=0],begin\n",
    "    @output(P1, 150, t)\n",
    "    @input(PL, 100,s)\n",
    "    @input(PK, 50, s)\n",
    "end)\n",
    "\n",
    "@production(M41, X2, [s=1,t=0], begin\n",
    "    @output(P2, 50, t)\n",
    "    @input(PL, 20, s)\n",
    "    @input(PK, 30, s)\n",
    "end)\n",
    "\n",
    "@production(M41, E1, [s=0,t=0], begin\n",
    "    @output(PFX, 50*PE1, t)\n",
    "    @input(P1, 50, s)\n",
    "end)\n",
    "\n",
    "@production(M41, M2, [s=0,t=0], begin\n",
    "    @output(P2, 50, t)\n",
    "    @input(PFX, 50*PM2, s, taxes = [Tax(CONS, TM2)])\n",
    "end)\n",
    "\n",
    "@production(M41, E2, [s=0,t=0], begin\n",
    "    @output(PFX, 50*PE2, t)\n",
    "    @input(P2, 50, s)\n",
    "end)\n",
    "\n",
    "@production(M41, M1, [s=0,t=0], begin\n",
    "    @output(P1, 50, t)\n",
    "    @input(PFX, 50*PM1, s)\n",
    "end)\n",
    "\n",
    "@production(M41, W, [s=1,t=0], begin\n",
    "    @output(PW, 200, t)\n",
    "    @input(P1, 100, s)\n",
    "    @input(P2, 100, s)\n",
    "end)\n",
    "\n",
    "@demand(M41, CONS, begin\n",
    "    @final_demand(PW, 200)\n",
    "end,begin\n",
    "    @endowment(PL, 120)\n",
    "    @endowment(PK, 80)\n",
    "end);"
   ]
  },
  {
   "cell_type": "markdown",
   "metadata": {},
   "source": [
    "# Benchmark"
   ]
  },
  {
   "cell_type": "code",
   "execution_count": 9,
   "metadata": {},
   "outputs": [
    {
     "name": "stdout",
     "output_type": "stream",
     "text": [
      "Reading options file C:\\Users\\MPHILL~1\\AppData\\Local\\Temp\\jl_C195.tmp\n",
      " > cumulative_iteration_limit 0\n",
      "Read of options file complete.\n",
      "\n",
      "Path 5.0.03 (Fri Jun 26 10:05:33 2020)\n",
      "Written by Todd Munson, Steven Dirkse, Youngdae Kim, and Michael Ferris\n",
      "Preprocessed size   : 13\n",
      "\n",
      "Major Iteration Log\n",
      "major minor  func  grad  residual    step  type prox    inorm  (label)\n",
      "    0     0     1     1 0.0000e+00           I 0.0e+00 0.0e+00 (zero_profit[X1)\n",
      "\n",
      "Major Iterations. . . . 0\n",
      "Minor Iterations. . . . 0\n",
      "Restarts. . . . . . . . 0\n",
      "Crash Iterations. . . . 0\n",
      "Gradient Steps. . . . . 0\n",
      "Function Evaluations. . 1\n",
      "Gradient Evaluations. . 1\n",
      "Basis Time. . . . . . . 0.000000\n",
      "Total Time. . . . . . . 0.000000\n",
      "Residual. . . . . . . . 0.000000e+00\n",
      "Postsolved residual: 0.0000e+00\n",
      "\n",
      "\n",
      "Solver Status: LOCALLY_SOLVED\n",
      "Model Status: FEASIBLE_POINT"
     ]
    },
    {
     "data": {
      "text/html": [
       "<div><div style = \"float: left;\"><span>14×3 DataFrame</span></div><div style = \"clear: both;\"></div></div><div class = \"data-frame\" style = \"overflow-x: scroll;\"><table class = \"data-frame\" style = \"margin-bottom: 6px;\"><thead><tr class = \"header\"><th class = \"rowNumber\" style = \"font-weight: bold; text-align: right;\">Row</th><th style = \"text-align: left;\">var</th><th style = \"text-align: left;\">value</th><th style = \"text-align: left;\">margin</th></tr><tr class = \"subheader headerLastRow\"><th class = \"rowNumber\" style = \"font-weight: bold; text-align: right;\"></th><th title = \"JuMP.VariableRef\" style = \"text-align: left;\">GenericV…</th><th title = \"Float64\" style = \"text-align: left;\">Float64</th><th title = \"Float64\" style = \"text-align: left;\">Float64</th></tr></thead><tbody><tr><td class = \"rowNumber\" style = \"font-weight: bold; text-align: right;\">1</td><td style = \"text-align: left;\">M2</td><td style = \"text-align: right;\">1.0</td><td style = \"text-align: right;\">0.0</td></tr><tr><td class = \"rowNumber\" style = \"font-weight: bold; text-align: right;\">2</td><td style = \"text-align: left;\">W</td><td style = \"text-align: right;\">1.0</td><td style = \"text-align: right;\">0.0</td></tr><tr><td class = \"rowNumber\" style = \"font-weight: bold; text-align: right;\">3</td><td style = \"text-align: left;\">X2</td><td style = \"text-align: right;\">1.0</td><td style = \"text-align: right;\">0.0</td></tr><tr><td class = \"rowNumber\" style = \"font-weight: bold; text-align: right;\">4</td><td style = \"text-align: left;\">X1</td><td style = \"text-align: right;\">1.0</td><td style = \"text-align: right;\">0.0</td></tr><tr><td class = \"rowNumber\" style = \"font-weight: bold; text-align: right;\">5</td><td style = \"text-align: left;\">PL</td><td style = \"text-align: right;\">1.0</td><td style = \"text-align: right;\">0.0</td></tr><tr><td class = \"rowNumber\" style = \"font-weight: bold; text-align: right;\">6</td><td style = \"text-align: left;\">PW</td><td style = \"text-align: right;\">1.0</td><td style = \"text-align: right;\">0.0</td></tr><tr><td class = \"rowNumber\" style = \"font-weight: bold; text-align: right;\">7</td><td style = \"text-align: left;\">P1</td><td style = \"text-align: right;\">1.0</td><td style = \"text-align: right;\">0.0</td></tr><tr><td class = \"rowNumber\" style = \"font-weight: bold; text-align: right;\">8</td><td style = \"text-align: left;\">PK</td><td style = \"text-align: right;\">1.0</td><td style = \"text-align: right;\">0.0</td></tr><tr><td class = \"rowNumber\" style = \"font-weight: bold; text-align: right;\">9</td><td style = \"text-align: left;\">P2</td><td style = \"text-align: right;\">1.0</td><td style = \"text-align: right;\">0.0</td></tr><tr><td class = \"rowNumber\" style = \"font-weight: bold; text-align: right;\">10</td><td style = \"text-align: left;\">CONS</td><td style = \"text-align: right;\">200.0</td><td style = \"text-align: right;\">0.0</td></tr><tr><td class = \"rowNumber\" style = \"font-weight: bold; text-align: right;\">11</td><td style = \"text-align: left;\">E2</td><td style = \"text-align: right;\">0.0</td><td style = \"text-align: right;\">0.5</td></tr><tr><td class = \"rowNumber\" style = \"font-weight: bold; text-align: right;\">12</td><td style = \"text-align: left;\">E1</td><td style = \"text-align: right;\">1.0</td><td style = \"text-align: right;\">0.0</td></tr><tr><td class = \"rowNumber\" style = \"font-weight: bold; text-align: right;\">13</td><td style = \"text-align: left;\">M1</td><td style = \"text-align: right;\">0.0</td><td style = \"text-align: right;\">0.5</td></tr><tr><td class = \"rowNumber\" style = \"font-weight: bold; text-align: right;\">14</td><td style = \"text-align: left;\">PFX</td><td style = \"text-align: right;\">1.0</td><td style = \"text-align: right;\">0.0</td></tr></tbody></table></div>"
      ],
      "text/latex": [
       "\\begin{tabular}{r|ccc}\n",
       "\t& var & value & margin\\\\\n",
       "\t\\hline\n",
       "\t& GenericV… & Float64 & Float64\\\\\n",
       "\t\\hline\n",
       "\t1 & $ M2 $ & 1.0 & 0.0 \\\\\n",
       "\t2 & $ W $ & 1.0 & 0.0 \\\\\n",
       "\t3 & $ X2 $ & 1.0 & 0.0 \\\\\n",
       "\t4 & $ X1 $ & 1.0 & 0.0 \\\\\n",
       "\t5 & $ PL $ & 1.0 & 0.0 \\\\\n",
       "\t6 & $ PW $ & 1.0 & 0.0 \\\\\n",
       "\t7 & $ P1 $ & 1.0 & 0.0 \\\\\n",
       "\t8 & $ PK $ & 1.0 & 0.0 \\\\\n",
       "\t9 & $ P2 $ & 1.0 & 0.0 \\\\\n",
       "\t10 & $ CONS $ & 200.0 & 0.0 \\\\\n",
       "\t11 & $ E2 $ & 0.0 & 0.5 \\\\\n",
       "\t12 & $ E1 $ & 1.0 & 0.0 \\\\\n",
       "\t13 & $ M1 $ & 0.0 & 0.5 \\\\\n",
       "\t14 & $ PFX $ & 1.0 & 0.0 \\\\\n",
       "\\end{tabular}\n"
      ],
      "text/plain": [
       "\u001b[1m14×3 DataFrame\u001b[0m\n",
       "\u001b[1m Row \u001b[0m│\u001b[1m var       \u001b[0m\u001b[1m value   \u001b[0m\u001b[1m margin  \u001b[0m\n",
       "     │\u001b[90m GenericV… \u001b[0m\u001b[90m Float64 \u001b[0m\u001b[90m Float64 \u001b[0m\n",
       "─────┼─────────────────────────────\n",
       "   1 │ M2             1.0      0.0\n",
       "   2 │ W              1.0      0.0\n",
       "   3 │ X2             1.0      0.0\n",
       "   4 │ X1             1.0      0.0\n",
       "   5 │ PL             1.0      0.0\n",
       "   6 │ PW             1.0      0.0\n",
       "   7 │ P1             1.0      0.0\n",
       "   8 │ PK             1.0      0.0\n",
       "   9 │ P2             1.0      0.0\n",
       "  10 │ CONS         200.0      0.0\n",
       "  11 │ E2             0.0      0.5\n",
       "  12 │ E1             1.0      0.0\n",
       "  13 │ M1             0.0      0.5\n",
       "  14 │ PFX            1.0      0.0"
      ]
     },
     "metadata": {},
     "output_type": "display_data"
    }
   ],
   "source": [
    "fix(PW, 1)\n",
    "\n",
    "set_start_value(E2, 0)\n",
    "set_start_value(M1, 0)\n",
    "\n",
    "solve!(M41, cumulative_iteration_limit=0)\n",
    "\n",
    "generate_report(M41)"
   ]
  },
  {
   "cell_type": "markdown",
   "metadata": {},
   "source": [
    "# Counterfactual "
   ]
  },
  {
   "cell_type": "code",
   "execution_count": 10,
   "metadata": {},
   "outputs": [
    {
     "name": "stdout",
     "output_type": "stream",
     "text": [
      "Reading options file C:\\Users\\MPHILL~1\\AppData\\Local\\Temp\\jl_49C2.tmp\n",
      " > cumulative_iteration_limit 10000\n",
      "Read of options file complete.\n",
      "\n",
      "Path 5.0.03 (Fri Jun 26 10:05:33 2020)\n",
      "Written by Todd Munson, Steven Dirkse, Youngdae Kim, and Michael Ferris\n",
      "\n",
      "Preprocessed size   : 13\n",
      "\n",
      "Crash Log\n",
      "major  func  diff  size  residual    step       prox   (label)\n",
      "    0     0             2.6420e+00             0.0e+00 (income_balance[CONS)\n",
      "    1     1     0    11 8.7418e-01  1.0e+00    0.0e+00 (zero_profit[X1)\n",
      "pn_search terminated: no basis change.\n",
      "\n",
      "Major Iteration Log\n",
      "major minor  func  grad  residual    step  type prox    inorm  (label)\n",
      "    0     0     2     2 8.7418e-01           I 0.0e+00 7.2e-01 (zero_profit[X1)\n",
      "    1     1     3     3 3.3171e-04  1.0e+00 SO 0.0e+00 2.5e-04 (market_clearanc)\n",
      "    2     1     4     4 4.3506e-13  1.0e+00 SO 0.0e+00 3.6e-13 (market_clearanc)\n",
      "\n",
      "Major Iterations. . . . 2\n",
      "Minor Iterations. . . . 2\n",
      "Restarts. . . . . . . . 0\n",
      "Crash Iterations. . . . 1\n",
      "Gradient Steps. . . . . 0\n",
      "Function Evaluations. . 4\n",
      "Gradient Evaluations. . 4\n",
      "Basis Time. . . . . . . 0.000000\n",
      "Total Time. . . . . . . 0.000000\n",
      "Residual. . . . . . . . 4.350590e-13\n",
      "Postsolved residual: 4.3506e-13\n",
      "\n",
      "\n",
      "Solver Status: LOCALLY_SOLVED\n",
      "Model Status: FEASIBLE_POINT"
     ]
    },
    {
     "data": {
      "text/html": [
       "<div><div style = \"float: left;\"><span>14×3 DataFrame</span></div><div style = \"clear: both;\"></div></div><div class = \"data-frame\" style = \"overflow-x: scroll;\"><table class = \"data-frame\" style = \"margin-bottom: 6px;\"><thead><tr class = \"header\"><th class = \"rowNumber\" style = \"font-weight: bold; text-align: right;\">Row</th><th style = \"text-align: left;\">var</th><th style = \"text-align: left;\">value</th><th style = \"text-align: left;\">margin</th></tr><tr class = \"subheader headerLastRow\"><th class = \"rowNumber\" style = \"font-weight: bold; text-align: right;\"></th><th title = \"JuMP.VariableRef\" style = \"text-align: left;\">GenericV…</th><th title = \"Float64\" style = \"text-align: left;\">Float64</th><th title = \"Float64\" style = \"text-align: left;\">Float64</th></tr></thead><tbody><tr><td class = \"rowNumber\" style = \"font-weight: bold; text-align: right;\">1</td><td style = \"text-align: left;\">M2</td><td style = \"text-align: right;\">0.328178</td><td style = \"text-align: right;\">-4.44089e-16</td></tr><tr><td class = \"rowNumber\" style = \"font-weight: bold; text-align: right;\">2</td><td style = \"text-align: left;\">W</td><td style = \"text-align: right;\">0.9959</td><td style = \"text-align: right;\">2.84217e-14</td></tr><tr><td class = \"rowNumber\" style = \"font-weight: bold; text-align: right;\">3</td><td style = \"text-align: left;\">X2</td><td style = \"text-align: right;\">1.61562</td><td style = \"text-align: right;\">-1.42109e-14</td></tr><tr><td class = \"rowNumber\" style = \"font-weight: bold; text-align: right;\">4</td><td style = \"text-align: left;\">X1</td><td style = \"text-align: right;\">0.789722</td><td style = \"text-align: right;\">-2.84217e-14</td></tr><tr><td class = \"rowNumber\" style = \"font-weight: bold; text-align: right;\">5</td><td style = \"text-align: left;\">PL</td><td style = \"text-align: right;\">0.918161</td><td style = \"text-align: right;\">-3.55271e-13</td></tr><tr><td class = \"rowNumber\" style = \"font-weight: bold; text-align: right;\">6</td><td style = \"text-align: left;\">PW</td><td style = \"text-align: right;\">1.0</td><td style = \"text-align: right;\">2.84217e-14</td></tr><tr><td class = \"rowNumber\" style = \"font-weight: bold; text-align: right;\">7</td><td style = \"text-align: left;\">P1</td><td style = \"text-align: right;\">0.9759</td><td style = \"text-align: right;\">1.42109e-14</td></tr><tr><td class = \"rowNumber\" style = \"font-weight: bold; text-align: right;\">8</td><td style = \"text-align: left;\">PK</td><td style = \"text-align: right;\">1.1025</td><td style = \"text-align: right;\">2.41585e-13</td></tr><tr><td class = \"rowNumber\" style = \"font-weight: bold; text-align: right;\">9</td><td style = \"text-align: left;\">P2</td><td style = \"text-align: right;\">1.0247</td><td style = \"text-align: right;\">4.26326e-14</td></tr><tr><td class = \"rowNumber\" style = \"font-weight: bold; text-align: right;\">10</td><td style = \"text-align: left;\">CONS</td><td style = \"text-align: right;\">199.18</td><td style = \"text-align: right;\">2.84217e-14</td></tr><tr><td class = \"rowNumber\" style = \"font-weight: bold; text-align: right;\">11</td><td style = \"text-align: left;\">E2</td><td style = \"text-align: right;\">0.0</td><td style = \"text-align: right;\">2.9277</td></tr><tr><td class = \"rowNumber\" style = \"font-weight: bold; text-align: right;\">12</td><td style = \"text-align: left;\">E1</td><td style = \"text-align: right;\">0.328178</td><td style = \"text-align: right;\">-7.10543e-15</td></tr><tr><td class = \"rowNumber\" style = \"font-weight: bold; text-align: right;\">13</td><td style = \"text-align: left;\">M1</td><td style = \"text-align: right;\">0.0</td><td style = \"text-align: right;\">0.48795</td></tr><tr><td class = \"rowNumber\" style = \"font-weight: bold; text-align: right;\">14</td><td style = \"text-align: left;\">PFX</td><td style = \"text-align: right;\">0.9759</td><td style = \"text-align: right;\">0.0</td></tr></tbody></table></div>"
      ],
      "text/latex": [
       "\\begin{tabular}{r|ccc}\n",
       "\t& var & value & margin\\\\\n",
       "\t\\hline\n",
       "\t& GenericV… & Float64 & Float64\\\\\n",
       "\t\\hline\n",
       "\t1 & $ M2 $ & 0.328178 & -4.44089e-16 \\\\\n",
       "\t2 & $ W $ & 0.9959 & 2.84217e-14 \\\\\n",
       "\t3 & $ X2 $ & 1.61562 & -1.42109e-14 \\\\\n",
       "\t4 & $ X1 $ & 0.789722 & -2.84217e-14 \\\\\n",
       "\t5 & $ PL $ & 0.918161 & -3.55271e-13 \\\\\n",
       "\t6 & $ PW $ & 1.0 & 2.84217e-14 \\\\\n",
       "\t7 & $ P1 $ & 0.9759 & 1.42109e-14 \\\\\n",
       "\t8 & $ PK $ & 1.1025 & 2.41585e-13 \\\\\n",
       "\t9 & $ P2 $ & 1.0247 & 4.26326e-14 \\\\\n",
       "\t10 & $ CONS $ & 199.18 & 2.84217e-14 \\\\\n",
       "\t11 & $ E2 $ & 0.0 & 2.9277 \\\\\n",
       "\t12 & $ E1 $ & 0.328178 & -7.10543e-15 \\\\\n",
       "\t13 & $ M1 $ & 0.0 & 0.48795 \\\\\n",
       "\t14 & $ PFX $ & 0.9759 & 0.0 \\\\\n",
       "\\end{tabular}\n"
      ],
      "text/plain": [
       "\u001b[1m14×3 DataFrame\u001b[0m\n",
       "\u001b[1m Row \u001b[0m│\u001b[1m var       \u001b[0m\u001b[1m value      \u001b[0m\u001b[1m margin       \u001b[0m\n",
       "     │\u001b[90m GenericV… \u001b[0m\u001b[90m Float64    \u001b[0m\u001b[90m Float64      \u001b[0m\n",
       "─────┼─────────────────────────────────────\n",
       "   1 │ M2           0.328178  -4.44089e-16\n",
       "   2 │ W            0.9959     2.84217e-14\n",
       "   3 │ X2           1.61562   -1.42109e-14\n",
       "   4 │ X1           0.789722  -2.84217e-14\n",
       "   5 │ PL           0.918161  -3.55271e-13\n",
       "   6 │ PW           1.0        2.84217e-14\n",
       "   7 │ P1           0.9759     1.42109e-14\n",
       "   8 │ PK           1.1025     2.41585e-13\n",
       "   9 │ P2           1.0247     4.26326e-14\n",
       "  10 │ CONS       199.18       2.84217e-14\n",
       "  11 │ E2           0.0        2.9277\n",
       "  12 │ E1           0.328178  -7.10543e-15\n",
       "  13 │ M1           0.0        0.48795\n",
       "  14 │ PFX          0.9759     0.0"
      ]
     },
     "metadata": {},
     "output_type": "display_data"
    }
   ],
   "source": [
    "set_value!(TM2, .05)\n",
    "\n",
    "solve!(M41)\n",
    "generate_report(M41)"
   ]
  },
  {
   "cell_type": "markdown",
   "metadata": {},
   "source": [
    "# Counterfactual"
   ]
  },
  {
   "cell_type": "code",
   "execution_count": 11,
   "metadata": {},
   "outputs": [
    {
     "name": "stdout",
     "output_type": "stream",
     "text": [
      "Reading options file C:\\Users\\MPHILL~1\\AppData\\Local\\Temp\\jl_94A7.tmp\n",
      " > cumulative_iteration_limit 10000\n",
      "Read of options file complete.\n",
      "\n",
      "Path 5.0.03 (Fri Jun 26 10:05:33 2020)\n",
      "Written by Todd Munson, Steven Dirkse, Youngdae Kim, and Michael Ferris\n",
      "\n",
      "Preprocessed size   : 13\n",
      "\n",
      "Crash Log\n",
      "major  func  diff  size  residual    step       prox   (label)\n",
      "    0     0             5.1420e+00             0.0e+00 (income_balance[CONS)\n",
      "    1     8     0    11 5.0789e+00  2.8e-02    0.0e+00 (income_balance[CONS)\n",
      "pn_search terminated: no basis change.\n",
      "\n",
      "Major Iteration Log\n",
      "major minor  func  grad  residual    step  type prox    inorm  (label)\n",
      "    0     0     9     2 5.0789e+00           I 0.0e+00 5.0e+00 (income_balance[)\n",
      "    1     4    10     3 1.9684e+00  1.0e+00 SM 0.0e+00 1.8e+00 (zero_profit[X1)\n",
      "    2     1    11     4 1.5190e-04  1.0e+00 SO 0.0e+00 1.1e-04 (market_clearanc)\n",
      "    3     1    12     5 2.1734e-12  1.0e+00 SO 0.0e+00 1.6e-12 (market_clearanc)\n",
      "\n",
      "Major Iterations. . . . 3\n",
      "Minor Iterations. . . . 6\n",
      "Restarts. . . . . . . . 0\n",
      "Crash Iterations. . . . 1\n",
      "Gradient Steps. . . . . 0\n",
      "Function Evaluations. . 12\n",
      "Gradient Evaluations. . 5\n",
      "Basis Time. . . . . . . 0.000000\n",
      "Total Time. . . . . . . 0.015000\n",
      "Residual. . . . . . . . 2.173404e-12\n",
      "Postsolved residual: 2.1734e-12\n",
      "\n",
      "\n",
      "Solver Status: LOCALLY_SOLVED\n",
      "Model Status: FEASIBLE_POINT"
     ]
    },
    {
     "data": {
      "text/html": [
       "<div><div style = \"float: left;\"><span>14×3 DataFrame</span></div><div style = \"clear: both;\"></div></div><div class = \"data-frame\" style = \"overflow-x: scroll;\"><table class = \"data-frame\" style = \"margin-bottom: 6px;\"><thead><tr class = \"header\"><th class = \"rowNumber\" style = \"font-weight: bold; text-align: right;\">Row</th><th style = \"text-align: left;\">var</th><th style = \"text-align: left;\">value</th><th style = \"text-align: left;\">margin</th></tr><tr class = \"subheader headerLastRow\"><th class = \"rowNumber\" style = \"font-weight: bold; text-align: right;\"></th><th title = \"JuMP.VariableRef\" style = \"text-align: left;\">GenericV…</th><th title = \"Float64\" style = \"text-align: left;\">Float64</th><th title = \"Float64\" style = \"text-align: left;\">Float64</th></tr></thead><tbody><tr><td class = \"rowNumber\" style = \"font-weight: bold; text-align: right;\">1</td><td style = \"text-align: left;\">M2</td><td style = \"text-align: right;\">0.0</td><td style = \"text-align: right;\">0.670217</td></tr><tr><td class = \"rowNumber\" style = \"font-weight: bold; text-align: right;\">2</td><td style = \"text-align: left;\">W</td><td style = \"text-align: right;\">0.990922</td><td style = \"text-align: right;\">-1.42109e-13</td></tr><tr><td class = \"rowNumber\" style = \"font-weight: bold; text-align: right;\">3</td><td style = \"text-align: left;\">X2</td><td style = \"text-align: right;\">1.91127</td><td style = \"text-align: right;\">-5.3646e-13</td></tr><tr><td class = \"rowNumber\" style = \"font-weight: bold; text-align: right;\">4</td><td style = \"text-align: left;\">X1</td><td style = \"text-align: right;\">0.685007</td><td style = \"text-align: right;\">-1.29319e-12</td></tr><tr><td class = \"rowNumber\" style = \"font-weight: bold; text-align: right;\">5</td><td style = \"text-align: left;\">PL</td><td style = \"text-align: right;\">0.88082</td><td style = \"text-align: right;\">1.56319e-12</td></tr><tr><td class = \"rowNumber\" style = \"font-weight: bold; text-align: right;\">6</td><td style = \"text-align: left;\">PW</td><td style = \"text-align: right;\">1.0</td><td style = \"text-align: right;\">-4.03588e-12</td></tr><tr><td class = \"rowNumber\" style = \"font-weight: bold; text-align: right;\">7</td><td style = \"text-align: left;\">P1</td><td style = \"text-align: right;\">0.964392</td><td style = \"text-align: right;\">1.13687e-13</td></tr><tr><td class = \"rowNumber\" style = \"font-weight: bold; text-align: right;\">8</td><td style = \"text-align: left;\">PK</td><td style = \"text-align: right;\">1.15608</td><td style = \"text-align: right;\">4.54747e-13</td></tr><tr><td class = \"rowNumber\" style = \"font-weight: bold; text-align: right;\">9</td><td style = \"text-align: left;\">P2</td><td style = \"text-align: right;\">1.03692</td><td style = \"text-align: right;\">-4.26326e-14</td></tr><tr><td class = \"rowNumber\" style = \"font-weight: bold; text-align: right;\">10</td><td style = \"text-align: left;\">CONS</td><td style = \"text-align: right;\">198.184</td><td style = \"text-align: right;\">0.0</td></tr><tr><td class = \"rowNumber\" style = \"font-weight: bold; text-align: right;\">11</td><td style = \"text-align: left;\">E2</td><td style = \"text-align: right;\">0.0</td><td style = \"text-align: right;\">4.58142</td></tr><tr><td class = \"rowNumber\" style = \"font-weight: bold; text-align: right;\">12</td><td style = \"text-align: left;\">E1</td><td style = \"text-align: right;\">0.0</td><td style = \"text-align: right;\">0.477422</td></tr><tr><td class = \"rowNumber\" style = \"font-weight: bold; text-align: right;\">13</td><td style = \"text-align: left;\">M1</td><td style = \"text-align: right;\">0.0</td><td style = \"text-align: right;\">0.0</td></tr><tr><td class = \"rowNumber\" style = \"font-weight: bold; text-align: right;\">14</td><td style = \"text-align: left;\">PFX</td><td style = \"text-align: right;\">0.954843</td><td style = \"text-align: right;\">0.0</td></tr></tbody></table></div>"
      ],
      "text/latex": [
       "\\begin{tabular}{r|ccc}\n",
       "\t& var & value & margin\\\\\n",
       "\t\\hline\n",
       "\t& GenericV… & Float64 & Float64\\\\\n",
       "\t\\hline\n",
       "\t1 & $ M2 $ & 0.0 & 0.670217 \\\\\n",
       "\t2 & $ W $ & 0.990922 & -1.42109e-13 \\\\\n",
       "\t3 & $ X2 $ & 1.91127 & -5.3646e-13 \\\\\n",
       "\t4 & $ X1 $ & 0.685007 & -1.29319e-12 \\\\\n",
       "\t5 & $ PL $ & 0.88082 & 1.56319e-12 \\\\\n",
       "\t6 & $ PW $ & 1.0 & -4.03588e-12 \\\\\n",
       "\t7 & $ P1 $ & 0.964392 & 1.13687e-13 \\\\\n",
       "\t8 & $ PK $ & 1.15608 & 4.54747e-13 \\\\\n",
       "\t9 & $ P2 $ & 1.03692 & -4.26326e-14 \\\\\n",
       "\t10 & $ CONS $ & 198.184 & 0.0 \\\\\n",
       "\t11 & $ E2 $ & 0.0 & 4.58142 \\\\\n",
       "\t12 & $ E1 $ & 0.0 & 0.477422 \\\\\n",
       "\t13 & $ M1 $ & 0.0 & 0.0 \\\\\n",
       "\t14 & $ PFX $ & 0.954843 & 0.0 \\\\\n",
       "\\end{tabular}\n"
      ],
      "text/plain": [
       "\u001b[1m14×3 DataFrame\u001b[0m\n",
       "\u001b[1m Row \u001b[0m│\u001b[1m var       \u001b[0m\u001b[1m value      \u001b[0m\u001b[1m margin       \u001b[0m\n",
       "     │\u001b[90m GenericV… \u001b[0m\u001b[90m Float64    \u001b[0m\u001b[90m Float64      \u001b[0m\n",
       "─────┼─────────────────────────────────────\n",
       "   1 │ M2           0.0        0.670217\n",
       "   2 │ W            0.990922  -1.42109e-13\n",
       "   3 │ X2           1.91127   -5.3646e-13\n",
       "   4 │ X1           0.685007  -1.29319e-12\n",
       "   5 │ PL           0.88082    1.56319e-12\n",
       "   6 │ PW           1.0       -4.03588e-12\n",
       "   7 │ P1           0.964392   1.13687e-13\n",
       "   8 │ PK           1.15608    4.54747e-13\n",
       "   9 │ P2           1.03692   -4.26326e-14\n",
       "  10 │ CONS       198.184      0.0\n",
       "  11 │ E2           0.0        4.58142\n",
       "  12 │ E1           0.0        0.477422\n",
       "  13 │ M1           0.0        0.0\n",
       "  14 │ PFX          0.954843   0.0"
      ]
     },
     "metadata": {},
     "output_type": "display_data"
    }
   ],
   "source": [
    "set_value!(TM2, .1)\n",
    "\n",
    "solve!(M41)\n",
    "generate_report(M41)"
   ]
  },
  {
   "cell_type": "markdown",
   "metadata": {},
   "source": [
    "# Counterfactual"
   ]
  },
  {
   "cell_type": "code",
   "execution_count": 12,
   "metadata": {},
   "outputs": [
    {
     "name": "stdout",
     "output_type": "stream",
     "text": [
      "Reading options file C:\\Users\\MPHILL~1\\AppData\\Local\\Temp\\jl_5393.tmp\n",
      " > cumulative_iteration_limit 10000\n",
      "Read of options file complete.\n",
      "\n",
      "Path 5.0.03 (Fri Jun 26 10:05:33 2020)\n",
      "Written by Todd Munson, Steven Dirkse, Youngdae Kim, and Michael Ferris\n",
      "\n",
      "Preprocessed size   : 13\n",
      "\n",
      "Crash Log\n",
      "major  func  diff  size  residual    step       prox   (label)\n",
      "    0     0             2.6941e+01             0.0e+00 (zero_profit[E1)\n",
      "    1     7     0    11 2.6236e+01  6.9e-02    0.0e+00 (market_clearance[PFX)\n",
      "pn_search terminated: no basis change.\n",
      "\n",
      "Major Iteration Log\n",
      "major minor  func  grad  residual    step  type prox    inorm  (label)\n",
      "    0     0     8     2 2.6236e+01           I 0.0e+00 1.8e+01 (market_clearanc)\n",
      "    1     2     9     3 1.8466e+00  1.0e+00 SM 0.0e+00 1.2e+00 (zero_profit[X1)\n",
      "    2     1    10     4 9.0497e-03  1.0e+00 SO 0.0e+00 6.6e-03 (market_clearanc)\n",
      "    3     1    11     5 4.2964e-07  1.0e+00 SO 0.0e+00 3.0e-07 (zero_profit[X1)\n",
      "\n",
      "Major Iterations. . . . 3\n",
      "Minor Iterations. . . . 4\n",
      "Restarts. . . . . . . . 0\n",
      "Crash Iterations. . . . 1\n",
      "Gradient Steps. . . . . 0\n",
      "Function Evaluations. . 11\n",
      "Gradient Evaluations. . 5\n",
      "Basis Time. . . . . . . 0.000000\n",
      "Total Time. . . . . . . 0.000000\n",
      "Residual. . . . . . . . 4.296392e-07\n",
      "Postsolved residual: 4.2964e-07\n",
      "\n",
      "\n",
      "Solver Status: LOCALLY_SOLVED\n",
      "Model Status: FEASIBLE_POINT"
     ]
    },
    {
     "data": {
      "text/html": [
       "<div><div style = \"float: left;\"><span>14×3 DataFrame</span></div><div style = \"clear: both;\"></div></div><div class = \"data-frame\" style = \"overflow-x: scroll;\"><table class = \"data-frame\" style = \"margin-bottom: 6px;\"><thead><tr class = \"header\"><th class = \"rowNumber\" style = \"font-weight: bold; text-align: right;\">Row</th><th style = \"text-align: left;\">var</th><th style = \"text-align: left;\">value</th><th style = \"text-align: left;\">margin</th></tr><tr class = \"subheader headerLastRow\"><th class = \"rowNumber\" style = \"font-weight: bold; text-align: right;\"></th><th title = \"JuMP.VariableRef\" style = \"text-align: left;\">GenericV…</th><th title = \"Float64\" style = \"text-align: left;\">Float64</th><th title = \"Float64\" style = \"text-align: left;\">Float64</th></tr></thead><tbody><tr><td class = \"rowNumber\" style = \"font-weight: bold; text-align: right;\">1</td><td style = \"text-align: left;\">M2</td><td style = \"text-align: right;\">2.37739</td><td style = \"text-align: right;\">2.13163e-14</td></tr><tr><td class = \"rowNumber\" style = \"font-weight: bold; text-align: right;\">2</td><td style = \"text-align: left;\">W</td><td style = \"text-align: right;\">1.08512</td><td style = \"text-align: right;\">2.84217e-14</td></tr><tr><td class = \"rowNumber\" style = \"font-weight: bold; text-align: right;\">3</td><td style = \"text-align: left;\">X2</td><td style = \"text-align: right;\">0.0</td><td style = \"text-align: right;\">5.08397</td></tr><tr><td class = \"rowNumber\" style = \"font-weight: bold; text-align: right;\">4</td><td style = \"text-align: left;\">X1</td><td style = \"text-align: right;\">1.32077</td><td style = \"text-align: right;\">-3.02488e-7</td></tr><tr><td class = \"rowNumber\" style = \"font-weight: bold; text-align: right;\">5</td><td style = \"text-align: left;\">PL</td><td style = \"text-align: right;\">1.20569</td><td style = \"text-align: right;\">1.21429e-7</td></tr><tr><td class = \"rowNumber\" style = \"font-weight: bold; text-align: right;\">6</td><td style = \"text-align: left;\">PW</td><td style = \"text-align: right;\">1.0</td><td style = \"text-align: right;\">-7.99032e-7</td></tr><tr><td class = \"rowNumber\" style = \"font-weight: bold; text-align: right;\">7</td><td style = \"text-align: left;\">P1</td><td style = \"text-align: right;\">1.09545</td><td style = \"text-align: right;\">-2.84217e-14</td></tr><tr><td class = \"rowNumber\" style = \"font-weight: bold; text-align: right;\">8</td><td style = \"text-align: left;\">PK</td><td style = \"text-align: right;\">0.90427</td><td style = \"text-align: right;\">2.79903e-7</td></tr><tr><td class = \"rowNumber\" style = \"font-weight: bold; text-align: right;\">9</td><td style = \"text-align: left;\">P2</td><td style = \"text-align: right;\">0.912871</td><td style = \"text-align: right;\">1.42109e-14</td></tr><tr><td class = \"rowNumber\" style = \"font-weight: bold; text-align: right;\">10</td><td style = \"text-align: left;\">CONS</td><td style = \"text-align: right;\">217.025</td><td style = \"text-align: right;\">0.0</td></tr><tr><td class = \"rowNumber\" style = \"font-weight: bold; text-align: right;\">11</td><td style = \"text-align: left;\">E2</td><td style = \"text-align: right;\">0.0</td><td style = \"text-align: right;\">0.456435</td></tr><tr><td class = \"rowNumber\" style = \"font-weight: bold; text-align: right;\">12</td><td style = \"text-align: left;\">E1</td><td style = \"text-align: right;\">1.98116</td><td style = \"text-align: right;\">0.0</td></tr><tr><td class = \"rowNumber\" style = \"font-weight: bold; text-align: right;\">13</td><td style = \"text-align: left;\">M1</td><td style = \"text-align: right;\">0.0</td><td style = \"text-align: right;\">0.456435</td></tr><tr><td class = \"rowNumber\" style = \"font-weight: bold; text-align: right;\">14</td><td style = \"text-align: left;\">PFX</td><td style = \"text-align: right;\">0.912871</td><td style = \"text-align: right;\">0.0</td></tr></tbody></table></div>"
      ],
      "text/latex": [
       "\\begin{tabular}{r|ccc}\n",
       "\t& var & value & margin\\\\\n",
       "\t\\hline\n",
       "\t& GenericV… & Float64 & Float64\\\\\n",
       "\t\\hline\n",
       "\t1 & $ M2 $ & 2.37739 & 2.13163e-14 \\\\\n",
       "\t2 & $ W $ & 1.08512 & 2.84217e-14 \\\\\n",
       "\t3 & $ X2 $ & 0.0 & 5.08397 \\\\\n",
       "\t4 & $ X1 $ & 1.32077 & -3.02488e-7 \\\\\n",
       "\t5 & $ PL $ & 1.20569 & 1.21429e-7 \\\\\n",
       "\t6 & $ PW $ & 1.0 & -7.99032e-7 \\\\\n",
       "\t7 & $ P1 $ & 1.09545 & -2.84217e-14 \\\\\n",
       "\t8 & $ PK $ & 0.90427 & 2.79903e-7 \\\\\n",
       "\t9 & $ P2 $ & 0.912871 & 1.42109e-14 \\\\\n",
       "\t10 & $ CONS $ & 217.025 & 0.0 \\\\\n",
       "\t11 & $ E2 $ & 0.0 & 0.456435 \\\\\n",
       "\t12 & $ E1 $ & 1.98116 & 0.0 \\\\\n",
       "\t13 & $ M1 $ & 0.0 & 0.456435 \\\\\n",
       "\t14 & $ PFX $ & 0.912871 & 0.0 \\\\\n",
       "\\end{tabular}\n"
      ],
      "text/plain": [
       "\u001b[1m14×3 DataFrame\u001b[0m\n",
       "\u001b[1m Row \u001b[0m│\u001b[1m var       \u001b[0m\u001b[1m value      \u001b[0m\u001b[1m margin       \u001b[0m\n",
       "     │\u001b[90m GenericV… \u001b[0m\u001b[90m Float64    \u001b[0m\u001b[90m Float64      \u001b[0m\n",
       "─────┼─────────────────────────────────────\n",
       "   1 │ M2           2.37739    2.13163e-14\n",
       "   2 │ W            1.08512    2.84217e-14\n",
       "   3 │ X2           0.0        5.08397\n",
       "   4 │ X1           1.32077   -3.02488e-7\n",
       "   5 │ PL           1.20569    1.21429e-7\n",
       "   6 │ PW           1.0       -7.99032e-7\n",
       "   7 │ P1           1.09545   -2.84217e-14\n",
       "   8 │ PK           0.90427    2.79903e-7\n",
       "   9 │ P2           0.912871   1.42109e-14\n",
       "  10 │ CONS       217.025      0.0\n",
       "  11 │ E2           0.0        0.456435\n",
       "  12 │ E1           1.98116    0.0\n",
       "  13 │ M1           0.0        0.456435\n",
       "  14 │ PFX          0.912871   0.0"
      ]
     },
     "metadata": {},
     "output_type": "display_data"
    }
   ],
   "source": [
    "set_value!(TM2, 0)\n",
    "\n",
    "set_value!(PE1, 1.2)\n",
    "set_value!(PM1, 1.21)\n",
    "\n",
    "solve!(M41)\n",
    "generate_report(M41)"
   ]
  }
 ],
 "metadata": {
  "kernelspec": {
   "display_name": "Julia 1.9.2",
   "language": "julia",
   "name": "julia-1.9"
  },
  "language_info": {
   "file_extension": ".jl",
   "mimetype": "application/julia",
   "name": "julia",
   "version": "1.9.2"
  }
 },
 "nbformat": 4,
 "nbformat_minor": 2
}
