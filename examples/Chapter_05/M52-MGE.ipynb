{
 "cells": [
  {
   "cell_type": "markdown",
   "metadata": {},
   "source": [
    "# M52 - MGE\n",
    "\n",
    "Monopoly with IRTS - Calibrated to zero profits\n",
    "\n",
    "|Markets  |   X  |      N   |     Y   |     W    |  CONS|\n",
    "|---------|------|----------|---------|----------|------|\n",
    "|    PX   | 100  |          |         |  -100    |      | \n",
    "|    PY   |      |          |   100   |  -100    |      |\n",
    "|    PF   |      |     20   |         |          |   -20|\n",
    "|    PU   |      |          |         |   200    |  -200|\n",
    "|    PW   | -32  |     -8   |   -60   |          |   100|\n",
    "|    PZ   | -48  |    -12   |   -40   |          |   100|\n",
    "|    MK   | -20  |          |         |          |    20|"
   ]
  },
  {
   "cell_type": "code",
   "execution_count": 48,
   "metadata": {},
   "outputs": [],
   "source": [
    "using MPSGE"
   ]
  },
  {
   "cell_type": "code",
   "execution_count": 49,
   "metadata": {},
   "outputs": [],
   "source": [
    "M52 = MPSGEModel()\n",
    "\n",
    "@parameters(M52, begin\n",
    "    σ, 9, (description = \"Elasticity of substitution in demand\",)\n",
    "    FCOST, 1, (description = \"Ratio of fixed costs to benchmark\",)\n",
    "    ENDOW, 1, (description = \"Level of factor endowment\",)\n",
    "end)\n",
    "\n",
    "@sectors(M52, begin\n",
    "\tX,\t(description = \"Activity level -- monopolist sector X\",)\n",
    "\tY,\t(description = \"Activity level -- competitive sector Y\",)\n",
    "\tW,\t(description = \"Welfare index for the consumer\",)\n",
    "end)\n",
    "@commodities(M52, begin\n",
    "\tPU,\t(description = \"Welfare price index for the consumer\",)\n",
    "\tPX,\t(description = \"Price index for X (gross of markup)\",)\n",
    "\tPY,\t(description = \"Price index for Y (gross of markup)\",)\n",
    "\tPW,\t(description = \"Price index for labor\",)\n",
    "\tPZ,\t(description = \"Price index for capital\",)\n",
    "end)\n",
    "@consumers(M52, begin\n",
    "\tCONS,\t(description = \"All consumers\",)\n",
    "end)\n",
    "@auxiliaries(M52, begin\n",
    "\tSHAREX,\t(description = \"Value share of X in total consumption\",)\n",
    "\tMARKUP,\t(description = \"Markup based on Marshallian demand\",)\n",
    "end)\n",
    "\n",
    "@production(M52, X, [s=1,t=0], begin\n",
    "    @output(PX, 80, t, taxes = [Tax(CONS,MARKUP)])\n",
    "    @input(PW, 32, s)\n",
    "    @input(PZ, 48, s)\n",
    "end)\n",
    "\n",
    "@production(M52, Y, [s=1,t=0], begin\n",
    "    @output(PY, 100, t)\n",
    "    @input(PW, 60, s)\n",
    "    @input(PZ, 40, s)\n",
    "end)\n",
    "\n",
    "@production(M52, W, [s=σ,t=0], begin\n",
    "    @output(PU, 200, t)\n",
    "    @input(PX, 80, s, reference_price = 1.25)\n",
    "    @input(PY, 100, s)\n",
    "end)\n",
    "\n",
    "@demand(M52, CONS,begin\n",
    "    @final_demand(PU, 200)\n",
    "end, begin\n",
    "    @endowment(PW, 100*ENDOW - 8*FCOST)\n",
    "    @endowment(PZ, 100*ENDOW - 12*FCOST)\n",
    "end)\n",
    "\n",
    "@aux_constraint(M52, SHAREX, SHAREX*(80*PX*X + 100*PY*Y) - 80*PX*X)\n",
    "\n",
    "@aux_constraint(M52, MARKUP, MARKUP - 1/(σ - (σ-1)*SHAREX));"
   ]
  },
  {
   "cell_type": "markdown",
   "metadata": {},
   "source": [
    "# Benchmark"
   ]
  },
  {
   "cell_type": "code",
   "execution_count": 50,
   "metadata": {},
   "outputs": [
    {
     "name": "stdout",
     "output_type": "stream",
     "text": [
      "Reading options file C:\\Users\\MPHILL~1\\AppData\\Local\\Temp\\jl_77C8.tmp\n",
      " > cumulative_iteration_limit 0\n",
      "Read of options file complete.\n",
      "\n",
      "Path 5.0.03 (Fri Jun 26 10:05:33 2020)\n",
      "Written by Todd Munson, Steven Dirkse, Youngdae Kim, and Michael Ferris\n",
      "Preprocessed size   : 10\n",
      "\n",
      "Major Iteration Log\n",
      "major minor  func  grad  residual    step  type prox    inorm  (label)\n",
      "    0     0     1     1 0.0000e+00           I 0.0e+00 0.0e+00 (zero_profit[X)\n",
      "\n",
      "Major Iterations. . . . 0\n",
      "Minor Iterations. . . . 0\n",
      "Restarts. . . . . . . . 0\n",
      "Crash Iterations. . . . 0\n",
      "Gradient Steps. . . . . 0\n",
      "Function Evaluations. . 1\n",
      "Gradient Evaluations. . 1\n",
      "Basis Time. . . . . . . 0.000000\n",
      "Total Time. . . . . . . 0.000000\n",
      "Residual. . . . . . . . 0.000000e+00\n",
      "Postsolved residual: 0.0000e+00\n",
      "\n",
      "\n",
      "Solver Status: LOCALLY_SOLVED\n",
      "Model Status: FEASIBLE_POINT\n",
      "\n",
      "Default price normalization using income for CONS - This value is fixed. Unfix with unfix(CONS)."
     ]
    },
    {
     "data": {
      "text/html": [
       "<div><div style = \"float: left;\"><span>11×3 DataFrame</span></div><div style = \"clear: both;\"></div></div><div class = \"data-frame\" style = \"overflow-x: scroll;\"><table class = \"data-frame\" style = \"margin-bottom: 6px;\"><thead><tr class = \"header\"><th class = \"rowNumber\" style = \"font-weight: bold; text-align: right;\">Row</th><th style = \"text-align: left;\">var</th><th style = \"text-align: left;\">value</th><th style = \"text-align: left;\">margin</th></tr><tr class = \"subheader headerLastRow\"><th class = \"rowNumber\" style = \"font-weight: bold; text-align: right;\"></th><th title = \"JuMP.VariableRef\" style = \"text-align: left;\">GenericV…</th><th title = \"Float64\" style = \"text-align: left;\">Float64</th><th title = \"Float64\" style = \"text-align: left;\">Float64</th></tr></thead><tbody><tr><td class = \"rowNumber\" style = \"font-weight: bold; text-align: right;\">1</td><td style = \"text-align: left;\">Y</td><td style = \"text-align: right;\">1.0</td><td style = \"text-align: right;\">0.0</td></tr><tr><td class = \"rowNumber\" style = \"font-weight: bold; text-align: right;\">2</td><td style = \"text-align: left;\">X</td><td style = \"text-align: right;\">1.0</td><td style = \"text-align: right;\">0.0</td></tr><tr><td class = \"rowNumber\" style = \"font-weight: bold; text-align: right;\">3</td><td style = \"text-align: left;\">W</td><td style = \"text-align: right;\">1.0</td><td style = \"text-align: right;\">0.0</td></tr><tr><td class = \"rowNumber\" style = \"font-weight: bold; text-align: right;\">4</td><td style = \"text-align: left;\">PU</td><td style = \"text-align: right;\">1.0</td><td style = \"text-align: right;\">0.0</td></tr><tr><td class = \"rowNumber\" style = \"font-weight: bold; text-align: right;\">5</td><td style = \"text-align: left;\">PW</td><td style = \"text-align: right;\">1.0</td><td style = \"text-align: right;\">0.0</td></tr><tr><td class = \"rowNumber\" style = \"font-weight: bold; text-align: right;\">6</td><td style = \"text-align: left;\">PZ</td><td style = \"text-align: right;\">1.0</td><td style = \"text-align: right;\">0.0</td></tr><tr><td class = \"rowNumber\" style = \"font-weight: bold; text-align: right;\">7</td><td style = \"text-align: left;\">PY</td><td style = \"text-align: right;\">1.0</td><td style = \"text-align: right;\">0.0</td></tr><tr><td class = \"rowNumber\" style = \"font-weight: bold; text-align: right;\">8</td><td style = \"text-align: left;\">PX</td><td style = \"text-align: right;\">1.25</td><td style = \"text-align: right;\">0.0</td></tr><tr><td class = \"rowNumber\" style = \"font-weight: bold; text-align: right;\">9</td><td style = \"text-align: left;\">CONS</td><td style = \"text-align: right;\">200.0</td><td style = \"text-align: right;\">0.0</td></tr><tr><td class = \"rowNumber\" style = \"font-weight: bold; text-align: right;\">10</td><td style = \"text-align: left;\">SHAREX</td><td style = \"text-align: right;\">0.5</td><td style = \"text-align: right;\">0.0</td></tr><tr><td class = \"rowNumber\" style = \"font-weight: bold; text-align: right;\">11</td><td style = \"text-align: left;\">MARKUP</td><td style = \"text-align: right;\">0.2</td><td style = \"text-align: right;\">0.0</td></tr></tbody></table></div>"
      ],
      "text/latex": [
       "\\begin{tabular}{r|ccc}\n",
       "\t& var & value & margin\\\\\n",
       "\t\\hline\n",
       "\t& GenericV… & Float64 & Float64\\\\\n",
       "\t\\hline\n",
       "\t1 & $ Y $ & 1.0 & 0.0 \\\\\n",
       "\t2 & $ X $ & 1.0 & 0.0 \\\\\n",
       "\t3 & $ W $ & 1.0 & 0.0 \\\\\n",
       "\t4 & $ PU $ & 1.0 & 0.0 \\\\\n",
       "\t5 & $ PW $ & 1.0 & 0.0 \\\\\n",
       "\t6 & $ PZ $ & 1.0 & 0.0 \\\\\n",
       "\t7 & $ PY $ & 1.0 & 0.0 \\\\\n",
       "\t8 & $ PX $ & 1.25 & 0.0 \\\\\n",
       "\t9 & $ CONS $ & 200.0 & 0.0 \\\\\n",
       "\t10 & $ SHAREX $ & 0.5 & 0.0 \\\\\n",
       "\t11 & $ MARKUP $ & 0.2 & 0.0 \\\\\n",
       "\\end{tabular}\n"
      ],
      "text/plain": [
       "\u001b[1m11×3 DataFrame\u001b[0m\n",
       "\u001b[1m Row \u001b[0m│\u001b[1m var       \u001b[0m\u001b[1m value   \u001b[0m\u001b[1m margin  \u001b[0m\n",
       "     │\u001b[90m GenericV… \u001b[0m\u001b[90m Float64 \u001b[0m\u001b[90m Float64 \u001b[0m\n",
       "─────┼─────────────────────────────\n",
       "   1 │ Y             1.0       0.0\n",
       "   2 │ X             1.0       0.0\n",
       "   3 │ W             1.0       0.0\n",
       "   4 │ PU            1.0       0.0\n",
       "   5 │ PW            1.0       0.0\n",
       "   6 │ PZ            1.0       0.0\n",
       "   7 │ PY            1.0       0.0\n",
       "   8 │ PX            1.25      0.0\n",
       "   9 │ CONS        200.0       0.0\n",
       "  10 │ SHAREX        0.5       0.0\n",
       "  11 │ MARKUP        0.2       0.0"
      ]
     },
     "metadata": {},
     "output_type": "display_data"
    }
   ],
   "source": [
    "set_start_value(PX, 1.25)\n",
    "set_start_value(SHAREX, .5)\n",
    "set_start_value(MARKUP, .2)\n",
    "\n",
    "solve!(M52, cumulative_iteration_limit=0)\n",
    "generate_report(M52)"
   ]
  },
  {
   "cell_type": "code",
   "execution_count": 51,
   "metadata": {},
   "outputs": [
    {
     "name": "stdout",
     "output_type": "stream",
     "text": [
      "incomeM: 0.0\n",
      "incomeC: 1.0\n"
     ]
    }
   ],
   "source": [
    "incomeM = value(W*(MARKUP*PX*X*80 - PW*8*FCOST - PZ*12*FCOST)/(PX*X*80 + PY*Y*100))\n",
    "incomeC = value(W) - incomeM\n",
    "\n",
    "println(\"incomeM: $incomeM\\nincomeC: $incomeC\")"
   ]
  },
  {
   "cell_type": "markdown",
   "metadata": {},
   "source": [
    "# Counterfactual"
   ]
  },
  {
   "cell_type": "code",
   "execution_count": 52,
   "metadata": {},
   "outputs": [
    {
     "name": "stdout",
     "output_type": "stream",
     "text": [
      "Reading options file C:\\Users\\MPHILL~1\\AppData\\Local\\Temp\\jl_77F8.tmp\n",
      " > cumulative_iteration_limit 10000\n",
      "Read of options file complete.\n",
      "\n",
      "Path 5.0.03 (Fri Jun 26 10:05:33 2020)\n",
      "Written by Todd Munson, Steven Dirkse, Youngdae Kim, and Michael Ferris\n",
      "\n",
      "Preprocessed size   : 9\n",
      "\n",
      "Crash Log\n",
      "major  func  diff  size  residual    step       prox   (label)\n",
      "    0     0             3.9025e+01             0.0e+00 (zero_profit[X)\n",
      "    1     1     0     9 1.0141e+01  1.0e+00    0.0e+00 (zero_profit[W)\n",
      "pn_search terminated: no basis change.\n",
      "\n",
      "Major Iteration Log\n",
      "major minor  func  grad  residual    step  type prox    inorm  (label)\n",
      "    0     0     2     2 1.0141e+01           I 0.0e+00 9.8e+00 (zero_profit[W)\n",
      "    1     1     3     3 3.2204e-01  1.0e+00 SO 0.0e+00 2.8e-01 (market_clearanc)\n",
      "    2     1     4     4 6.0479e-04  1.0e+00 SO 0.0e+00 5.6e-04 (market_clearanc)\n",
      "    3     1     5     5 1.6245e-09  1.0e+00 SO 0.0e+00 1.5e-09 (market_clearanc)\n",
      "\n",
      "Major Iterations. . . . 3\n",
      "Minor Iterations. . . . 3\n",
      "Restarts. . . . . . . . 0\n",
      "Crash Iterations. . . . 1\n",
      "Gradient Steps. . . . . 0\n",
      "Function Evaluations. . 5\n",
      "Gradient Evaluations. . 5\n",
      "Basis Time. . . . . . . 0.000000\n",
      "Total Time. . . . . . . 0.000000\n",
      "Residual. . . . . . . . 1.624548e-09\n",
      "Postsolved residual: 1.6245e-09\n",
      "\n",
      "\n",
      "Solver Status: LOCALLY_SOLVED\n",
      "Model Status: FEASIBLE_POINT"
     ]
    },
    {
     "data": {
      "text/html": [
       "<div><div style = \"float: left;\"><span>11×3 DataFrame</span></div><div style = \"clear: both;\"></div></div><div class = \"data-frame\" style = \"overflow-x: scroll;\"><table class = \"data-frame\" style = \"margin-bottom: 6px;\"><thead><tr class = \"header\"><th class = \"rowNumber\" style = \"font-weight: bold; text-align: right;\">Row</th><th style = \"text-align: left;\">var</th><th style = \"text-align: left;\">value</th><th style = \"text-align: left;\">margin</th></tr><tr class = \"subheader headerLastRow\"><th class = \"rowNumber\" style = \"font-weight: bold; text-align: right;\"></th><th title = \"JuMP.VariableRef\" style = \"text-align: left;\">GenericV…</th><th title = \"Float64\" style = \"text-align: left;\">Float64</th><th title = \"Float64\" style = \"text-align: left;\">Float64</th></tr></thead><tbody><tr><td class = \"rowNumber\" style = \"font-weight: bold; text-align: right;\">1</td><td style = \"text-align: left;\">Y</td><td style = \"text-align: right;\">0.387179</td><td style = \"text-align: right;\">-1.42109e-14</td></tr><tr><td class = \"rowNumber\" style = \"font-weight: bold; text-align: right;\">2</td><td style = \"text-align: left;\">X</td><td style = \"text-align: right;\">1.7449</td><td style = \"text-align: right;\">0.0</td></tr><tr><td class = \"rowNumber\" style = \"font-weight: bold; text-align: right;\">3</td><td style = \"text-align: left;\">W</td><td style = \"text-align: right;\">1.03973</td><td style = \"text-align: right;\">1.13687e-13</td></tr><tr><td class = \"rowNumber\" style = \"font-weight: bold; text-align: right;\">4</td><td style = \"text-align: left;\">PU</td><td style = \"text-align: right;\">0.961791</td><td style = \"text-align: right;\">1.49976e-9</td></tr><tr><td class = \"rowNumber\" style = \"font-weight: bold; text-align: right;\">5</td><td style = \"text-align: left;\">PW</td><td style = \"text-align: right;\">0.95991</td><td style = \"text-align: right;\">-1.90425e-12</td></tr><tr><td class = \"rowNumber\" style = \"font-weight: bold; text-align: right;\">6</td><td style = \"text-align: left;\">PZ</td><td style = \"text-align: right;\">1.26919</td><td style = \"text-align: right;\">1.42109e-12</td></tr><tr><td class = \"rowNumber\" style = \"font-weight: bold; text-align: right;\">7</td><td style = \"text-align: left;\">PY</td><td style = \"text-align: right;\">1.07337</td><td style = \"text-align: right;\">-2.10321e-12</td></tr><tr><td class = \"rowNumber\" style = \"font-weight: bold; text-align: right;\">8</td><td style = \"text-align: left;\">PX</td><td style = \"text-align: right;\">1.13503</td><td style = \"text-align: right;\">2.21689e-12</td></tr><tr><td class = \"rowNumber\" style = \"font-weight: bold; text-align: right;\">9</td><td style = \"text-align: left;\">CONS</td><td style = \"text-align: right;\">200.0</td><td style = \"text-align: right;\">1.44257e-9</td></tr><tr><td class = \"rowNumber\" style = \"font-weight: bold; text-align: right;\">10</td><td style = \"text-align: left;\">SHAREX</td><td style = \"text-align: right;\">0.792207</td><td style = \"text-align: right;\">-6.24397e-10</td></tr><tr><td class = \"rowNumber\" style = \"font-weight: bold; text-align: right;\">11</td><td style = \"text-align: left;\">MARKUP</td><td style = \"text-align: right;\">0.0</td><td style = \"text-align: right;\">-0.375609</td></tr></tbody></table></div>"
      ],
      "text/latex": [
       "\\begin{tabular}{r|ccc}\n",
       "\t& var & value & margin\\\\\n",
       "\t\\hline\n",
       "\t& GenericV… & Float64 & Float64\\\\\n",
       "\t\\hline\n",
       "\t1 & $ Y $ & 0.387179 & -1.42109e-14 \\\\\n",
       "\t2 & $ X $ & 1.7449 & 0.0 \\\\\n",
       "\t3 & $ W $ & 1.03973 & 1.13687e-13 \\\\\n",
       "\t4 & $ PU $ & 0.961791 & 1.49976e-9 \\\\\n",
       "\t5 & $ PW $ & 0.95991 & -1.90425e-12 \\\\\n",
       "\t6 & $ PZ $ & 1.26919 & 1.42109e-12 \\\\\n",
       "\t7 & $ PY $ & 1.07337 & -2.10321e-12 \\\\\n",
       "\t8 & $ PX $ & 1.13503 & 2.21689e-12 \\\\\n",
       "\t9 & $ CONS $ & 200.0 & 1.44257e-9 \\\\\n",
       "\t10 & $ SHAREX $ & 0.792207 & -6.24397e-10 \\\\\n",
       "\t11 & $ MARKUP $ & 0.0 & -0.375609 \\\\\n",
       "\\end{tabular}\n"
      ],
      "text/plain": [
       "\u001b[1m11×3 DataFrame\u001b[0m\n",
       "\u001b[1m Row \u001b[0m│\u001b[1m var       \u001b[0m\u001b[1m value      \u001b[0m\u001b[1m margin       \u001b[0m\n",
       "     │\u001b[90m GenericV… \u001b[0m\u001b[90m Float64    \u001b[0m\u001b[90m Float64      \u001b[0m\n",
       "─────┼─────────────────────────────────────\n",
       "   1 │ Y            0.387179  -1.42109e-14\n",
       "   2 │ X            1.7449     0.0\n",
       "   3 │ W            1.03973    1.13687e-13\n",
       "   4 │ PU           0.961791   1.49976e-9\n",
       "   5 │ PW           0.95991   -1.90425e-12\n",
       "   6 │ PZ           1.26919    1.42109e-12\n",
       "   7 │ PY           1.07337   -2.10321e-12\n",
       "   8 │ PX           1.13503    2.21689e-12\n",
       "   9 │ CONS       200.0        1.44257e-9\n",
       "  10 │ SHAREX       0.792207  -6.24397e-10\n",
       "  11 │ MARKUP       0.0       -0.375609"
      ]
     },
     "metadata": {},
     "output_type": "display_data"
    }
   ],
   "source": [
    "#unfix(CONS)\n",
    "\n",
    "fix(MARKUP,0)\n",
    "\n",
    "solve!(M52)\n",
    "generate_report(M52)\n"
   ]
  },
  {
   "cell_type": "code",
   "execution_count": 53,
   "metadata": {},
   "outputs": [
    {
     "name": "stdout",
     "output_type": "stream",
     "text": [
      "incomeM: -0.11909810769062674\n",
      "incomeC: 1.1588248899335793\n"
     ]
    }
   ],
   "source": [
    "incomeM = value(W*(MARKUP*PX*X*80 - PW*8*FCOST - PZ*12*FCOST)/(PX*X*80 + PY*Y*100))\n",
    "incomeC = value(W) - incomeM\n",
    "\n",
    "println(\"incomeM: $incomeM\\nincomeC: $incomeC\")"
   ]
  },
  {
   "cell_type": "markdown",
   "metadata": {},
   "source": [
    "# Counterfactual"
   ]
  },
  {
   "cell_type": "code",
   "execution_count": 54,
   "metadata": {},
   "outputs": [
    {
     "name": "stdout",
     "output_type": "stream",
     "text": [
      "Reading options file C:\\Users\\MPHILL~1\\AppData\\Local\\Temp\\jl_7818.tmp\n",
      " > cumulative_iteration_limit 10000\n",
      "Read of options file complete.\n",
      "\n",
      "Path 5.0.03 (Fri Jun 26 10:05:33 2020)\n",
      "Written by Todd Munson, Steven Dirkse, Youngdae Kim, and Michael Ferris\n",
      "\n",
      "Preprocessed size   : 10\n",
      "\n",
      "Crash Log\n",
      "major  func  diff  size  residual    step       prox   (label)\n",
      "    0     0             2.8144e+02             0.0e+00 (market_clearance[PW)\n",
      "    1     2     0    10 5.6498e+01  8.0e-01    0.0e+00 (market_clearance[PZ)\n",
      "pn_search terminated: no basis change.\n",
      "\n",
      "Major Iteration Log\n",
      "major minor  func  grad  residual    step  type prox    inorm  (label)\n",
      "    0     0     3     2 5.6498e+01           I 0.0e+00 4.3e+01 (market_clearanc)\n",
      "    1     1     4     3 1.2274e+00  1.0e+00 SM 0.0e+00 8.6e-01 (market_clearanc)\n",
      "    2     1     5     4 5.2696e-01  1.0e+00 SO 0.0e+00 4.2e-01 (market_clearanc)\n",
      "    3     1     6     5 4.4815e-01  1.0e+00 SO 0.0e+00 4.5e-01 (market_clearanc)\n",
      "    4     1     7     6 6.0004e-02  1.0e+00 SO 0.0e+00 6.0e-02 (market_clearanc)\n",
      "    5     1     8     7 9.7971e-06  1.0e+00 SO 0.0e+00 9.8e-06 (market_clearanc)\n",
      "    6     1     9     8 6.1913e-13  1.0e+00 SO 0.0e+00 4.5e-13 (market_clearanc)\n",
      "\n",
      "Major Iterations. . . . 6\n",
      "Minor Iterations. . . . 6\n",
      "Restarts. . . . . . . . 0\n",
      "Crash Iterations. . . . 1\n",
      "Gradient Steps. . . . . 0\n",
      "Function Evaluations. . 9\n",
      "Gradient Evaluations. . 8\n",
      "Basis Time. . . . . . . 0.000000\n",
      "Total Time. . . . . . . 0.000000\n",
      "Residual. . . . . . . . 6.191336e-13\n",
      "Postsolved residual: 6.1913e-13\n",
      "\n",
      "\n",
      "Solver Status: LOCALLY_SOLVED\n",
      "Model Status: FEASIBLE_POINT"
     ]
    },
    {
     "data": {
      "text/html": [
       "<div><div style = \"float: left;\"><span>11×3 DataFrame</span></div><div style = \"clear: both;\"></div></div><div class = \"data-frame\" style = \"overflow-x: scroll;\"><table class = \"data-frame\" style = \"margin-bottom: 6px;\"><thead><tr class = \"header\"><th class = \"rowNumber\" style = \"font-weight: bold; text-align: right;\">Row</th><th style = \"text-align: left;\">var</th><th style = \"text-align: left;\">value</th><th style = \"text-align: left;\">margin</th></tr><tr class = \"subheader headerLastRow\"><th class = \"rowNumber\" style = \"font-weight: bold; text-align: right;\"></th><th title = \"JuMP.VariableRef\" style = \"text-align: left;\">GenericV…</th><th title = \"Float64\" style = \"text-align: left;\">Float64</th><th title = \"Float64\" style = \"text-align: left;\">Float64</th></tr></thead><tbody><tr><td class = \"rowNumber\" style = \"font-weight: bold; text-align: right;\">1</td><td style = \"text-align: left;\">Y</td><td style = \"text-align: right;\">2.09209</td><td style = \"text-align: right;\">-1.42109e-14</td></tr><tr><td class = \"rowNumber\" style = \"font-weight: bold; text-align: right;\">2</td><td style = \"text-align: left;\">X</td><td style = \"text-align: right;\">2.13465</td><td style = \"text-align: right;\">-5.32907e-15</td></tr><tr><td class = \"rowNumber\" style = \"font-weight: bold; text-align: right;\">3</td><td style = \"text-align: left;\">W</td><td style = \"text-align: right;\">2.11336</td><td style = \"text-align: right;\">0.0</td></tr><tr><td class = \"rowNumber\" style = \"font-weight: bold; text-align: right;\">4</td><td style = \"text-align: left;\">PU</td><td style = \"text-align: right;\">0.47318</td><td style = \"text-align: right;\">3.97904e-13</td></tr><tr><td class = \"rowNumber\" style = \"font-weight: bold; text-align: right;\">5</td><td style = \"text-align: left;\">PW</td><td style = \"text-align: right;\">0.477558</td><td style = \"text-align: right;\">-5.68434e-14</td></tr><tr><td class = \"rowNumber\" style = \"font-weight: bold; text-align: right;\">6</td><td style = \"text-align: left;\">PZ</td><td style = \"text-align: right;\">0.468002</td><td style = \"text-align: right;\">-1.13687e-13</td></tr><tr><td class = \"rowNumber\" style = \"font-weight: bold; text-align: right;\">7</td><td style = \"text-align: left;\">PY</td><td style = \"text-align: right;\">0.473712</td><td style = \"text-align: right;\">5.68434e-14</td></tr><tr><td class = \"rowNumber\" style = \"font-weight: bold; text-align: right;\">8</td><td style = \"text-align: left;\">PX</td><td style = \"text-align: right;\">0.590817</td><td style = \"text-align: right;\">-2.84217e-14</td></tr><tr><td class = \"rowNumber\" style = \"font-weight: bold; text-align: right;\">9</td><td style = \"text-align: left;\">CONS</td><td style = \"text-align: right;\">200.0</td><td style = \"text-align: right;\">2.27374e-13</td></tr><tr><td class = \"rowNumber\" style = \"font-weight: bold; text-align: right;\">10</td><td style = \"text-align: left;\">SHAREX</td><td style = \"text-align: right;\">0.504476</td><td style = \"text-align: right;\">-1.42109e-14</td></tr><tr><td class = \"rowNumber\" style = \"font-weight: bold; text-align: right;\">11</td><td style = \"text-align: left;\">MARKUP</td><td style = \"text-align: right;\">0.201443</td><td style = \"text-align: right;\">-8.32667e-17</td></tr></tbody></table></div>"
      ],
      "text/latex": [
       "\\begin{tabular}{r|ccc}\n",
       "\t& var & value & margin\\\\\n",
       "\t\\hline\n",
       "\t& GenericV… & Float64 & Float64\\\\\n",
       "\t\\hline\n",
       "\t1 & $ Y $ & 2.09209 & -1.42109e-14 \\\\\n",
       "\t2 & $ X $ & 2.13465 & -5.32907e-15 \\\\\n",
       "\t3 & $ W $ & 2.11336 & 0.0 \\\\\n",
       "\t4 & $ PU $ & 0.47318 & 3.97904e-13 \\\\\n",
       "\t5 & $ PW $ & 0.477558 & -5.68434e-14 \\\\\n",
       "\t6 & $ PZ $ & 0.468002 & -1.13687e-13 \\\\\n",
       "\t7 & $ PY $ & 0.473712 & 5.68434e-14 \\\\\n",
       "\t8 & $ PX $ & 0.590817 & -2.84217e-14 \\\\\n",
       "\t9 & $ CONS $ & 200.0 & 2.27374e-13 \\\\\n",
       "\t10 & $ SHAREX $ & 0.504476 & -1.42109e-14 \\\\\n",
       "\t11 & $ MARKUP $ & 0.201443 & -8.32667e-17 \\\\\n",
       "\\end{tabular}\n"
      ],
      "text/plain": [
       "\u001b[1m11×3 DataFrame\u001b[0m\n",
       "\u001b[1m Row \u001b[0m│\u001b[1m var       \u001b[0m\u001b[1m value      \u001b[0m\u001b[1m margin       \u001b[0m\n",
       "     │\u001b[90m GenericV… \u001b[0m\u001b[90m Float64    \u001b[0m\u001b[90m Float64      \u001b[0m\n",
       "─────┼─────────────────────────────────────\n",
       "   1 │ Y            2.09209   -1.42109e-14\n",
       "   2 │ X            2.13465   -5.32907e-15\n",
       "   3 │ W            2.11336    0.0\n",
       "   4 │ PU           0.47318    3.97904e-13\n",
       "   5 │ PW           0.477558  -5.68434e-14\n",
       "   6 │ PZ           0.468002  -1.13687e-13\n",
       "   7 │ PY           0.473712   5.68434e-14\n",
       "   8 │ PX           0.590817  -2.84217e-14\n",
       "   9 │ CONS       200.0        2.27374e-13\n",
       "  10 │ SHAREX       0.504476  -1.42109e-14\n",
       "  11 │ MARKUP       0.201443  -8.32667e-17"
      ]
     },
     "metadata": {},
     "output_type": "display_data"
    }
   ],
   "source": [
    "set_value!(ENDOW,2)\n",
    "\n",
    "unfix(MARKUP)\n",
    "\n",
    "solve!(M52)\n",
    "generate_report(M52)"
   ]
  },
  {
   "cell_type": "code",
   "execution_count": 55,
   "metadata": {},
   "outputs": [
    {
     "name": "stdout",
     "output_type": "stream",
     "text": [
      "incomeM: 0.11505239718236737\n",
      "incomeC: 1.9983080227908019\n"
     ]
    }
   ],
   "source": [
    "incomeM = value(W*(MARKUP*PX*X*80 - PW*8*FCOST - PZ*12*FCOST)/(PX*X*80 + PY*Y*100))\n",
    "incomeC = value(W) - incomeM\n",
    "\n",
    "println(\"incomeM: $incomeM\\nincomeC: $incomeC\")"
   ]
  },
  {
   "cell_type": "markdown",
   "metadata": {},
   "source": [
    "# Counterfactual"
   ]
  },
  {
   "cell_type": "code",
   "execution_count": 56,
   "metadata": {},
   "outputs": [
    {
     "name": "stdout",
     "output_type": "stream",
     "text": [
      "Reading options file C:\\Users\\MPHILL~1\\AppData\\Local\\Temp\\jl_7858.tmp\n",
      " > cumulative_iteration_limit 10000\n",
      "Read of options file complete.\n",
      "\n",
      "Path 5.0.03 (Fri Jun 26 10:05:33 2020)\n",
      "Written by Todd Munson, Steven Dirkse, Youngdae Kim, and Michael Ferris\n",
      "\n",
      "Preprocessed size   : 10\n",
      "\n",
      "Crash Log\n",
      "major  func  diff  size  residual    step       prox   (label)\n",
      "    0     0             1.3859e+00             0.0e+00 (market_clearance[PW)\n",
      "    1     1     0    10 1.2920e+00  1.0e+00    0.0e+00 (market_clearance[PU)\n",
      "pn_search terminated: no basis change.\n",
      "\n",
      "Major Iteration Log\n",
      "major minor  func  grad  residual    step  type prox    inorm  (label)\n",
      "    0     0     2     2 1.2920e+00           I 0.0e+00 1.2e+00 (market_clearanc)\n",
      "    1     1     3     3 6.2013e-01  1.0e+00 SO 0.0e+00 6.2e-01 (market_clearanc)\n",
      "    2     1     4     4 5.2325e-03  1.0e+00 SO 0.0e+00 5.2e-03 (market_clearanc)\n",
      "    3     1     5     5 1.9047e-07  1.0e+00 SO 0.0e+00 1.9e-07 (market_clearanc)\n",
      "\n",
      "Major Iterations. . . . 3\n",
      "Minor Iterations. . . . 3\n",
      "Restarts. . . . . . . . 0\n",
      "Crash Iterations. . . . 1\n",
      "Gradient Steps. . . . . 0\n",
      "Function Evaluations. . 5\n",
      "Gradient Evaluations. . 5\n",
      "Basis Time. . . . . . . 0.000000\n",
      "Total Time. . . . . . . 0.000000\n",
      "Residual. . . . . . . . 1.904688e-07\n",
      "Postsolved residual: 1.9047e-07\n",
      "\n",
      "\n",
      "Solver Status: LOCALLY_SOLVED\n",
      "Model Status: FEASIBLE_POINT"
     ]
    },
    {
     "data": {
      "text/html": [
       "<div><div style = \"float: left;\"><span>11×3 DataFrame</span></div><div style = \"clear: both;\"></div></div><div class = \"data-frame\" style = \"overflow-x: scroll;\"><table class = \"data-frame\" style = \"margin-bottom: 6px;\"><thead><tr class = \"header\"><th class = \"rowNumber\" style = \"font-weight: bold; text-align: right;\">Row</th><th style = \"text-align: left;\">var</th><th style = \"text-align: left;\">value</th><th style = \"text-align: left;\">margin</th></tr><tr class = \"subheader headerLastRow\"><th class = \"rowNumber\" style = \"font-weight: bold; text-align: right;\"></th><th title = \"JuMP.VariableRef\" style = \"text-align: left;\">GenericV…</th><th title = \"Float64\" style = \"text-align: left;\">Float64</th><th title = \"Float64\" style = \"text-align: left;\">Float64</th></tr></thead><tbody><tr><td class = \"rowNumber\" style = \"font-weight: bold; text-align: right;\">1</td><td style = \"text-align: left;\">Y</td><td style = \"text-align: right;\">0.726951</td><td style = \"text-align: right;\">-1.08514e-10</td></tr><tr><td class = \"rowNumber\" style = \"font-weight: bold; text-align: right;\">2</td><td style = \"text-align: left;\">X</td><td style = \"text-align: right;\">0.716268</td><td style = \"text-align: right;\">-7.70992e-10</td></tr><tr><td class = \"rowNumber\" style = \"font-weight: bold; text-align: right;\">3</td><td style = \"text-align: left;\">W</td><td style = \"text-align: right;\">0.721608</td><td style = \"text-align: right;\">-5.97993e-11</td></tr><tr><td class = \"rowNumber\" style = \"font-weight: bold; text-align: right;\">4</td><td style = \"text-align: left;\">PU</td><td style = \"text-align: right;\">1.38579</td><td style = \"text-align: right;\">1.90282e-7</td></tr><tr><td class = \"rowNumber\" style = \"font-weight: bold; text-align: right;\">5</td><td style = \"text-align: left;\">PW</td><td style = \"text-align: right;\">1.37651</td><td style = \"text-align: right;\">-2.87251e-9</td></tr><tr><td class = \"rowNumber\" style = \"font-weight: bold; text-align: right;\">6</td><td style = \"text-align: left;\">PZ</td><td style = \"text-align: right;\">1.39698</td><td style = \"text-align: right;\">2.93151e-9</td></tr><tr><td class = \"rowNumber\" style = \"font-weight: bold; text-align: right;\">7</td><td style = \"text-align: left;\">PY</td><td style = \"text-align: right;\">1.38466</td><td style = \"text-align: right;\">-5.15465e-9</td></tr><tr><td class = \"rowNumber\" style = \"font-weight: bold; text-align: right;\">8</td><td style = \"text-align: left;\">PX</td><td style = \"text-align: right;\">1.73367</td><td style = \"text-align: right;\">4.14182e-9</td></tr><tr><td class = \"rowNumber\" style = \"font-weight: bold; text-align: right;\">9</td><td style = \"text-align: left;\">CONS</td><td style = \"text-align: right;\">200.0</td><td style = \"text-align: right;\">2.6455e-7</td></tr><tr><td class = \"rowNumber\" style = \"font-weight: bold; text-align: right;\">10</td><td style = \"text-align: left;\">SHAREX</td><td style = \"text-align: right;\">0.49671</td><td style = \"text-align: right;\">-3.15819e-9</td></tr><tr><td class = \"rowNumber\" style = \"font-weight: bold; text-align: right;\">11</td><td style = \"text-align: left;\">MARKUP</td><td style = \"text-align: right;\">0.198953</td><td style = \"text-align: right;\">-9.23706e-14</td></tr></tbody></table></div>"
      ],
      "text/latex": [
       "\\begin{tabular}{r|ccc}\n",
       "\t& var & value & margin\\\\\n",
       "\t\\hline\n",
       "\t& GenericV… & Float64 & Float64\\\\\n",
       "\t\\hline\n",
       "\t1 & $ Y $ & 0.726951 & -1.08514e-10 \\\\\n",
       "\t2 & $ X $ & 0.716268 & -7.70992e-10 \\\\\n",
       "\t3 & $ W $ & 0.721608 & -5.97993e-11 \\\\\n",
       "\t4 & $ PU $ & 1.38579 & 1.90282e-7 \\\\\n",
       "\t5 & $ PW $ & 1.37651 & -2.87251e-9 \\\\\n",
       "\t6 & $ PZ $ & 1.39698 & 2.93151e-9 \\\\\n",
       "\t7 & $ PY $ & 1.38466 & -5.15465e-9 \\\\\n",
       "\t8 & $ PX $ & 1.73367 & 4.14182e-9 \\\\\n",
       "\t9 & $ CONS $ & 200.0 & 2.6455e-7 \\\\\n",
       "\t10 & $ SHAREX $ & 0.49671 & -3.15819e-9 \\\\\n",
       "\t11 & $ MARKUP $ & 0.198953 & -9.23706e-14 \\\\\n",
       "\\end{tabular}\n"
      ],
      "text/plain": [
       "\u001b[1m11×3 DataFrame\u001b[0m\n",
       "\u001b[1m Row \u001b[0m│\u001b[1m var       \u001b[0m\u001b[1m value      \u001b[0m\u001b[1m margin       \u001b[0m\n",
       "     │\u001b[90m GenericV… \u001b[0m\u001b[90m Float64    \u001b[0m\u001b[90m Float64      \u001b[0m\n",
       "─────┼─────────────────────────────────────\n",
       "   1 │ Y            0.726951  -1.08514e-10\n",
       "   2 │ X            0.716268  -7.70992e-10\n",
       "   3 │ W            0.721608  -5.97993e-11\n",
       "   4 │ PU           1.38579    1.90282e-7\n",
       "   5 │ PW           1.37651   -2.87251e-9\n",
       "   6 │ PZ           1.39698    2.93151e-9\n",
       "   7 │ PY           1.38466   -5.15465e-9\n",
       "   8 │ PX           1.73367    4.14182e-9\n",
       "   9 │ CONS       200.0        2.6455e-7\n",
       "  10 │ SHAREX       0.49671   -3.15819e-9\n",
       "  11 │ MARKUP       0.198953  -9.23706e-14"
      ]
     },
     "metadata": {},
     "output_type": "display_data"
    }
   ],
   "source": [
    "set_value!(ENDOW,.75)\n",
    "\n",
    "solve!(M52)\n",
    "generate_report(M52)"
   ]
  },
  {
   "cell_type": "code",
   "execution_count": 57,
   "metadata": {},
   "outputs": [
    {
     "name": "stdout",
     "output_type": "stream",
     "text": [
      "incomeM: -0.028905562415386773\n",
      "incomeC: 0.7505132094856337\n"
     ]
    }
   ],
   "source": [
    "incomeM = value(W*(MARKUP*PX*X*80 - PW*8*FCOST - PZ*12*FCOST)/(PX*X*80 + PY*Y*100))\n",
    "incomeC = value(W) - incomeM\n",
    "\n",
    "println(\"incomeM: $incomeM\\nincomeC: $incomeC\")"
   ]
  },
  {
   "cell_type": "code",
   "execution_count": 58,
   "metadata": {},
   "outputs": [],
   "source": []
  }
 ],
 "metadata": {
  "kernelspec": {
   "display_name": "Julia 1.9.2",
   "language": "julia",
   "name": "julia-1.9"
  },
  "language_info": {
   "file_extension": ".jl",
   "mimetype": "application/julia",
   "name": "julia",
   "version": "1.9.2"
  }
 },
 "nbformat": 4,
 "nbformat_minor": 2
}
