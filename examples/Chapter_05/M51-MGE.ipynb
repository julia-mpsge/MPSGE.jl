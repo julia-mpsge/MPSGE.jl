{
 "cells": [
  {
   "cell_type": "markdown",
   "metadata": {},
   "source": [
    "# M51 - MGE\n",
    "\n",
    "Closed $2\\times 2$ economy, monopoly X producer MPSGE version\n",
    "\n",
    "|Markets  |   X  |    Y  |      W    |  CONS |  ENTRE  |\n",
    "|---------|------|-------|-----------|-------|---------|\n",
    "|    PX   |  100 |       |   -100    |       |         | \n",
    "|    PY   |      |  100  |   -100    |       |         | \n",
    "|    PU   |      |       |    200    |  -180 |    -20  |   \n",
    "|    PW   |  -32 |  -60  |           |    92 |         |  \n",
    "|    PZ   |  -48 |  -40  |           |    88 |         |   \n",
    "|    MK   |  -20 |       |           |       |     20  |   "
   ]
  },
  {
   "cell_type": "code",
   "execution_count": 1,
   "metadata": {},
   "outputs": [],
   "source": [
    "using MPSGE"
   ]
  },
  {
   "cell_type": "code",
   "execution_count": 15,
   "metadata": {},
   "outputs": [],
   "source": [
    "M51 = MPSGEModel()\n",
    "\n",
    "σ = 9\n",
    "\n",
    "\n",
    "@sectors(M51, begin\n",
    "\tX,\t(description = \"Activity level for sector X\",)\n",
    "\tY,\t(description = \"Activity level for sector Y\",)\n",
    "\tW,\t(description = \"Activity level for sector W (Hicksian welfare index)\",)\n",
    "end)\n",
    "@commodities(M51, begin\n",
    "\tPX,\t(description = \"Price index for commodity X\",)\n",
    "\tPY,\t(description = \"Price index for commodity Y\",)\n",
    "\tPW,\t(description = \"Price index for primary factor L (net of tax)\",)\n",
    "\tPZ,\t(description = \"Price index for primary factor K\",)\n",
    "\tPU,\t(description = \"Price index for welfare (expenditure function)\",)\n",
    "end)\n",
    "@consumers(M51, begin\n",
    "\tCONS,\t(description = \"Representative agent\",)\n",
    "\tENTRE,\t(description = \"Entreprenuer (monopolist)\",)\n",
    "end)\n",
    "@auxiliaries(M51, begin\n",
    "\tSHAREX,\t(description = \"Value share of good X\",)\n",
    "\tMARKUP,\t(description = \"X sector markup on marginal cost\",)\n",
    "end)\n",
    "\n",
    "@production(M51, X, [s=1,t=0], begin\n",
    "    @output(PX, 80, t, taxes = [Tax(ENTRE, MARKUP)])\n",
    "    @input(PW, 32, s)\n",
    "    @input(PZ, 48, s)\n",
    "end)\n",
    "\n",
    "@production(M51, Y, [s=1,t=0], begin\n",
    "    @output(PY, 100, t)\n",
    "    @input(PW, 60, s)\n",
    "    @input(PZ, 40, s)\n",
    "end)\n",
    "\n",
    "@production(M51, W, [s=σ,t=0], begin\n",
    "    @output(PU, 200, t)\n",
    "    @input(PX, 80, s, reference_price=1.25)\n",
    "    @input(PY, 100, s)\n",
    "end)\n",
    "\n",
    "@demand(M51, CONS, begin\n",
    "    @final_demand(PU, 180)\n",
    "end,begin\n",
    "    @endowment(PW, 92)\n",
    "    @endowment(PZ, 88)\n",
    "end)\n",
    "\n",
    "@demand(M51, ENTRE, begin\n",
    "    @final_demand(PU, 20)\n",
    "end,begin\n",
    "end)\n",
    "\n",
    "@aux_constraint(M51, SHAREX, \n",
    "    SHAREX - (80*PX*X/ (80*PX*X + 100*PY*Y))\n",
    ")\n",
    "\n",
    "@aux_constraint(M51, MARKUP,\n",
    "    MARKUP - 1/(σ - (σ - 1)*SHAREX)\n",
    ");"
   ]
  },
  {
   "cell_type": "markdown",
   "metadata": {},
   "source": [
    "# Benchmark"
   ]
  },
  {
   "cell_type": "code",
   "execution_count": 16,
   "metadata": {},
   "outputs": [
    {
     "name": "stdout",
     "output_type": "stream",
     "text": [
      "Reading options file C:\\Users\\MPHILL~1\\AppData\\Local\\Temp\\jl_FCA2.tmp\n",
      " > cumulative_iteration_limit 0\n",
      "Read of options file complete.\n",
      "\n",
      "Path 5.0.03 (Fri Jun 26 10:05:33 2020)\n",
      "Written by Todd Munson, Steven Dirkse, Youngdae Kim, and Michael Ferris\n",
      "Preprocessed size   : 11\n",
      "\n",
      "Major Iteration Log\n",
      "major minor  func  grad  residual    step  type prox    inorm  (label)\n",
      "    0     0     1     1 0.0000e+00           I 0.0e+00 0.0e+00 (zero_profit[X)\n",
      "\n",
      "Major Iterations. . . . 0\n",
      "Minor Iterations. . . . 0\n",
      "Restarts. . . . . . . . 0\n",
      "Crash Iterations. . . . 0\n",
      "Gradient Steps. . . . . 0\n",
      "Function Evaluations. . 1\n",
      "Gradient Evaluations. . 1\n",
      "Basis Time. . . . . . . 0.000000\n",
      "Total Time. . . . . . . 0.000000\n",
      "Residual. . . . . . . . 0.000000e+00\n",
      "Postsolved residual: 0.0000e+00\n",
      "\n",
      "\n",
      "Solver Status: LOCALLY_SOLVED\n",
      "Model Status: FEASIBLE_POINT"
     ]
    },
    {
     "data": {
      "text/html": [
       "<div><div style = \"float: left;\"><span>12×3 DataFrame</span></div><div style = \"clear: both;\"></div></div><div class = \"data-frame\" style = \"overflow-x: scroll;\"><table class = \"data-frame\" style = \"margin-bottom: 6px;\"><thead><tr class = \"header\"><th class = \"rowNumber\" style = \"font-weight: bold; text-align: right;\">Row</th><th style = \"text-align: left;\">var</th><th style = \"text-align: left;\">value</th><th style = \"text-align: left;\">margin</th></tr><tr class = \"subheader headerLastRow\"><th class = \"rowNumber\" style = \"font-weight: bold; text-align: right;\"></th><th title = \"JuMP.VariableRef\" style = \"text-align: left;\">GenericV…</th><th title = \"Float64\" style = \"text-align: left;\">Float64</th><th title = \"Float64\" style = \"text-align: left;\">Float64</th></tr></thead><tbody><tr><td class = \"rowNumber\" style = \"font-weight: bold; text-align: right;\">1</td><td style = \"text-align: left;\">X</td><td style = \"text-align: right;\">1.0</td><td style = \"text-align: right;\">0.0</td></tr><tr><td class = \"rowNumber\" style = \"font-weight: bold; text-align: right;\">2</td><td style = \"text-align: left;\">W</td><td style = \"text-align: right;\">1.0</td><td style = \"text-align: right;\">0.0</td></tr><tr><td class = \"rowNumber\" style = \"font-weight: bold; text-align: right;\">3</td><td style = \"text-align: left;\">Y</td><td style = \"text-align: right;\">1.0</td><td style = \"text-align: right;\">0.0</td></tr><tr><td class = \"rowNumber\" style = \"font-weight: bold; text-align: right;\">4</td><td style = \"text-align: left;\">PU</td><td style = \"text-align: right;\">1.0</td><td style = \"text-align: right;\">0.0</td></tr><tr><td class = \"rowNumber\" style = \"font-weight: bold; text-align: right;\">5</td><td style = \"text-align: left;\">PW</td><td style = \"text-align: right;\">1.0</td><td style = \"text-align: right;\">0.0</td></tr><tr><td class = \"rowNumber\" style = \"font-weight: bold; text-align: right;\">6</td><td style = \"text-align: left;\">PZ</td><td style = \"text-align: right;\">1.0</td><td style = \"text-align: right;\">0.0</td></tr><tr><td class = \"rowNumber\" style = \"font-weight: bold; text-align: right;\">7</td><td style = \"text-align: left;\">PY</td><td style = \"text-align: right;\">1.0</td><td style = \"text-align: right;\">0.0</td></tr><tr><td class = \"rowNumber\" style = \"font-weight: bold; text-align: right;\">8</td><td style = \"text-align: left;\">PX</td><td style = \"text-align: right;\">1.25</td><td style = \"text-align: right;\">0.0</td></tr><tr><td class = \"rowNumber\" style = \"font-weight: bold; text-align: right;\">9</td><td style = \"text-align: left;\">ENTRE</td><td style = \"text-align: right;\">20.0</td><td style = \"text-align: right;\">0.0</td></tr><tr><td class = \"rowNumber\" style = \"font-weight: bold; text-align: right;\">10</td><td style = \"text-align: left;\">MARKUP</td><td style = \"text-align: right;\">0.2</td><td style = \"text-align: right;\">0.0</td></tr><tr><td class = \"rowNumber\" style = \"font-weight: bold; text-align: right;\">11</td><td style = \"text-align: left;\">SHAREX</td><td style = \"text-align: right;\">0.5</td><td style = \"text-align: right;\">0.0</td></tr><tr><td class = \"rowNumber\" style = \"font-weight: bold; text-align: right;\">12</td><td style = \"text-align: left;\">CONS</td><td style = \"text-align: right;\">180.0</td><td style = \"text-align: right;\">0.0</td></tr></tbody></table></div>"
      ],
      "text/latex": [
       "\\begin{tabular}{r|ccc}\n",
       "\t& var & value & margin\\\\\n",
       "\t\\hline\n",
       "\t& GenericV… & Float64 & Float64\\\\\n",
       "\t\\hline\n",
       "\t1 & $ X $ & 1.0 & 0.0 \\\\\n",
       "\t2 & $ W $ & 1.0 & 0.0 \\\\\n",
       "\t3 & $ Y $ & 1.0 & 0.0 \\\\\n",
       "\t4 & $ PU $ & 1.0 & 0.0 \\\\\n",
       "\t5 & $ PW $ & 1.0 & 0.0 \\\\\n",
       "\t6 & $ PZ $ & 1.0 & 0.0 \\\\\n",
       "\t7 & $ PY $ & 1.0 & 0.0 \\\\\n",
       "\t8 & $ PX $ & 1.25 & 0.0 \\\\\n",
       "\t9 & $ ENTRE $ & 20.0 & 0.0 \\\\\n",
       "\t10 & $ MARKUP $ & 0.2 & 0.0 \\\\\n",
       "\t11 & $ SHAREX $ & 0.5 & 0.0 \\\\\n",
       "\t12 & $ CONS $ & 180.0 & 0.0 \\\\\n",
       "\\end{tabular}\n"
      ],
      "text/plain": [
       "\u001b[1m12×3 DataFrame\u001b[0m\n",
       "\u001b[1m Row \u001b[0m│\u001b[1m var       \u001b[0m\u001b[1m value   \u001b[0m\u001b[1m margin  \u001b[0m\n",
       "     │\u001b[90m GenericV… \u001b[0m\u001b[90m Float64 \u001b[0m\u001b[90m Float64 \u001b[0m\n",
       "─────┼─────────────────────────────\n",
       "   1 │ X             1.0       0.0\n",
       "   2 │ W             1.0       0.0\n",
       "   3 │ Y             1.0       0.0\n",
       "   4 │ PU            1.0       0.0\n",
       "   5 │ PW            1.0       0.0\n",
       "   6 │ PZ            1.0       0.0\n",
       "   7 │ PY            1.0       0.0\n",
       "   8 │ PX            1.25      0.0\n",
       "   9 │ ENTRE        20.0       0.0\n",
       "  10 │ MARKUP        0.2       0.0\n",
       "  11 │ SHAREX        0.5       0.0\n",
       "  12 │ CONS        180.0       0.0"
      ]
     },
     "metadata": {},
     "output_type": "display_data"
    }
   ],
   "source": [
    "fix(PU, 1)\n",
    "\n",
    "set_start_value(PX, 1.25)\n",
    "set_start_value(SHAREX, .5)\n",
    "set_start_value(MARKUP, .2)\n",
    "\n",
    "solve!(M51, cumulative_iteration_limit=0)\n",
    "generate_report(M51)\n"
   ]
  },
  {
   "cell_type": "code",
   "execution_count": 21,
   "metadata": {},
   "outputs": [
    {
     "name": "stdout",
     "output_type": "stream",
     "text": [
      "incomeM: 0.1\n",
      "incomeC: 0.9\n"
     ]
    }
   ],
   "source": [
    "incomeM = value(W*ENTRE/(ENTRE+CONS))\n",
    "incomeC = value(W*CONS/(ENTRE+CONS))\n",
    "\n",
    "println(\"incomeM: $incomeM\\nincomeC: $incomeC\")"
   ]
  },
  {
   "cell_type": "markdown",
   "metadata": {},
   "source": [
    "# Counterfactual"
   ]
  },
  {
   "cell_type": "code",
   "execution_count": 22,
   "metadata": {},
   "outputs": [
    {
     "name": "stdout",
     "output_type": "stream",
     "text": [
      "Reading options file C:\\Users\\MPHILL~1\\AppData\\Local\\Temp\\jl_F084.tmp\n",
      " > cumulative_iteration_limit 10000\n",
      "Read of options file complete.\n",
      "\n",
      "Path 5.0.03 (Fri Jun 26 10:05:33 2020)\n",
      "Written by Todd Munson, Steven Dirkse, Youngdae Kim, and Michael Ferris\n",
      "\n",
      "Preprocessed size   : 10\n",
      "\n",
      "Crash Log\n",
      "major  func  diff  size  residual    step       prox   (label)\n",
      "    0     0             4.0746e+01             0.0e+00 (zero_profit[X)\n",
      "    1     1     1    10 1.1170e+01  1.0e+00    0.0e+00 (zero_profit[W)\n",
      "pn_search terminated: no basis change.\n",
      "\n",
      "Major Iteration Log\n",
      "major minor  func  grad  residual    step  type prox    inorm  (label)\n",
      "    0     0     2     2 1.1170e+01           I 0.0e+00 1.1e+01 (zero_profit[W)\n",
      "    1     1     3     3 7.9897e-03  1.0e+00 SO 0.0e+00 5.8e-03 (market_clearanc)\n",
      "    2     1     4     4 3.2216e-09  1.0e+00 SO 0.0e+00 2.2e-09 (market_clearanc)\n",
      "\n",
      "Major Iterations. . . . 2\n",
      "Minor Iterations. . . . 2\n",
      "Restarts. . . . . . . . 0\n",
      "Crash Iterations. . . . 1\n",
      "Gradient Steps. . . . . 0\n",
      "Function Evaluations. . 4\n",
      "Gradient Evaluations. . 4\n",
      "Basis Time. . . . . . . 0.000000\n",
      "Total Time. . . . . . . 0.000000\n",
      "Residual. . . . . . . . 3.221555e-09\n",
      "Postsolved residual: 3.2216e-09\n",
      "\n",
      "\n",
      "Solver Status: LOCALLY_SOLVED\n",
      "Model Status: FEASIBLE_POINT"
     ]
    },
    {
     "data": {
      "text/html": [
       "<div><div style = \"float: left;\"><span>12×3 DataFrame</span></div><div style = \"clear: both;\"></div></div><div class = \"data-frame\" style = \"overflow-x: scroll;\"><table class = \"data-frame\" style = \"margin-bottom: 6px;\"><thead><tr class = \"header\"><th class = \"rowNumber\" style = \"font-weight: bold; text-align: right;\">Row</th><th style = \"text-align: left;\">var</th><th style = \"text-align: left;\">value</th><th style = \"text-align: left;\">margin</th></tr><tr class = \"subheader headerLastRow\"><th class = \"rowNumber\" style = \"font-weight: bold; text-align: right;\"></th><th title = \"JuMP.VariableRef\" style = \"text-align: left;\">GenericV…</th><th title = \"Float64\" style = \"text-align: left;\">Float64</th><th title = \"Float64\" style = \"text-align: left;\">Float64</th></tr></thead><tbody><tr><td class = \"rowNumber\" style = \"font-weight: bold; text-align: right;\">1</td><td style = \"text-align: left;\">X</td><td style = \"text-align: right;\">1.7449</td><td style = \"text-align: right;\">-7.52074e-10</td></tr><tr><td class = \"rowNumber\" style = \"font-weight: bold; text-align: right;\">2</td><td style = \"text-align: left;\">W</td><td style = \"text-align: right;\">1.03973</td><td style = \"text-align: right;\">-3.93442e-10</td></tr><tr><td class = \"rowNumber\" style = \"font-weight: bold; text-align: right;\">3</td><td style = \"text-align: left;\">Y</td><td style = \"text-align: right;\">0.387179</td><td style = \"text-align: right;\">-8.89059e-10</td></tr><tr><td class = \"rowNumber\" style = \"font-weight: bold; text-align: right;\">4</td><td style = \"text-align: left;\">PU</td><td style = \"text-align: right;\">1.0</td><td style = \"text-align: right;\">-4.13112e-9</td></tr><tr><td class = \"rowNumber\" style = \"font-weight: bold; text-align: right;\">5</td><td style = \"text-align: left;\">PW</td><td style = \"text-align: right;\">0.998044</td><td style = \"text-align: right;\">1.08673e-9</td></tr><tr><td class = \"rowNumber\" style = \"font-weight: bold; text-align: right;\">6</td><td style = \"text-align: left;\">PZ</td><td style = \"text-align: right;\">1.31961</td><td style = \"text-align: right;\">4.33445e-10</td></tr><tr><td class = \"rowNumber\" style = \"font-weight: bold; text-align: right;\">7</td><td style = \"text-align: left;\">PY</td><td style = \"text-align: right;\">1.11601</td><td style = \"text-align: right;\">2.15392e-9</td></tr><tr><td class = \"rowNumber\" style = \"font-weight: bold; text-align: right;\">8</td><td style = \"text-align: left;\">PX</td><td style = \"text-align: right;\">1.18012</td><td style = \"text-align: right;\">-1.69038e-9</td></tr><tr><td class = \"rowNumber\" style = \"font-weight: bold; text-align: right;\">9</td><td style = \"text-align: left;\">ENTRE</td><td style = \"text-align: right;\">0.0</td><td style = \"text-align: right;\">0.0</td></tr><tr><td class = \"rowNumber\" style = \"font-weight: bold; text-align: right;\">10</td><td style = \"text-align: left;\">MARKUP</td><td style = \"text-align: right;\">0.0</td><td style = \"text-align: right;\">-0.375609</td></tr><tr><td class = \"rowNumber\" style = \"font-weight: bold; text-align: right;\">11</td><td style = \"text-align: left;\">SHAREX</td><td style = \"text-align: right;\">0.792207</td><td style = \"text-align: right;\">2.67654e-11</td></tr><tr><td class = \"rowNumber\" style = \"font-weight: bold; text-align: right;\">12</td><td style = \"text-align: left;\">CONS</td><td style = \"text-align: right;\">207.945</td><td style = \"text-align: right;\">0.0</td></tr></tbody></table></div>"
      ],
      "text/latex": [
       "\\begin{tabular}{r|ccc}\n",
       "\t& var & value & margin\\\\\n",
       "\t\\hline\n",
       "\t& GenericV… & Float64 & Float64\\\\\n",
       "\t\\hline\n",
       "\t1 & $ X $ & 1.7449 & -7.52074e-10 \\\\\n",
       "\t2 & $ W $ & 1.03973 & -3.93442e-10 \\\\\n",
       "\t3 & $ Y $ & 0.387179 & -8.89059e-10 \\\\\n",
       "\t4 & $ PU $ & 1.0 & -4.13112e-9 \\\\\n",
       "\t5 & $ PW $ & 0.998044 & 1.08673e-9 \\\\\n",
       "\t6 & $ PZ $ & 1.31961 & 4.33445e-10 \\\\\n",
       "\t7 & $ PY $ & 1.11601 & 2.15392e-9 \\\\\n",
       "\t8 & $ PX $ & 1.18012 & -1.69038e-9 \\\\\n",
       "\t9 & $ ENTRE $ & 0.0 & 0.0 \\\\\n",
       "\t10 & $ MARKUP $ & 0.0 & -0.375609 \\\\\n",
       "\t11 & $ SHAREX $ & 0.792207 & 2.67654e-11 \\\\\n",
       "\t12 & $ CONS $ & 207.945 & 0.0 \\\\\n",
       "\\end{tabular}\n"
      ],
      "text/plain": [
       "\u001b[1m12×3 DataFrame\u001b[0m\n",
       "\u001b[1m Row \u001b[0m│\u001b[1m var       \u001b[0m\u001b[1m value      \u001b[0m\u001b[1m margin       \u001b[0m\n",
       "     │\u001b[90m GenericV… \u001b[0m\u001b[90m Float64    \u001b[0m\u001b[90m Float64      \u001b[0m\n",
       "─────┼─────────────────────────────────────\n",
       "   1 │ X            1.7449    -7.52074e-10\n",
       "   2 │ W            1.03973   -3.93442e-10\n",
       "   3 │ Y            0.387179  -8.89059e-10\n",
       "   4 │ PU           1.0       -4.13112e-9\n",
       "   5 │ PW           0.998044   1.08673e-9\n",
       "   6 │ PZ           1.31961    4.33445e-10\n",
       "   7 │ PY           1.11601    2.15392e-9\n",
       "   8 │ PX           1.18012   -1.69038e-9\n",
       "   9 │ ENTRE        0.0        0.0\n",
       "  10 │ MARKUP       0.0       -0.375609\n",
       "  11 │ SHAREX       0.792207   2.67654e-11\n",
       "  12 │ CONS       207.945      0.0"
      ]
     },
     "metadata": {},
     "output_type": "display_data"
    }
   ],
   "source": [
    "fix(MARKUP,0)\n",
    "\n",
    "solve!(M51)\n",
    "generate_report(M51)"
   ]
  },
  {
   "cell_type": "code",
   "execution_count": 23,
   "metadata": {},
   "outputs": [
    {
     "name": "stdout",
     "output_type": "stream",
     "text": [
      "incomeM: 0.0\n",
      "incomeC: 1.0397267822532776\n"
     ]
    }
   ],
   "source": [
    "incomeM = value(W*ENTRE/(ENTRE+CONS))\n",
    "incomeC = value(W*CONS/(ENTRE+CONS))\n",
    "\n",
    "println(\"incomeM: $incomeM\\nincomeC: $incomeC\")"
   ]
  },
  {
   "cell_type": "code",
   "execution_count": 9,
   "metadata": {},
   "outputs": [],
   "source": []
  },
  {
   "cell_type": "code",
   "execution_count": 10,
   "metadata": {},
   "outputs": [],
   "source": []
  },
  {
   "cell_type": "code",
   "execution_count": null,
   "metadata": {},
   "outputs": [],
   "source": []
  }
 ],
 "metadata": {
  "kernelspec": {
   "display_name": "Julia 1.9.2",
   "language": "julia",
   "name": "julia-1.9"
  },
  "language_info": {
   "file_extension": ".jl",
   "mimetype": "application/julia",
   "name": "julia",
   "version": "1.9.2"
  }
 },
 "nbformat": 4,
 "nbformat_minor": 2
}
