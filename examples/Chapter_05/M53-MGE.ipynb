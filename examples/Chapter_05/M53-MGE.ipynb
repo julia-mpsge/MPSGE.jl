{
 "cells": [
  {
   "cell_type": "markdown",
   "metadata": {},
   "source": [
    "# M53 - MGE\n",
    "\n",
    "Oligopoly with free entry.\n",
    "\n",
    "|Markets  |   X   |     N  |      Y  |      W    |  CONS |  ENTRE |\n",
    "|---------|-------|--------|---------|-----------|-------|------- |\n",
    "|    PX   | 100   |        |         |   -100    |       |        |  \n",
    "|    PY   |       |        |    100  |   -100    |       |        |  \n",
    "|    PF   |       |    20  |         |           |       |    -20 | \n",
    "|    PU   |       |        |         |    200    |  -200 |        |\n",
    "|    PW   | -32   |    -8  |    -60  |           |   100 |        | \n",
    "|    PZ   | -48   |   -12  |    -40  |           |   100 |        | \n",
    "|    MK   | -20   |        |         |           |       |     20 |  "
   ]
  },
  {
   "cell_type": "code",
   "execution_count": 1,
   "metadata": {},
   "outputs": [],
   "source": [
    "using MPSGE"
   ]
  },
  {
   "cell_type": "code",
   "execution_count": 5,
   "metadata": {},
   "outputs": [],
   "source": [
    "M53 = MPSGEModel()\n",
    "\n",
    "@parameters(M53, begin\n",
    "    σ, 1\n",
    "    ENDOW, 1\n",
    "end)\n",
    "\n",
    "@sectors(M53, begin\n",
    "\tX,\t(description = \"Activity level - sector X output\",)\n",
    "\tY,\t(description = \"Activity level - competitive sector Y\",)\n",
    "\tW,\t(description = \"Welfare index for the representative consumer\",)\n",
    "\tN,\t(description = \"Activity level - sector X fixed costs = no. of firms\",)\n",
    "end)\n",
    "@commodities(M53, begin\n",
    "\tPU,\t(description = \"Price index for representative agent utility\",)\n",
    "\tPX,\t(description = \"Price of good X (gross of markup)\",)\n",
    "\tPY,\t(description = \"Price of good Y\",)\n",
    "\tPF,\t(description = \"Unit price of inputs to fixed cost\",)\n",
    "\tPW,\t(description = \"Price index for labor\",)\n",
    "\tPZ,\t(description = \"Price index for capital\",)\n",
    "end)\n",
    "@consumers(M53, begin\n",
    "\tCONS,\t(description = \"Representative agent\",)\n",
    "\tENTRE,\t(description = \"Entrepreneur (converts markup revenue to fixed cost)\",)\n",
    "end)\n",
    "\n",
    "@auxiliaries(M53, begin\n",
    "\tMARKUP,\t(description = \"Optimal markup based on Marshallian demand elasticity\",)\n",
    "end)\n",
    "\n",
    "\n",
    "@production(M53, X, [s=1,t=0], begin\n",
    "    @output(PX, 80, t, taxes = [Tax(ENTRE, MARKUP)])\n",
    "    @input(PW, 32, s)\n",
    "    @input(PZ, 48, s)\n",
    "end)\n",
    "\n",
    "@production(M53, Y, [s=1,t=0], begin\n",
    "    @output(PY, 100, t)\n",
    "    @input(PW, 60, s)\n",
    "    @input(PZ, 40, s)\n",
    "end)\n",
    "\n",
    "@production(M53, N, [s=1,t=0], begin\n",
    "    @output(PF, 20/5, t)\n",
    "    @input(PW, 8/5, s)\n",
    "    @input(PZ, 12/5, s)\n",
    "end)\n",
    "\n",
    "@production(M53, W, [s=1,t=0], begin\n",
    "    @output(PU, 200, t)\n",
    "    @input(PX, 80, s, reference_price = 1.25)\n",
    "    @input(PY, 100, s)\n",
    "end)\n",
    "\n",
    "@demand(M53, CONS, begin\n",
    "    @final_demand(PU, 200)\n",
    "end,begin\n",
    "    @endowment(PW, 100*ENDOW)\n",
    "    @endowment(PZ, 100*ENDOW)\n",
    "end)\n",
    "\n",
    "\n",
    "@demand(M53, ENTRE, begin\n",
    "    @final_demand(PF, 20)\n",
    "end,begin\n",
    "end)\n",
    "\n",
    "@aux_constraint(M53, MARKUP,\n",
    "    MARKUP*N - 1\n",
    ");"
   ]
  },
  {
   "cell_type": "markdown",
   "metadata": {},
   "source": [
    "# Benchmark"
   ]
  },
  {
   "cell_type": "code",
   "execution_count": 6,
   "metadata": {},
   "outputs": [
    {
     "name": "stdout",
     "output_type": "stream",
     "text": [
      "Reading options file C:\\Users\\MPHILL~1\\AppData\\Local\\Temp\\jl_46F7.tmp\n",
      " > cumulative_iteration_limit 0\n",
      "Read of options file complete.\n",
      "\n",
      "Path 5.0.03 (Fri Jun 26 10:05:33 2020)\n",
      "Written by Todd Munson, Steven Dirkse, Youngdae Kim, and Michael Ferris\n",
      "Preprocessed size   : 12\n",
      "\n",
      "Major Iteration Log\n",
      "major minor  func  grad  residual    step  type prox    inorm  (label)\n",
      "    0     0     1     1 0.0000e+00           I 0.0e+00 0.0e+00 (zero_profit[X)\n",
      "\n",
      "Major Iterations. . . . 0\n",
      "Minor Iterations. . . . 0\n",
      "Restarts. . . . . . . . 0\n",
      "Crash Iterations. . . . 0\n",
      "Gradient Steps. . . . . 0\n",
      "Function Evaluations. . 1\n",
      "Gradient Evaluations. . 1\n",
      "Basis Time. . . . . . . 0.000000\n",
      "Total Time. . . . . . . 0.063000\n",
      "Residual. . . . . . . . 0.000000e+00\n",
      "Postsolved residual: 0.0000e+00\n",
      "\n",
      "\n",
      "Solver Status: LOCALLY_SOLVED\n",
      "Model Status: FEASIBLE_POINT\n",
      "\n",
      "Default price normalization using income for CONS - This value is fixed. Unfix with unfix(CONS)."
     ]
    },
    {
     "data": {
      "text/html": [
       "<div><div style = \"float: left;\"><span>13×3 DataFrame</span></div><div style = \"clear: both;\"></div></div><div class = \"data-frame\" style = \"overflow-x: scroll;\"><table class = \"data-frame\" style = \"margin-bottom: 6px;\"><thead><tr class = \"header\"><th class = \"rowNumber\" style = \"font-weight: bold; text-align: right;\">Row</th><th style = \"text-align: left;\">var</th><th style = \"text-align: left;\">value</th><th style = \"text-align: left;\">margin</th></tr><tr class = \"subheader headerLastRow\"><th class = \"rowNumber\" style = \"font-weight: bold; text-align: right;\"></th><th title = \"JuMP.VariableRef\" style = \"text-align: left;\">GenericV…</th><th title = \"Float64\" style = \"text-align: left;\">Float64</th><th title = \"Float64\" style = \"text-align: left;\">Float64</th></tr></thead><tbody><tr><td class = \"rowNumber\" style = \"font-weight: bold; text-align: right;\">1</td><td style = \"text-align: left;\">Y</td><td style = \"text-align: right;\">1.0</td><td style = \"text-align: right;\">0.0</td></tr><tr><td class = \"rowNumber\" style = \"font-weight: bold; text-align: right;\">2</td><td style = \"text-align: left;\">W</td><td style = \"text-align: right;\">1.0</td><td style = \"text-align: right;\">0.0</td></tr><tr><td class = \"rowNumber\" style = \"font-weight: bold; text-align: right;\">3</td><td style = \"text-align: left;\">X</td><td style = \"text-align: right;\">1.0</td><td style = \"text-align: right;\">0.0</td></tr><tr><td class = \"rowNumber\" style = \"font-weight: bold; text-align: right;\">4</td><td style = \"text-align: left;\">N</td><td style = \"text-align: right;\">5.0</td><td style = \"text-align: right;\">0.0</td></tr><tr><td class = \"rowNumber\" style = \"font-weight: bold; text-align: right;\">5</td><td style = \"text-align: left;\">PF</td><td style = \"text-align: right;\">1.0</td><td style = \"text-align: right;\">0.0</td></tr><tr><td class = \"rowNumber\" style = \"font-weight: bold; text-align: right;\">6</td><td style = \"text-align: left;\">PU</td><td style = \"text-align: right;\">1.0</td><td style = \"text-align: right;\">0.0</td></tr><tr><td class = \"rowNumber\" style = \"font-weight: bold; text-align: right;\">7</td><td style = \"text-align: left;\">PW</td><td style = \"text-align: right;\">1.0</td><td style = \"text-align: right;\">0.0</td></tr><tr><td class = \"rowNumber\" style = \"font-weight: bold; text-align: right;\">8</td><td style = \"text-align: left;\">PZ</td><td style = \"text-align: right;\">1.0</td><td style = \"text-align: right;\">0.0</td></tr><tr><td class = \"rowNumber\" style = \"font-weight: bold; text-align: right;\">9</td><td style = \"text-align: left;\">PY</td><td style = \"text-align: right;\">1.0</td><td style = \"text-align: right;\">0.0</td></tr><tr><td class = \"rowNumber\" style = \"font-weight: bold; text-align: right;\">10</td><td style = \"text-align: left;\">PX</td><td style = \"text-align: right;\">1.25</td><td style = \"text-align: right;\">0.0</td></tr><tr><td class = \"rowNumber\" style = \"font-weight: bold; text-align: right;\">11</td><td style = \"text-align: left;\">ENTRE</td><td style = \"text-align: right;\">20.0</td><td style = \"text-align: right;\">0.0</td></tr><tr><td class = \"rowNumber\" style = \"font-weight: bold; text-align: right;\">12</td><td style = \"text-align: left;\">CONS</td><td style = \"text-align: right;\">200.0</td><td style = \"text-align: right;\">0.0</td></tr><tr><td class = \"rowNumber\" style = \"font-weight: bold; text-align: right;\">13</td><td style = \"text-align: left;\">MARKUP</td><td style = \"text-align: right;\">0.2</td><td style = \"text-align: right;\">0.0</td></tr></tbody></table></div>"
      ],
      "text/latex": [
       "\\begin{tabular}{r|ccc}\n",
       "\t& var & value & margin\\\\\n",
       "\t\\hline\n",
       "\t& GenericV… & Float64 & Float64\\\\\n",
       "\t\\hline\n",
       "\t1 & $ Y $ & 1.0 & 0.0 \\\\\n",
       "\t2 & $ W $ & 1.0 & 0.0 \\\\\n",
       "\t3 & $ X $ & 1.0 & 0.0 \\\\\n",
       "\t4 & $ N $ & 5.0 & 0.0 \\\\\n",
       "\t5 & $ PF $ & 1.0 & 0.0 \\\\\n",
       "\t6 & $ PU $ & 1.0 & 0.0 \\\\\n",
       "\t7 & $ PW $ & 1.0 & 0.0 \\\\\n",
       "\t8 & $ PZ $ & 1.0 & 0.0 \\\\\n",
       "\t9 & $ PY $ & 1.0 & 0.0 \\\\\n",
       "\t10 & $ PX $ & 1.25 & 0.0 \\\\\n",
       "\t11 & $ ENTRE $ & 20.0 & 0.0 \\\\\n",
       "\t12 & $ CONS $ & 200.0 & 0.0 \\\\\n",
       "\t13 & $ MARKUP $ & 0.2 & 0.0 \\\\\n",
       "\\end{tabular}\n"
      ],
      "text/plain": [
       "\u001b[1m13×3 DataFrame\u001b[0m\n",
       "\u001b[1m Row \u001b[0m│\u001b[1m var       \u001b[0m\u001b[1m value   \u001b[0m\u001b[1m margin  \u001b[0m\n",
       "     │\u001b[90m GenericV… \u001b[0m\u001b[90m Float64 \u001b[0m\u001b[90m Float64 \u001b[0m\n",
       "─────┼─────────────────────────────\n",
       "   1 │ Y             1.0       0.0\n",
       "   2 │ W             1.0       0.0\n",
       "   3 │ X             1.0       0.0\n",
       "   4 │ N             5.0       0.0\n",
       "   5 │ PF            1.0       0.0\n",
       "   6 │ PU            1.0       0.0\n",
       "   7 │ PW            1.0       0.0\n",
       "   8 │ PZ            1.0       0.0\n",
       "   9 │ PY            1.0       0.0\n",
       "  10 │ PX            1.25      0.0\n",
       "  11 │ ENTRE        20.0       0.0\n",
       "  12 │ CONS        200.0       0.0\n",
       "  13 │ MARKUP        0.2       0.0"
      ]
     },
     "metadata": {},
     "output_type": "display_data"
    }
   ],
   "source": [
    "set_start_value(N, 5)\n",
    "set_start_value(PX, 1.25)\n",
    "set_start_value(MARKUP, .2)\n",
    "\n",
    "solve!(M53, cumulative_iteration_limit=0)\n",
    "generate_report(M53)"
   ]
  },
  {
   "cell_type": "markdown",
   "metadata": {},
   "source": [
    "# Counterfactual"
   ]
  },
  {
   "cell_type": "code",
   "execution_count": 8,
   "metadata": {},
   "outputs": [
    {
     "name": "stdout",
     "output_type": "stream",
     "text": [
      "Reading options file C:\\Users\\MPHILL~1\\AppData\\Local\\Temp\\jl_2EC8.tmp\n",
      " > cumulative_iteration_limit 10000\n",
      "Read of options file complete.\n",
      "\n",
      "Path 5.0.03 (Fri Jun 26 10:05:33 2020)\n",
      "Written by Todd Munson, Steven Dirkse, Youngdae Kim, and Michael Ferris\n",
      "\n",
      "Preprocessed size   : 12\n",
      "\n",
      "Crash Log\n",
      "major  func  diff  size  residual    step       prox   (label)\n",
      "    0     0             2.8144e+02             0.0e+00 (market_clearance[PW)\n",
      "    1     1     0    12 1.5551e+01  1.0e+00    0.0e+00 (market_clearance[PY)\n",
      "pn_search terminated: no basis change.\n",
      "\n",
      "Major Iteration Log\n",
      "major minor  func  grad  residual    step  type prox    inorm  (label)\n",
      "    0     0     2     2 1.5551e+01           I 0.0e+00 1.2e+01 (market_clearanc)\n",
      "    1     1     3     3 3.5483e-01  1.0e+00 SO 0.0e+00 3.0e-01 (income_balance[)\n",
      "    2     1     4     4 1.6763e-03  1.0e+00 SO 0.0e+00 1.1e-03 (market_clearanc)\n",
      "    3     1     5     5 1.1899e-08  1.0e+00 SO 0.0e+00 1.1e-08 (income_balance[)\n",
      "\n",
      "Major Iterations. . . . 3\n",
      "Minor Iterations. . . . 3\n",
      "Restarts. . . . . . . . 0\n",
      "Crash Iterations. . . . 1\n",
      "Gradient Steps. . . . . 0\n",
      "Function Evaluations. . 5\n",
      "Gradient Evaluations. . 5\n",
      "Basis Time. . . . . . . 0.000000\n",
      "Total Time. . . . . . . 0.000000\n",
      "Residual. . . . . . . . 1.189855e-08\n",
      "Postsolved residual: 1.1899e-08\n",
      "\n",
      "\n",
      "Solver Status: LOCALLY_SOLVED\n",
      "Model Status: FEASIBLE_POINT"
     ]
    },
    {
     "data": {
      "text/html": [
       "<div><div style = \"float: left;\"><span>13×3 DataFrame</span></div><div style = \"clear: both;\"></div></div><div class = \"data-frame\" style = \"overflow-x: scroll;\"><table class = \"data-frame\" style = \"margin-bottom: 6px;\"><thead><tr class = \"header\"><th class = \"rowNumber\" style = \"font-weight: bold; text-align: right;\">Row</th><th style = \"text-align: left;\">var</th><th style = \"text-align: left;\">value</th><th style = \"text-align: left;\">margin</th></tr><tr class = \"subheader headerLastRow\"><th class = \"rowNumber\" style = \"font-weight: bold; text-align: right;\"></th><th title = \"JuMP.VariableRef\" style = \"text-align: left;\">GenericV…</th><th title = \"Float64\" style = \"text-align: left;\">Float64</th><th title = \"Float64\" style = \"text-align: left;\">Float64</th></tr></thead><tbody><tr><td class = \"rowNumber\" style = \"font-weight: bold; text-align: right;\">1</td><td style = \"text-align: left;\">Y</td><td style = \"text-align: right;\">2.0</td><td style = \"text-align: right;\">-2.16005e-12</td></tr><tr><td class = \"rowNumber\" style = \"font-weight: bold; text-align: right;\">2</td><td style = \"text-align: left;\">W</td><td style = \"text-align: right;\">2.07193</td><td style = \"text-align: right;\">-3.28328e-10</td></tr><tr><td class = \"rowNumber\" style = \"font-weight: bold; text-align: right;\">3</td><td style = \"text-align: left;\">X</td><td style = \"text-align: right;\">2.14645</td><td style = \"text-align: right;\">1.56377e-9</td></tr><tr><td class = \"rowNumber\" style = \"font-weight: bold; text-align: right;\">4</td><td style = \"text-align: left;\">N</td><td style = \"text-align: right;\">7.07107</td><td style = \"text-align: right;\">-6.17284e-14</td></tr><tr><td class = \"rowNumber\" style = \"font-weight: bold; text-align: right;\">5</td><td style = \"text-align: left;\">PF</td><td style = \"text-align: right;\">1.0</td><td style = \"text-align: right;\">1.31295e-9</td></tr><tr><td class = \"rowNumber\" style = \"font-weight: bold; text-align: right;\">6</td><td style = \"text-align: left;\">PU</td><td style = \"text-align: right;\">0.965284</td><td style = \"text-align: right;\">8.78799e-10</td></tr><tr><td class = \"rowNumber\" style = \"font-weight: bold; text-align: right;\">7</td><td style = \"text-align: left;\">PW</td><td style = \"text-align: right;\">1.0</td><td style = \"text-align: right;\">-3.86535e-11</td></tr><tr><td class = \"rowNumber\" style = \"font-weight: bold; text-align: right;\">8</td><td style = \"text-align: left;\">PZ</td><td style = \"text-align: right;\">1.0</td><td style = \"text-align: right;\">4.72085e-11</td></tr><tr><td class = \"rowNumber\" style = \"font-weight: bold; text-align: right;\">9</td><td style = \"text-align: left;\">PY</td><td style = \"text-align: right;\">1.0</td><td style = \"text-align: right;\">-1.52139e-9</td></tr><tr><td class = \"rowNumber\" style = \"font-weight: bold; text-align: right;\">10</td><td style = \"text-align: left;\">PX</td><td style = \"text-align: right;\">1.16472</td><td style = \"text-align: right;\">1.89002e-9</td></tr><tr><td class = \"rowNumber\" style = \"font-weight: bold; text-align: right;\">11</td><td style = \"text-align: left;\">ENTRE</td><td style = \"text-align: right;\">28.2843</td><td style = \"text-align: right;\">1.11357e-8</td></tr><tr><td class = \"rowNumber\" style = \"font-weight: bold; text-align: right;\">12</td><td style = \"text-align: left;\">CONS</td><td style = \"text-align: right;\">400.0</td><td style = \"text-align: right;\">-1.09575e-8</td></tr><tr><td class = \"rowNumber\" style = \"font-weight: bold; text-align: right;\">13</td><td style = \"text-align: left;\">MARKUP</td><td style = \"text-align: right;\">0.141421</td><td style = \"text-align: right;\">2.57507e-9</td></tr></tbody></table></div>"
      ],
      "text/latex": [
       "\\begin{tabular}{r|ccc}\n",
       "\t& var & value & margin\\\\\n",
       "\t\\hline\n",
       "\t& GenericV… & Float64 & Float64\\\\\n",
       "\t\\hline\n",
       "\t1 & $ Y $ & 2.0 & -2.16005e-12 \\\\\n",
       "\t2 & $ W $ & 2.07193 & -3.28328e-10 \\\\\n",
       "\t3 & $ X $ & 2.14645 & 1.56377e-9 \\\\\n",
       "\t4 & $ N $ & 7.07107 & -6.17284e-14 \\\\\n",
       "\t5 & $ PF $ & 1.0 & 1.31295e-9 \\\\\n",
       "\t6 & $ PU $ & 0.965284 & 8.78799e-10 \\\\\n",
       "\t7 & $ PW $ & 1.0 & -3.86535e-11 \\\\\n",
       "\t8 & $ PZ $ & 1.0 & 4.72085e-11 \\\\\n",
       "\t9 & $ PY $ & 1.0 & -1.52139e-9 \\\\\n",
       "\t10 & $ PX $ & 1.16472 & 1.89002e-9 \\\\\n",
       "\t11 & $ ENTRE $ & 28.2843 & 1.11357e-8 \\\\\n",
       "\t12 & $ CONS $ & 400.0 & -1.09575e-8 \\\\\n",
       "\t13 & $ MARKUP $ & 0.141421 & 2.57507e-9 \\\\\n",
       "\\end{tabular}\n"
      ],
      "text/plain": [
       "\u001b[1m13×3 DataFrame\u001b[0m\n",
       "\u001b[1m Row \u001b[0m│\u001b[1m var       \u001b[0m\u001b[1m value      \u001b[0m\u001b[1m margin       \u001b[0m\n",
       "     │\u001b[90m GenericV… \u001b[0m\u001b[90m Float64    \u001b[0m\u001b[90m Float64      \u001b[0m\n",
       "─────┼─────────────────────────────────────\n",
       "   1 │ Y            2.0       -2.16005e-12\n",
       "   2 │ W            2.07193   -3.28328e-10\n",
       "   3 │ X            2.14645    1.56377e-9\n",
       "   4 │ N            7.07107   -6.17284e-14\n",
       "   5 │ PF           1.0        1.31295e-9\n",
       "   6 │ PU           0.965284   8.78799e-10\n",
       "   7 │ PW           1.0       -3.86535e-11\n",
       "   8 │ PZ           1.0        4.72085e-11\n",
       "   9 │ PY           1.0       -1.52139e-9\n",
       "  10 │ PX           1.16472    1.89002e-9\n",
       "  11 │ ENTRE       28.2843     1.11357e-8\n",
       "  12 │ CONS       400.0       -1.09575e-8\n",
       "  13 │ MARKUP       0.141421   2.57507e-9"
      ]
     },
     "metadata": {},
     "output_type": "display_data"
    }
   ],
   "source": [
    "set_value!(ENDOW, 2)\n",
    "fix(CONS,400)\n",
    "\n",
    "solve!(M53)\n",
    "generate_report(M53)"
   ]
  },
  {
   "cell_type": "code",
   "execution_count": null,
   "metadata": {},
   "outputs": [],
   "source": []
  },
  {
   "cell_type": "code",
   "execution_count": null,
   "metadata": {},
   "outputs": [],
   "source": []
  }
 ],
 "metadata": {
  "kernelspec": {
   "display_name": "Julia 1.9.2",
   "language": "julia",
   "name": "julia-1.9"
  },
  "language_info": {
   "file_extension": ".jl",
   "mimetype": "application/julia",
   "name": "julia",
   "version": "1.9.2"
  }
 },
 "nbformat": 4,
 "nbformat_minor": 2
}
