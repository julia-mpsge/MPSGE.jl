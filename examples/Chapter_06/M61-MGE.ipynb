{
 "cells": [
  {
   "cell_type": "markdown",
   "metadata": {},
   "source": [
    "# Model M61\n",
    "\n",
    "External economies of scale\n",
    "\n",
    "|Markets  |    X  |      Y  |      W   |       CONS|\n",
    "|---------|-------|---------|----------|------------|\n",
    "|    PX   |  100  |         |  -100    |            |     \n",
    "|    PY   |       |   100   |  -100    |            |        \n",
    "|    PU   |       |         |   200    |       -200 |         \n",
    "|    PW   |  -40  |   -60   |          |        100 |        \n",
    "|    PZ   |  -60  |   -40   |          |        100 |       "
   ]
  },
  {
   "cell_type": "code",
   "execution_count": 29,
   "metadata": {},
   "outputs": [],
   "source": [
    "using MPSGE"
   ]
  },
  {
   "cell_type": "code",
   "execution_count": 30,
   "metadata": {},
   "outputs": [],
   "source": [
    "M61 = MPSGEModel()\n",
    "\n",
    "@parameters(M61, begin\n",
    "    ENDOW, 1, (description = \"Size index for the economy\",)\n",
    "    β, .2, (description = \"External economies parameter\",)\n",
    "end)\n",
    "\n",
    "\n",
    "@sectors(M61, begin\n",
    "\tX,\t(description = \"Activity level for sector X\",)\n",
    "\tY,\t(description = \"Activity level for sector Y\",)\n",
    "\tW,\t(description = \"Activity level for sector W (Hicksian welfare index)\",)\n",
    "end)\n",
    "@commodities(M61, begin\n",
    "\tPX,\t(description = \"Price index for commodity X\",)\n",
    "\tPY,\t(description = \"Price index for commodity Y\",)\n",
    "\tPW,\t(description = \"Price index for primary factor L\",)\n",
    "\tPZ,\t(description = \"Price index for primary factor S\",)\n",
    "\tPU,\t(description = \"Price index for welfare (expenditure function)\",)\n",
    "end)\n",
    "@consumers(M61, begin\n",
    "\tCONS,\t(description = \"Income level for consumer CONS\",)\n",
    "end)\n",
    "@auxiliaries(M61, begin\n",
    "\tXQADJ,\t(description = \"Quantity adjustment   (positive when X>1)\",)\n",
    "\tXPADJ,\t(description = \"X output subsidy rate (positive when X>1)\",)\n",
    "end)\n",
    "\n",
    "@production(M61, X, [s=1,t=0], begin\n",
    "    @output(PX, 100, t, taxes = [Tax(CONS, XPADJ*-1)])\n",
    "    @input(PW, 40, s)\n",
    "    @input(PZ, 60, s)\n",
    "end)\n",
    "\n",
    "@production(M61, Y, [s=1,t=0], begin\n",
    "    @output(PY, 100, t)\n",
    "    @input(PW, 60, s)\n",
    "    @input(PZ, 40, s)\n",
    "end)\n",
    "\n",
    "\n",
    "@production(M61, W, [s=1,t=0], begin\n",
    "    @output(PU, 200, t)\n",
    "    @input(PX, 100, s)\n",
    "    @input(PY, 100, s)\n",
    "end)\n",
    "\n",
    "@demand(M61, CONS, begin\n",
    "    @final_demand(PU, 200)\n",
    "end,begin\n",
    "    @endowment(PW, ENDOW*100)\n",
    "    @endowment(PZ, ENDOW*100)\n",
    "    @endowment(PX, 100*XQADJ)\n",
    "end)\n",
    "\n",
    "@aux_constraint(M61, XQADJ, \n",
    "    XQADJ - (X^(1/(1-β)) - X)\n",
    ")\n",
    "\n",
    "@aux_constraint(M61, XPADJ, \n",
    "    XPADJ*X - XQADJ\n",
    ");"
   ]
  },
  {
   "cell_type": "markdown",
   "metadata": {},
   "source": [
    "# Benchmark"
   ]
  },
  {
   "cell_type": "code",
   "execution_count": 31,
   "metadata": {},
   "outputs": [],
   "source": [
    "using JuMP\n",
    "\n",
    "JuMP.delete_lower_bound(get_variable(XQADJ))\n",
    "JuMP.delete_lower_bound(get_variable(XPADJ))"
   ]
  },
  {
   "cell_type": "code",
   "execution_count": 32,
   "metadata": {},
   "outputs": [
    {
     "name": "stdout",
     "output_type": "stream",
     "text": [
      "Reading options file C:\\Users\\MPHILL~1\\AppData\\Local\\Temp\\jl_2997.tmp\n",
      " > cumulative_iteration_limit 0\n",
      "Read of options file complete.\n",
      "\n",
      "Path 5.0.03 (Fri Jun 26 10:05:33 2020)\n",
      "Written by Todd Munson, Steven Dirkse, Youngdae Kim, and Michael Ferris\n",
      "Preprocessed size   : 10\n",
      "\n",
      "Major Iteration Log\n",
      "major minor  func  grad  residual    step  type prox    inorm  (label)\n",
      "    0     0     1     1 0.0000e+00           I 0.0e+00 0.0e+00 (zero_profit[X)\n",
      "\n",
      "Major Iterations. . . . 0\n",
      "Minor Iterations. . . . 0\n",
      "Restarts. . . . . . . . 0\n",
      "Crash Iterations. . . . 0\n",
      "Gradient Steps. . . . . 0\n",
      "Function Evaluations. . 1\n",
      "Gradient Evaluations. . 1\n",
      "Basis Time. . . . . . . 0.000000\n",
      "Total Time. . . . . . . 0.000000\n",
      "Residual. . . . . . . . 0.000000e+00\n",
      "Postsolved residual: 0.0000e+00\n",
      "\n",
      "\n",
      "Solver Status: LOCALLY_SOLVED\n",
      "Model Status: FEASIBLE_POINT\n",
      "\n",
      "Default price normalization using income for CONS - This value is fixed. Unfix with unfix(CONS)."
     ]
    },
    {
     "data": {
      "text/html": [
       "<div><div style = \"float: left;\"><span>11×3 DataFrame</span></div><div style = \"clear: both;\"></div></div><div class = \"data-frame\" style = \"overflow-x: scroll;\"><table class = \"data-frame\" style = \"margin-bottom: 6px;\"><thead><tr class = \"header\"><th class = \"rowNumber\" style = \"font-weight: bold; text-align: right;\">Row</th><th style = \"text-align: left;\">var</th><th style = \"text-align: left;\">value</th><th style = \"text-align: left;\">margin</th></tr><tr class = \"subheader headerLastRow\"><th class = \"rowNumber\" style = \"font-weight: bold; text-align: right;\"></th><th title = \"VariableRef\" style = \"text-align: left;\">GenericV…</th><th title = \"Float64\" style = \"text-align: left;\">Float64</th><th title = \"Float64\" style = \"text-align: left;\">Float64</th></tr></thead><tbody><tr><td class = \"rowNumber\" style = \"font-weight: bold; text-align: right;\">1</td><td style = \"text-align: left;\">X</td><td style = \"text-align: right;\">1.0</td><td style = \"text-align: right;\">0.0</td></tr><tr><td class = \"rowNumber\" style = \"font-weight: bold; text-align: right;\">2</td><td style = \"text-align: left;\">Y</td><td style = \"text-align: right;\">1.0</td><td style = \"text-align: right;\">0.0</td></tr><tr><td class = \"rowNumber\" style = \"font-weight: bold; text-align: right;\">3</td><td style = \"text-align: left;\">W</td><td style = \"text-align: right;\">1.0</td><td style = \"text-align: right;\">0.0</td></tr><tr><td class = \"rowNumber\" style = \"font-weight: bold; text-align: right;\">4</td><td style = \"text-align: left;\">PU</td><td style = \"text-align: right;\">1.0</td><td style = \"text-align: right;\">0.0</td></tr><tr><td class = \"rowNumber\" style = \"font-weight: bold; text-align: right;\">5</td><td style = \"text-align: left;\">PW</td><td style = \"text-align: right;\">1.0</td><td style = \"text-align: right;\">0.0</td></tr><tr><td class = \"rowNumber\" style = \"font-weight: bold; text-align: right;\">6</td><td style = \"text-align: left;\">PZ</td><td style = \"text-align: right;\">1.0</td><td style = \"text-align: right;\">0.0</td></tr><tr><td class = \"rowNumber\" style = \"font-weight: bold; text-align: right;\">7</td><td style = \"text-align: left;\">PY</td><td style = \"text-align: right;\">1.0</td><td style = \"text-align: right;\">0.0</td></tr><tr><td class = \"rowNumber\" style = \"font-weight: bold; text-align: right;\">8</td><td style = \"text-align: left;\">PX</td><td style = \"text-align: right;\">1.0</td><td style = \"text-align: right;\">0.0</td></tr><tr><td class = \"rowNumber\" style = \"font-weight: bold; text-align: right;\">9</td><td style = \"text-align: left;\">CONS</td><td style = \"text-align: right;\">200.0</td><td style = \"text-align: right;\">0.0</td></tr><tr><td class = \"rowNumber\" style = \"font-weight: bold; text-align: right;\">10</td><td style = \"text-align: left;\">XQADJ</td><td style = \"text-align: right;\">0.0</td><td style = \"text-align: right;\">0.0</td></tr><tr><td class = \"rowNumber\" style = \"font-weight: bold; text-align: right;\">11</td><td style = \"text-align: left;\">XPADJ</td><td style = \"text-align: right;\">0.0</td><td style = \"text-align: right;\">0.0</td></tr></tbody></table></div>"
      ],
      "text/latex": [
       "\\begin{tabular}{r|ccc}\n",
       "\t& var & value & margin\\\\\n",
       "\t\\hline\n",
       "\t& GenericV… & Float64 & Float64\\\\\n",
       "\t\\hline\n",
       "\t1 & $ X $ & 1.0 & 0.0 \\\\\n",
       "\t2 & $ Y $ & 1.0 & 0.0 \\\\\n",
       "\t3 & $ W $ & 1.0 & 0.0 \\\\\n",
       "\t4 & $ PU $ & 1.0 & 0.0 \\\\\n",
       "\t5 & $ PW $ & 1.0 & 0.0 \\\\\n",
       "\t6 & $ PZ $ & 1.0 & 0.0 \\\\\n",
       "\t7 & $ PY $ & 1.0 & 0.0 \\\\\n",
       "\t8 & $ PX $ & 1.0 & 0.0 \\\\\n",
       "\t9 & $ CONS $ & 200.0 & 0.0 \\\\\n",
       "\t10 & $ XQADJ $ & 0.0 & 0.0 \\\\\n",
       "\t11 & $ XPADJ $ & 0.0 & 0.0 \\\\\n",
       "\\end{tabular}\n"
      ],
      "text/plain": [
       "\u001b[1m11×3 DataFrame\u001b[0m\n",
       "\u001b[1m Row \u001b[0m│\u001b[1m var       \u001b[0m\u001b[1m value   \u001b[0m\u001b[1m margin  \u001b[0m\n",
       "     │\u001b[90m GenericV… \u001b[0m\u001b[90m Float64 \u001b[0m\u001b[90m Float64 \u001b[0m\n",
       "─────┼─────────────────────────────\n",
       "   1 │ X              1.0      0.0\n",
       "   2 │ Y              1.0      0.0\n",
       "   3 │ W              1.0      0.0\n",
       "   4 │ PU             1.0      0.0\n",
       "   5 │ PW             1.0      0.0\n",
       "   6 │ PZ             1.0      0.0\n",
       "   7 │ PY             1.0      0.0\n",
       "   8 │ PX             1.0      0.0\n",
       "   9 │ CONS         200.0      0.0\n",
       "  10 │ XQADJ          0.0      0.0\n",
       "  11 │ XPADJ          0.0      0.0"
      ]
     },
     "metadata": {},
     "output_type": "display_data"
    }
   ],
   "source": [
    "solve!(M61, cumulative_iteration_limit = 0)\n",
    "generate_report(M61)"
   ]
  },
  {
   "cell_type": "markdown",
   "metadata": {},
   "source": [
    "# Counterfactual"
   ]
  },
  {
   "cell_type": "code",
   "execution_count": 33,
   "metadata": {},
   "outputs": [
    {
     "name": "stdout",
     "output_type": "stream",
     "text": [
      "Reading options file C:\\Users\\MPHILL~1\\AppData\\Local\\Temp\\jl_29C7.tmp\n",
      " > cumulative_iteration_limit 10000\n",
      "Read of options file complete.\n",
      "\n",
      "Path 5.0.03 (Fri Jun 26 10:05:33 2020)\n",
      "Written by Todd Munson, Steven Dirkse, Youngdae Kim, and Michael Ferris\n",
      "\n",
      "Preprocessed size   : 10\n",
      "\n",
      "Crash Log\n",
      "major  func  diff  size  residual    step       prox   (label)\n",
      "    0     0             2.8144e+02             0.0e+00 (market_clearance[PW)\n",
      "    1     2     0    10 6.0032e+01  8.0e-01    0.0e+00 (market_clearance[PW)\n",
      "pn_search terminated: no basis change.\n",
      "\n",
      "Major Iteration Log\n",
      "major minor  func  grad  residual    step  type prox    inorm  (label)\n",
      "    0     0     3     2 6.0032e+01           I 0.0e+00 4.0e+01 (market_clearanc)\n",
      "    1     1     4     3 1.1357e+01  1.0e+00 SM 0.0e+00 1.1e+01 (market_clearanc)\n",
      "    2     1     5     4 5.2786e-01  1.0e+00 SO 0.0e+00 4.1e-01 (market_clearanc)\n",
      "    3     1     6     5 4.3223e-01  1.0e+00 SO 0.0e+00 4.3e-01 (market_clearanc)\n",
      "    4     1     7     6 4.4939e-02  1.0e+00 SO 0.0e+00 4.5e-02 (market_clearanc)\n",
      "    5     1     8     7 5.1458e-06  1.0e+00 SO 0.0e+00 5.1e-06 (market_clearanc)\n",
      "    6     1     9     8 1.3543e-13  1.0e+00 SO 0.0e+00 1.1e-13 (market_clearanc)\n",
      "\n",
      "Major Iterations. . . . 6\n",
      "Minor Iterations. . . . 6\n",
      "Restarts. . . . . . . . 0\n",
      "Crash Iterations. . . . 1\n",
      "Gradient Steps. . . . . 0\n",
      "Function Evaluations. . 9\n",
      "Gradient Evaluations. . 8\n",
      "Basis Time. . . . . . . 0.000000\n",
      "Total Time. . . . . . . 0.016000\n",
      "Residual. . . . . . . . 1.354311e-13\n",
      "Postsolved residual: 1.3543e-13\n",
      "\n",
      "\n",
      "Solver Status: LOCALLY_SOLVED\n",
      "Model Status: FEASIBLE_POINT"
     ]
    },
    {
     "data": {
      "text/html": [
       "<div><div style = \"float: left;\"><span>11×3 DataFrame</span></div><div style = \"clear: both;\"></div></div><div class = \"data-frame\" style = \"overflow-x: scroll;\"><table class = \"data-frame\" style = \"margin-bottom: 6px;\"><thead><tr class = \"header\"><th class = \"rowNumber\" style = \"font-weight: bold; text-align: right;\">Row</th><th style = \"text-align: left;\">var</th><th style = \"text-align: left;\">value</th><th style = \"text-align: left;\">margin</th></tr><tr class = \"subheader headerLastRow\"><th class = \"rowNumber\" style = \"font-weight: bold; text-align: right;\"></th><th title = \"VariableRef\" style = \"text-align: left;\">GenericV…</th><th title = \"Float64\" style = \"text-align: left;\">Float64</th><th title = \"Float64\" style = \"text-align: left;\">Float64</th></tr></thead><tbody><tr><td class = \"rowNumber\" style = \"font-weight: bold; text-align: right;\">1</td><td style = \"text-align: left;\">X</td><td style = \"text-align: right;\">2.0</td><td style = \"text-align: right;\">-7.10543e-15</td></tr><tr><td class = \"rowNumber\" style = \"font-weight: bold; text-align: right;\">2</td><td style = \"text-align: left;\">Y</td><td style = \"text-align: right;\">2.0</td><td style = \"text-align: right;\">1.06581e-14</td></tr><tr><td class = \"rowNumber\" style = \"font-weight: bold; text-align: right;\">3</td><td style = \"text-align: left;\">W</td><td style = \"text-align: right;\">2.18102</td><td style = \"text-align: right;\">1.42109e-14</td></tr><tr><td class = \"rowNumber\" style = \"font-weight: bold; text-align: right;\">4</td><td style = \"text-align: left;\">PU</td><td style = \"text-align: right;\">0.458502</td><td style = \"text-align: right;\">1.13687e-13</td></tr><tr><td class = \"rowNumber\" style = \"font-weight: bold; text-align: right;\">5</td><td style = \"text-align: left;\">PW</td><td style = \"text-align: right;\">0.5</td><td style = \"text-align: right;\">2.84217e-14</td></tr><tr><td class = \"rowNumber\" style = \"font-weight: bold; text-align: right;\">6</td><td style = \"text-align: left;\">PZ</td><td style = \"text-align: right;\">0.5</td><td style = \"text-align: right;\">-2.84217e-14</td></tr><tr><td class = \"rowNumber\" style = \"font-weight: bold; text-align: right;\">7</td><td style = \"text-align: left;\">PY</td><td style = \"text-align: right;\">0.5</td><td style = \"text-align: right;\">5.68434e-14</td></tr><tr><td class = \"rowNumber\" style = \"font-weight: bold; text-align: right;\">8</td><td style = \"text-align: left;\">PX</td><td style = \"text-align: right;\">0.420448</td><td style = \"text-align: right;\">1.42109e-14</td></tr><tr><td class = \"rowNumber\" style = \"font-weight: bold; text-align: right;\">9</td><td style = \"text-align: left;\">CONS</td><td style = \"text-align: right;\">200.0</td><td style = \"text-align: right;\">0.0</td></tr><tr><td class = \"rowNumber\" style = \"font-weight: bold; text-align: right;\">10</td><td style = \"text-align: left;\">XQADJ</td><td style = \"text-align: right;\">0.378414</td><td style = \"text-align: right;\">-2.22045e-16</td></tr><tr><td class = \"rowNumber\" style = \"font-weight: bold; text-align: right;\">11</td><td style = \"text-align: left;\">XPADJ</td><td style = \"text-align: right;\">0.189207</td><td style = \"text-align: right;\">1.44329e-15</td></tr></tbody></table></div>"
      ],
      "text/latex": [
       "\\begin{tabular}{r|ccc}\n",
       "\t& var & value & margin\\\\\n",
       "\t\\hline\n",
       "\t& GenericV… & Float64 & Float64\\\\\n",
       "\t\\hline\n",
       "\t1 & $ X $ & 2.0 & -7.10543e-15 \\\\\n",
       "\t2 & $ Y $ & 2.0 & 1.06581e-14 \\\\\n",
       "\t3 & $ W $ & 2.18102 & 1.42109e-14 \\\\\n",
       "\t4 & $ PU $ & 0.458502 & 1.13687e-13 \\\\\n",
       "\t5 & $ PW $ & 0.5 & 2.84217e-14 \\\\\n",
       "\t6 & $ PZ $ & 0.5 & -2.84217e-14 \\\\\n",
       "\t7 & $ PY $ & 0.5 & 5.68434e-14 \\\\\n",
       "\t8 & $ PX $ & 0.420448 & 1.42109e-14 \\\\\n",
       "\t9 & $ CONS $ & 200.0 & 0.0 \\\\\n",
       "\t10 & $ XQADJ $ & 0.378414 & -2.22045e-16 \\\\\n",
       "\t11 & $ XPADJ $ & 0.189207 & 1.44329e-15 \\\\\n",
       "\\end{tabular}\n"
      ],
      "text/plain": [
       "\u001b[1m11×3 DataFrame\u001b[0m\n",
       "\u001b[1m Row \u001b[0m│\u001b[1m var       \u001b[0m\u001b[1m value      \u001b[0m\u001b[1m margin       \u001b[0m\n",
       "     │\u001b[90m GenericV… \u001b[0m\u001b[90m Float64    \u001b[0m\u001b[90m Float64      \u001b[0m\n",
       "─────┼─────────────────────────────────────\n",
       "   1 │ X            2.0       -7.10543e-15\n",
       "   2 │ Y            2.0        1.06581e-14\n",
       "   3 │ W            2.18102    1.42109e-14\n",
       "   4 │ PU           0.458502   1.13687e-13\n",
       "   5 │ PW           0.5        2.84217e-14\n",
       "   6 │ PZ           0.5       -2.84217e-14\n",
       "   7 │ PY           0.5        5.68434e-14\n",
       "   8 │ PX           0.420448   1.42109e-14\n",
       "   9 │ CONS       200.0        0.0\n",
       "  10 │ XQADJ        0.378414  -2.22045e-16\n",
       "  11 │ XPADJ        0.189207   1.44329e-15"
      ]
     },
     "metadata": {},
     "output_type": "display_data"
    }
   ],
   "source": [
    "set_value!(ENDOW, 2)\n",
    "\n",
    "solve!(M61)\n",
    "generate_report(M61)"
   ]
  },
  {
   "cell_type": "markdown",
   "metadata": {},
   "source": [
    "# Counterfactual"
   ]
  },
  {
   "cell_type": "code",
   "execution_count": 34,
   "metadata": {},
   "outputs": [
    {
     "name": "stdout",
     "output_type": "stream",
     "text": [
      "Reading options file C:\\Users\\MPHILL~1\\AppData\\Local\\Temp\\jl_2A16.tmp\n",
      " > cumulative_iteration_limit 10000\n",
      "Read of options file complete.\n",
      "\n",
      "Path 5.0.03 (Fri Jun 26 10:05:33 2020)\n",
      "Written by Todd Munson, Steven Dirkse, Youngdae Kim, and Michael Ferris\n",
      "\n",
      "Preprocessed size   : 10\n",
      "\n",
      "Crash Log\n",
      "major  func  diff  size  residual    step       prox   (label)\n",
      "    0     0             1.3789e+00             0.0e+00 (market_clearance[PW)\n",
      "pn_search terminated: no progress.\n",
      "\n",
      "Major Iteration Log\n",
      "major minor  func  grad  residual    step  type prox    inorm  (label)\n",
      "    0     0    13     1 1.3789e+00           I 0.0e+00 9.8e-01 (market_clearanc)\n",
      "    1     1    14     2 1.8566e+00  1.0e+00 SO 0.0e+00 1.2e+00 (market_clearanc)\n",
      "    2     1    15     3 3.0202e-01  1.0e+00 SO 0.0e+00 3.0e-01 (market_clearanc)\n",
      "    3     1    16     4 7.6043e-04  1.0e+00 SO 0.0e+00 7.6e-04 (market_clearanc)\n",
      "    4     1    17     5 3.6705e-09  1.0e+00 SO 0.0e+00 3.7e-09 (market_clearanc)\n",
      "\n",
      "Major Iterations. . . . 4\n",
      "Minor Iterations. . . . 4\n",
      "Restarts. . . . . . . . 0\n",
      "Crash Iterations. . . . 0\n",
      "Gradient Steps. . . . . 0\n",
      "Function Evaluations. . 17\n",
      "Gradient Evaluations. . 5\n",
      "Basis Time. . . . . . . 0.000000\n",
      "Total Time. . . . . . . 0.000000\n",
      "Residual. . . . . . . . 3.670503e-09\n",
      "Postsolved residual: 3.6705e-09\n",
      "\n",
      "\n",
      "Solver Status: LOCALLY_SOLVED\n",
      "Model Status: FEASIBLE_POINT"
     ]
    },
    {
     "data": {
      "text/html": [
       "<div><div style = \"float: left;\"><span>11×3 DataFrame</span></div><div style = \"clear: both;\"></div></div><div class = \"data-frame\" style = \"overflow-x: scroll;\"><table class = \"data-frame\" style = \"margin-bottom: 6px;\"><thead><tr class = \"header\"><th class = \"rowNumber\" style = \"font-weight: bold; text-align: right;\">Row</th><th style = \"text-align: left;\">var</th><th style = \"text-align: left;\">value</th><th style = \"text-align: left;\">margin</th></tr><tr class = \"subheader headerLastRow\"><th class = \"rowNumber\" style = \"font-weight: bold; text-align: right;\"></th><th title = \"VariableRef\" style = \"text-align: left;\">GenericV…</th><th title = \"Float64\" style = \"text-align: left;\">Float64</th><th title = \"Float64\" style = \"text-align: left;\">Float64</th></tr></thead><tbody><tr><td class = \"rowNumber\" style = \"font-weight: bold; text-align: right;\">1</td><td style = \"text-align: left;\">X</td><td style = \"text-align: right;\">0.8</td><td style = \"text-align: right;\">-3.70681e-11</td></tr><tr><td class = \"rowNumber\" style = \"font-weight: bold; text-align: right;\">2</td><td style = \"text-align: left;\">Y</td><td style = \"text-align: right;\">0.8</td><td style = \"text-align: right;\">-1.10134e-12</td></tr><tr><td class = \"rowNumber\" style = \"font-weight: bold; text-align: right;\">3</td><td style = \"text-align: left;\">W</td><td style = \"text-align: right;\">0.777994</td><td style = \"text-align: right;\">-3.97904e-13</td></tr><tr><td class = \"rowNumber\" style = \"font-weight: bold; text-align: right;\">4</td><td style = \"text-align: left;\">PU</td><td style = \"text-align: right;\">1.28536</td><td style = \"text-align: right;\">3.66947e-9</td></tr><tr><td class = \"rowNumber\" style = \"font-weight: bold; text-align: right;\">5</td><td style = \"text-align: left;\">PW</td><td style = \"text-align: right;\">1.25</td><td style = \"text-align: right;\">-5.05764e-11</td></tr><tr><td class = \"rowNumber\" style = \"font-weight: bold; text-align: right;\">6</td><td style = \"text-align: left;\">PZ</td><td style = \"text-align: right;\">1.25</td><td style = \"text-align: right;\">5.19265e-11</td></tr><tr><td class = \"rowNumber\" style = \"font-weight: bold; text-align: right;\">7</td><td style = \"text-align: left;\">PY</td><td style = \"text-align: right;\">1.25</td><td style = \"text-align: right;\">2.251e-11</td></tr><tr><td class = \"rowNumber\" style = \"font-weight: bold; text-align: right;\">8</td><td style = \"text-align: left;\">PX</td><td style = \"text-align: right;\">1.32171</td><td style = \"text-align: right;\">-2.10463e-11</td></tr><tr><td class = \"rowNumber\" style = \"font-weight: bold; text-align: right;\">9</td><td style = \"text-align: left;\">CONS</td><td style = \"text-align: right;\">200.0</td><td style = \"text-align: right;\">4.74952e-9</td></tr><tr><td class = \"rowNumber\" style = \"font-weight: bold; text-align: right;\">10</td><td style = \"text-align: left;\">XQADJ</td><td style = \"text-align: right;\">-0.0434067</td><td style = \"text-align: right;\">-7.57033e-15</td></tr><tr><td class = \"rowNumber\" style = \"font-weight: bold; text-align: right;\">11</td><td style = \"text-align: left;\">XPADJ</td><td style = \"text-align: right;\">-0.0542584</td><td style = \"text-align: right;\">1.12549e-14</td></tr></tbody></table></div>"
      ],
      "text/latex": [
       "\\begin{tabular}{r|ccc}\n",
       "\t& var & value & margin\\\\\n",
       "\t\\hline\n",
       "\t& GenericV… & Float64 & Float64\\\\\n",
       "\t\\hline\n",
       "\t1 & $ X $ & 0.8 & -3.70681e-11 \\\\\n",
       "\t2 & $ Y $ & 0.8 & -1.10134e-12 \\\\\n",
       "\t3 & $ W $ & 0.777994 & -3.97904e-13 \\\\\n",
       "\t4 & $ PU $ & 1.28536 & 3.66947e-9 \\\\\n",
       "\t5 & $ PW $ & 1.25 & -5.05764e-11 \\\\\n",
       "\t6 & $ PZ $ & 1.25 & 5.19265e-11 \\\\\n",
       "\t7 & $ PY $ & 1.25 & 2.251e-11 \\\\\n",
       "\t8 & $ PX $ & 1.32171 & -2.10463e-11 \\\\\n",
       "\t9 & $ CONS $ & 200.0 & 4.74952e-9 \\\\\n",
       "\t10 & $ XQADJ $ & -0.0434067 & -7.57033e-15 \\\\\n",
       "\t11 & $ XPADJ $ & -0.0542584 & 1.12549e-14 \\\\\n",
       "\\end{tabular}\n"
      ],
      "text/plain": [
       "\u001b[1m11×3 DataFrame\u001b[0m\n",
       "\u001b[1m Row \u001b[0m│\u001b[1m var       \u001b[0m\u001b[1m value       \u001b[0m\u001b[1m margin       \u001b[0m\n",
       "     │\u001b[90m GenericV… \u001b[0m\u001b[90m Float64     \u001b[0m\u001b[90m Float64      \u001b[0m\n",
       "─────┼──────────────────────────────────────\n",
       "   1 │ X            0.8        -3.70681e-11\n",
       "   2 │ Y            0.8        -1.10134e-12\n",
       "   3 │ W            0.777994   -3.97904e-13\n",
       "   4 │ PU           1.28536     3.66947e-9\n",
       "   5 │ PW           1.25       -5.05764e-11\n",
       "   6 │ PZ           1.25        5.19265e-11\n",
       "   7 │ PY           1.25        2.251e-11\n",
       "   8 │ PX           1.32171    -2.10463e-11\n",
       "   9 │ CONS       200.0         4.74952e-9\n",
       "  10 │ XQADJ       -0.0434067  -7.57033e-15\n",
       "  11 │ XPADJ       -0.0542584   1.12549e-14"
      ]
     },
     "metadata": {},
     "output_type": "display_data"
    }
   ],
   "source": [
    "set_value!(ENDOW, .8)\n",
    "\n",
    "solve!(M61)\n",
    "generate_report(M61)"
   ]
  },
  {
   "cell_type": "code",
   "execution_count": 35,
   "metadata": {},
   "outputs": [],
   "source": []
  }
 ],
 "metadata": {
  "kernelspec": {
   "display_name": "Julia 1.9.2",
   "language": "julia",
   "name": "julia-1.9"
  },
  "language_info": {
   "file_extension": ".jl",
   "mimetype": "application/julia",
   "name": "julia",
   "version": "1.9.2"
  }
 },
 "nbformat": 4,
 "nbformat_minor": 2
}
