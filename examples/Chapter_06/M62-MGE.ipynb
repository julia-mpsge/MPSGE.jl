{
 "cells": [
  {
   "cell_type": "markdown",
   "metadata": {},
   "source": [
    "# M62\n",
    "\n",
    "Large-group monopolistic competition\n",
    "\n",
    "|Markets  |   XI  |     X   |     N  |      Y  |      W   |  CONS |  ENTR    |\n",
    "|---------|-------|---------|--------|---------|----------|-------|----------|\n",
    "|    PX   |       |  100    |        |         |  -100    |       |          | \n",
    "|    CX   |  100  | -100    |        |         |          |       |          |\n",
    "|    PY   |       |         |        |   100   |  -100    |       |          |\n",
    "|    PF   |       |         |   20   |         |          |       |   -20    |  \n",
    "|    PU   |       |         |        |         |   200    |  -200 |          |  \n",
    "|    PW   |  -32  |         |   -8   |   -60   |          |   100 |          |  \n",
    "|    PZ   |  -48  |         |  -12   |   -40   |          |   100 |          | \n",
    "|    MK   |  -20  |         |        |         |          |       |    20    | "
   ]
  },
  {
   "cell_type": "code",
   "execution_count": 18,
   "metadata": {},
   "outputs": [],
   "source": [
    "using MPSGE"
   ]
  },
  {
   "cell_type": "code",
   "execution_count": 19,
   "metadata": {},
   "outputs": [
    {
     "data": {
      "text/plain": [
       "ScalarAuxConstraint(XPADJ, XPADJ - ((N ^ (1.0 / (EP - 1))) - 1.0))"
      ]
     },
     "metadata": {},
     "output_type": "display_data"
    }
   ],
   "source": [
    "M62 = MPSGEModel()\n",
    "\n",
    "@parameters(M62, begin\n",
    "    ENDOW, 1, (description = \"Size index for the economy\",)\n",
    "    EP, 5, (description = \"Elasticity of substitution among X varieties\",)\n",
    "end)\n",
    "\n",
    "\n",
    "@sectors(M62, begin\n",
    "\tX,\t(description = \"Activity level for sector X\",)\n",
    "\tY,\t(description = \"Activity level for sector Y\",)\n",
    "\tW,\t(description = \"Activity level for sector W (Hicksian welfare index)\",)\n",
    "\tN,\t(description = \"Activity level for sector X fixed costs, no. of firms\",)\n",
    "\tXI,\t(description = \"Activity level -- marginal cost of X\",)\n",
    "end)\n",
    "@commodities(M62, begin\n",
    "\tPX,\t(description = \"Price index for commodity X (gross of markup)\",)\n",
    "\tCX,\t(description = \"Marginal cost index for commodity X (net markup)\",)\n",
    "\tPY,\t(description = \"Price index for commodity Y\",)\n",
    "\tPW,\t(description = \"Price index for unskilled labor\",)\n",
    "\tPZ,\t(description = \"Price index for skilled labor\",)\n",
    "\tPF,\t(description = \"Unit price of inputs to fixed cost\",)\n",
    "\tPU,\t(description = \"Price index for welfare (expenditure function)\",)\n",
    "end)\n",
    "@consumers(M62, begin\n",
    "\tCONS,\t(description = \"Income level for consumer CONS\",)\n",
    "\tENTRE,\t(description = \"Entrepreneur (converts markup revenue to fixed cost)\",)\n",
    "end)\n",
    "@auxiliaries(M62, begin\n",
    "\tXQADJ,\t(description = \"Quantity adjustment   (positive when X>1)\",)\n",
    "\tXPADJ,\t(description = \"X output subsidy rate (positive when X>1)\",)\n",
    "end)\n",
    "\n",
    "@production(M62, X, [s=1,t=0], begin\n",
    "    @output(PX, 80, t, reference_price = 1.25, taxes = [Tax(CONS, XPADJ*-1)])\n",
    "    @input(CX, 80, s, reference_price = 1.25)\n",
    "end)\n",
    "\n",
    "@production(M62, Y, [s=1,t=0], begin\n",
    "    @output(PY, 100, t)\n",
    "    @input(PW, 60, s)\n",
    "    @input(PZ, 40, s)\n",
    "end)\n",
    "\n",
    "@production(M62, XI, [s=1,t=0], begin\n",
    "    @output(CX, 80, t, taxes = [Tax(ENTRE,.2)])\n",
    "    @input(PW, 32, s)\n",
    "    @input(PZ, 48, s)\n",
    "end)\n",
    "\n",
    "@production(M62, N, [s=1,t=0], begin\n",
    "    @output(PF, 20, t)\n",
    "    @input(PZ, 12, s)\n",
    "    @input(PW, 8, s)\n",
    "end)\n",
    "\n",
    "@production(M62, W, [s=1,t=0], begin\n",
    "    @output(PU, 200, t)\n",
    "    @input(PX, 80, s, reference_price = 1.25)\n",
    "    @input(PY, 100, s)\n",
    "end)\n",
    "\n",
    "@demand(M62, CONS, begin\n",
    "    @final_demand(PU, 200)\n",
    "end, begin\n",
    "    @endowment(PW, 100*ENDOW)\n",
    "    @endowment(PZ, 100*ENDOW)\n",
    "    @endowment(PX, 80*XQADJ)\n",
    "end)\n",
    "\n",
    "@demand(M62, ENTRE, begin\n",
    "    @final_demand(PF, 20)\n",
    "end, begin\n",
    "end)\n",
    "\n",
    "@aux_constraint(M62, XQADJ,\n",
    "    XQADJ - (N^(1/(EP-1))*X - X)\n",
    ")\n",
    "\n",
    "@aux_constraint(M62, XPADJ, \n",
    "    XPADJ - (N^(1/(EP-1)) - 1)\n",
    ")"
   ]
  },
  {
   "cell_type": "markdown",
   "metadata": {},
   "source": [
    "# Benchmark"
   ]
  },
  {
   "cell_type": "code",
   "execution_count": 20,
   "metadata": {},
   "outputs": [],
   "source": [
    "using JuMP\n",
    "\n",
    "JuMP.delete_lower_bound(get_variable(XQADJ))\n",
    "JuMP.delete_lower_bound(get_variable(XPADJ))"
   ]
  },
  {
   "cell_type": "code",
   "execution_count": 21,
   "metadata": {},
   "outputs": [
    {
     "name": "stdout",
     "output_type": "stream",
     "text": [
      "Reading options file C:\\Users\\MPHILL~1\\AppData\\Local\\Temp\\jl_8FCD.tmp\n",
      " > cumulative_iteration_limit 0\n",
      "Read of options file complete.\n",
      "\n",
      "Path 5.0.03 (Fri Jun 26 10:05:33 2020)\n",
      "Written by Todd Munson, Steven Dirkse, Youngdae Kim, and Michael Ferris\n",
      "Preprocessed size   : 15\n",
      "\n",
      "Major Iteration Log\n",
      "major minor  func  grad  residual    step  type prox    inorm  (label)\n",
      "    0     0     1     1 0.0000e+00           I 0.0e+00 0.0e+00 (zero_profit[X)\n",
      "\n",
      "Major Iterations. . . . 0\n",
      "Minor Iterations. . . . 0\n",
      "Restarts. . . . . . . . 0\n",
      "Crash Iterations. . . . 0\n",
      "Gradient Steps. . . . . 0\n",
      "Function Evaluations. . 1\n",
      "Gradient Evaluations. . 1\n",
      "Basis Time. . . . . . . 0.000000\n",
      "Total Time. . . . . . . 0.000000\n",
      "Residual. . . . . . . . 0.000000e+00\n",
      "Postsolved residual: 0.0000e+00\n",
      "\n",
      "\n",
      "Solver Status: LOCALLY_SOLVED\n",
      "Model Status: FEASIBLE_POINT"
     ]
    },
    {
     "data": {
      "text/html": [
       "<div><div style = \"float: left;\"><span>16×3 DataFrame</span></div><div style = \"clear: both;\"></div></div><div class = \"data-frame\" style = \"overflow-x: scroll;\"><table class = \"data-frame\" style = \"margin-bottom: 6px;\"><thead><tr class = \"header\"><th class = \"rowNumber\" style = \"font-weight: bold; text-align: right;\">Row</th><th style = \"text-align: left;\">var</th><th style = \"text-align: left;\">value</th><th style = \"text-align: left;\">margin</th></tr><tr class = \"subheader headerLastRow\"><th class = \"rowNumber\" style = \"font-weight: bold; text-align: right;\"></th><th title = \"VariableRef\" style = \"text-align: left;\">GenericV…</th><th title = \"Float64\" style = \"text-align: left;\">Float64</th><th title = \"Float64\" style = \"text-align: left;\">Float64</th></tr></thead><tbody><tr><td class = \"rowNumber\" style = \"font-weight: bold; text-align: right;\">1</td><td style = \"text-align: left;\">N</td><td style = \"text-align: right;\">1.0</td><td style = \"text-align: right;\">0.0</td></tr><tr><td class = \"rowNumber\" style = \"font-weight: bold; text-align: right;\">2</td><td style = \"text-align: left;\">W</td><td style = \"text-align: right;\">1.0</td><td style = \"text-align: right;\">0.0</td></tr><tr><td class = \"rowNumber\" style = \"font-weight: bold; text-align: right;\">3</td><td style = \"text-align: left;\">X</td><td style = \"text-align: right;\">1.0</td><td style = \"text-align: right;\">0.0</td></tr><tr><td class = \"rowNumber\" style = \"font-weight: bold; text-align: right;\">4</td><td style = \"text-align: left;\">Y</td><td style = \"text-align: right;\">1.0</td><td style = \"text-align: right;\">0.0</td></tr><tr><td class = \"rowNumber\" style = \"font-weight: bold; text-align: right;\">5</td><td style = \"text-align: left;\">XI</td><td style = \"text-align: right;\">1.0</td><td style = \"text-align: right;\">0.0</td></tr><tr><td class = \"rowNumber\" style = \"font-weight: bold; text-align: right;\">6</td><td style = \"text-align: left;\">PF</td><td style = \"text-align: right;\">1.0</td><td style = \"text-align: right;\">0.0</td></tr><tr><td class = \"rowNumber\" style = \"font-weight: bold; text-align: right;\">7</td><td style = \"text-align: left;\">PU</td><td style = \"text-align: right;\">1.0</td><td style = \"text-align: right;\">0.0</td></tr><tr><td class = \"rowNumber\" style = \"font-weight: bold; text-align: right;\">8</td><td style = \"text-align: left;\">PW</td><td style = \"text-align: right;\">1.0</td><td style = \"text-align: right;\">0.0</td></tr><tr><td class = \"rowNumber\" style = \"font-weight: bold; text-align: right;\">9</td><td style = \"text-align: left;\">CX</td><td style = \"text-align: right;\">1.25</td><td style = \"text-align: right;\">0.0</td></tr><tr><td class = \"rowNumber\" style = \"font-weight: bold; text-align: right;\">10</td><td style = \"text-align: left;\">PZ</td><td style = \"text-align: right;\">1.0</td><td style = \"text-align: right;\">0.0</td></tr><tr><td class = \"rowNumber\" style = \"font-weight: bold; text-align: right;\">11</td><td style = \"text-align: left;\">PY</td><td style = \"text-align: right;\">1.0</td><td style = \"text-align: right;\">0.0</td></tr><tr><td class = \"rowNumber\" style = \"font-weight: bold; text-align: right;\">12</td><td style = \"text-align: left;\">PX</td><td style = \"text-align: right;\">1.25</td><td style = \"text-align: right;\">0.0</td></tr><tr><td class = \"rowNumber\" style = \"font-weight: bold; text-align: right;\">13</td><td style = \"text-align: left;\">CONS</td><td style = \"text-align: right;\">200.0</td><td style = \"text-align: right;\">0.0</td></tr><tr><td class = \"rowNumber\" style = \"font-weight: bold; text-align: right;\">14</td><td style = \"text-align: left;\">XPADJ</td><td style = \"text-align: right;\">0.0</td><td style = \"text-align: right;\">0.0</td></tr><tr><td class = \"rowNumber\" style = \"font-weight: bold; text-align: right;\">15</td><td style = \"text-align: left;\">XQADJ</td><td style = \"text-align: right;\">0.0</td><td style = \"text-align: right;\">0.0</td></tr><tr><td class = \"rowNumber\" style = \"font-weight: bold; text-align: right;\">16</td><td style = \"text-align: left;\">ENTRE</td><td style = \"text-align: right;\">20.0</td><td style = \"text-align: right;\">0.0</td></tr></tbody></table></div>"
      ],
      "text/latex": [
       "\\begin{tabular}{r|ccc}\n",
       "\t& var & value & margin\\\\\n",
       "\t\\hline\n",
       "\t& GenericV… & Float64 & Float64\\\\\n",
       "\t\\hline\n",
       "\t1 & $ N $ & 1.0 & 0.0 \\\\\n",
       "\t2 & $ W $ & 1.0 & 0.0 \\\\\n",
       "\t3 & $ X $ & 1.0 & 0.0 \\\\\n",
       "\t4 & $ Y $ & 1.0 & 0.0 \\\\\n",
       "\t5 & $ XI $ & 1.0 & 0.0 \\\\\n",
       "\t6 & $ PF $ & 1.0 & 0.0 \\\\\n",
       "\t7 & $ PU $ & 1.0 & 0.0 \\\\\n",
       "\t8 & $ PW $ & 1.0 & 0.0 \\\\\n",
       "\t9 & $ CX $ & 1.25 & 0.0 \\\\\n",
       "\t10 & $ PZ $ & 1.0 & 0.0 \\\\\n",
       "\t11 & $ PY $ & 1.0 & 0.0 \\\\\n",
       "\t12 & $ PX $ & 1.25 & 0.0 \\\\\n",
       "\t13 & $ CONS $ & 200.0 & 0.0 \\\\\n",
       "\t14 & $ XPADJ $ & 0.0 & 0.0 \\\\\n",
       "\t15 & $ XQADJ $ & 0.0 & 0.0 \\\\\n",
       "\t16 & $ ENTRE $ & 20.0 & 0.0 \\\\\n",
       "\\end{tabular}\n"
      ],
      "text/plain": [
       "\u001b[1m16×3 DataFrame\u001b[0m\n",
       "\u001b[1m Row \u001b[0m│\u001b[1m var       \u001b[0m\u001b[1m value   \u001b[0m\u001b[1m margin  \u001b[0m\n",
       "     │\u001b[90m GenericV… \u001b[0m\u001b[90m Float64 \u001b[0m\u001b[90m Float64 \u001b[0m\n",
       "─────┼─────────────────────────────\n",
       "   1 │ N             1.0       0.0\n",
       "   2 │ W             1.0       0.0\n",
       "   3 │ X             1.0       0.0\n",
       "   4 │ Y             1.0       0.0\n",
       "   5 │ XI            1.0       0.0\n",
       "   6 │ PF            1.0       0.0\n",
       "   7 │ PU            1.0       0.0\n",
       "   8 │ PW            1.0       0.0\n",
       "   9 │ CX            1.25      0.0\n",
       "  10 │ PZ            1.0       0.0\n",
       "  11 │ PY            1.0       0.0\n",
       "  12 │ PX            1.25      0.0\n",
       "  13 │ CONS        200.0       0.0\n",
       "  14 │ XPADJ         0.0       0.0\n",
       "  15 │ XQADJ         0.0       0.0\n",
       "  16 │ ENTRE        20.0       0.0"
      ]
     },
     "metadata": {},
     "output_type": "display_data"
    }
   ],
   "source": [
    "fix(PY,1)\n",
    "set_start_value(PX, 1.25)\n",
    "set_start_value(CX, 1.25)\n",
    "\n",
    "solve!(M62, cumulative_iteration_limit = 0)\n",
    "generate_report(M62)"
   ]
  },
  {
   "cell_type": "code",
   "execution_count": 22,
   "metadata": {},
   "outputs": [
    {
     "name": "stdout",
     "output_type": "stream",
     "text": [
      "Index: 1.25\n"
     ]
    }
   ],
   "source": [
    "println(\"Index: $(value((N*CX^(1-EP))^(1/(1-EP))))\")"
   ]
  },
  {
   "cell_type": "markdown",
   "metadata": {},
   "source": [
    "# Counterfactual"
   ]
  },
  {
   "cell_type": "code",
   "execution_count": 23,
   "metadata": {},
   "outputs": [
    {
     "name": "stdout",
     "output_type": "stream",
     "text": [
      "Reading options file C:\\Users\\MPHILL~1\\AppData\\Local\\Temp\\jl_902C.tmp\n",
      " > cumulative_iteration_limit 10000\n",
      "Read of options file complete.\n",
      "\n",
      "Path 5.0.03 (Fri Jun 26 10:05:33 2020)\n",
      "Written by Todd Munson, Steven Dirkse, Youngdae Kim, and Michael Ferris\n",
      "\n",
      "Preprocessed size   : 15\n",
      "\n",
      "Crash Log\n",
      "major  func  diff  size  residual    step       prox   (label)\n",
      "    0     0             3.9901e+02             0.0e+00 (income_balance[CONS)\n",
      "    1     1     0    15 1.8594e+01  1.0e+00    0.0e+00 (income_balance[CONS)\n",
      "pn_search terminated: no basis change.\n",
      "\n",
      "Major Iteration Log\n",
      "major minor  func  grad  residual    step  type prox    inorm  (label)\n",
      "    0     0     2     2 1.8594e+01           I 0.0e+00 1.8e+01 (income_balance[)\n",
      "    1     1     3     3 2.3207e+00  1.0e+00 SO 0.0e+00 2.1e+00 (income_balance[)\n",
      "    2     1     4     4 3.5955e-03  1.0e+00 SO 0.0e+00 2.6e-03 (income_balance[)\n",
      "    3     1     5     5 2.4464e-08  1.0e+00 SO 0.0e+00 2.4e-08 (income_balance[)\n",
      "\n",
      "Major Iterations. . . . 3\n",
      "Minor Iterations. . . . 3\n",
      "Restarts. . . . . . . . 0\n",
      "Crash Iterations. . . . 1\n",
      "Gradient Steps. . . . . 0\n",
      "Function Evaluations. . 5\n",
      "Gradient Evaluations. . 5\n",
      "Basis Time. . . . . . . 0.000000\n",
      "Total Time. . . . . . . 0.000000\n",
      "Residual. . . . . . . . 2.446423e-08\n",
      "Postsolved residual: 2.4464e-08\n",
      "\n",
      "\n",
      "Solver Status: LOCALLY_SOLVED\n",
      "Model Status: FEASIBLE_POINT"
     ]
    },
    {
     "data": {
      "text/html": [
       "<div><div style = \"float: left;\"><span>16×3 DataFrame</span></div><div style = \"clear: both;\"></div></div><div class = \"data-frame\" style = \"overflow-x: scroll;\"><table class = \"data-frame\" style = \"margin-bottom: 6px;\"><thead><tr class = \"header\"><th class = \"rowNumber\" style = \"font-weight: bold; text-align: right;\">Row</th><th style = \"text-align: left;\">var</th><th style = \"text-align: left;\">value</th><th style = \"text-align: left;\">margin</th></tr><tr class = \"subheader headerLastRow\"><th class = \"rowNumber\" style = \"font-weight: bold; text-align: right;\"></th><th title = \"VariableRef\" style = \"text-align: left;\">GenericV…</th><th title = \"Float64\" style = \"text-align: left;\">Float64</th><th title = \"Float64\" style = \"text-align: left;\">Float64</th></tr></thead><tbody><tr><td class = \"rowNumber\" style = \"font-weight: bold; text-align: right;\">1</td><td style = \"text-align: left;\">N</td><td style = \"text-align: right;\">2.0</td><td style = \"text-align: right;\">-4.66791e-11</td></tr><tr><td class = \"rowNumber\" style = \"font-weight: bold; text-align: right;\">2</td><td style = \"text-align: left;\">W</td><td style = \"text-align: right;\">2.18102</td><td style = \"text-align: right;\">-1.1795e-12</td></tr><tr><td class = \"rowNumber\" style = \"font-weight: bold; text-align: right;\">3</td><td style = \"text-align: left;\">X</td><td style = \"text-align: right;\">2.0</td><td style = \"text-align: right;\">-1.94712e-10</td></tr><tr><td class = \"rowNumber\" style = \"font-weight: bold; text-align: right;\">4</td><td style = \"text-align: left;\">Y</td><td style = \"text-align: right;\">2.0</td><td style = \"text-align: right;\">-2.33356e-10</td></tr><tr><td class = \"rowNumber\" style = \"font-weight: bold; text-align: right;\">5</td><td style = \"text-align: left;\">XI</td><td style = \"text-align: right;\">2.0</td><td style = \"text-align: right;\">-1.86688e-10</td></tr><tr><td class = \"rowNumber\" style = \"font-weight: bold; text-align: right;\">6</td><td style = \"text-align: left;\">PF</td><td style = \"text-align: right;\">1.0</td><td style = \"text-align: right;\">-3.34985e-10</td></tr><tr><td class = \"rowNumber\" style = \"font-weight: bold; text-align: right;\">7</td><td style = \"text-align: left;\">PU</td><td style = \"text-align: right;\">0.917004</td><td style = \"text-align: right;\">3.32182e-9</td></tr><tr><td class = \"rowNumber\" style = \"font-weight: bold; text-align: right;\">8</td><td style = \"text-align: left;\">PW</td><td style = \"text-align: right;\">1.0</td><td style = \"text-align: right;\">1.21341e-9</td></tr><tr><td class = \"rowNumber\" style = \"font-weight: bold; text-align: right;\">9</td><td style = \"text-align: left;\">CX</td><td style = \"text-align: right;\">1.25</td><td style = \"text-align: right;\">0.0</td></tr><tr><td class = \"rowNumber\" style = \"font-weight: bold; text-align: right;\">10</td><td style = \"text-align: left;\">PZ</td><td style = \"text-align: right;\">1.0</td><td style = \"text-align: right;\">-2.80039e-10</td></tr><tr><td class = \"rowNumber\" style = \"font-weight: bold; text-align: right;\">11</td><td style = \"text-align: left;\">PY</td><td style = \"text-align: right;\">1.0</td><td style = \"text-align: right;\">1.87321e-8</td></tr><tr><td class = \"rowNumber\" style = \"font-weight: bold; text-align: right;\">12</td><td style = \"text-align: left;\">PX</td><td style = \"text-align: right;\">1.05112</td><td style = \"text-align: right;\">3.02691e-12</td></tr><tr><td class = \"rowNumber\" style = \"font-weight: bold; text-align: right;\">13</td><td style = \"text-align: left;\">CONS</td><td style = \"text-align: right;\">400.0</td><td style = \"text-align: right;\">2.41956e-8</td></tr><tr><td class = \"rowNumber\" style = \"font-weight: bold; text-align: right;\">14</td><td style = \"text-align: left;\">XPADJ</td><td style = \"text-align: right;\">0.189207</td><td style = \"text-align: right;\">2.15667e-11</td></tr><tr><td class = \"rowNumber\" style = \"font-weight: bold; text-align: right;\">15</td><td style = \"text-align: left;\">XQADJ</td><td style = \"text-align: right;\">0.378414</td><td style = \"text-align: right;\">-7.18747e-11</td></tr><tr><td class = \"rowNumber\" style = \"font-weight: bold; text-align: right;\">16</td><td style = \"text-align: left;\">ENTRE</td><td style = \"text-align: right;\">40.0</td><td style = \"text-align: right;\">-4.90367e-10</td></tr></tbody></table></div>"
      ],
      "text/latex": [
       "\\begin{tabular}{r|ccc}\n",
       "\t& var & value & margin\\\\\n",
       "\t\\hline\n",
       "\t& GenericV… & Float64 & Float64\\\\\n",
       "\t\\hline\n",
       "\t1 & $ N $ & 2.0 & -4.66791e-11 \\\\\n",
       "\t2 & $ W $ & 2.18102 & -1.1795e-12 \\\\\n",
       "\t3 & $ X $ & 2.0 & -1.94712e-10 \\\\\n",
       "\t4 & $ Y $ & 2.0 & -2.33356e-10 \\\\\n",
       "\t5 & $ XI $ & 2.0 & -1.86688e-10 \\\\\n",
       "\t6 & $ PF $ & 1.0 & -3.34985e-10 \\\\\n",
       "\t7 & $ PU $ & 0.917004 & 3.32182e-9 \\\\\n",
       "\t8 & $ PW $ & 1.0 & 1.21341e-9 \\\\\n",
       "\t9 & $ CX $ & 1.25 & 0.0 \\\\\n",
       "\t10 & $ PZ $ & 1.0 & -2.80039e-10 \\\\\n",
       "\t11 & $ PY $ & 1.0 & 1.87321e-8 \\\\\n",
       "\t12 & $ PX $ & 1.05112 & 3.02691e-12 \\\\\n",
       "\t13 & $ CONS $ & 400.0 & 2.41956e-8 \\\\\n",
       "\t14 & $ XPADJ $ & 0.189207 & 2.15667e-11 \\\\\n",
       "\t15 & $ XQADJ $ & 0.378414 & -7.18747e-11 \\\\\n",
       "\t16 & $ ENTRE $ & 40.0 & -4.90367e-10 \\\\\n",
       "\\end{tabular}\n"
      ],
      "text/plain": [
       "\u001b[1m16×3 DataFrame\u001b[0m\n",
       "\u001b[1m Row \u001b[0m│\u001b[1m var       \u001b[0m\u001b[1m value      \u001b[0m\u001b[1m margin       \u001b[0m\n",
       "     │\u001b[90m GenericV… \u001b[0m\u001b[90m Float64    \u001b[0m\u001b[90m Float64      \u001b[0m\n",
       "─────┼─────────────────────────────────────\n",
       "   1 │ N            2.0       -4.66791e-11\n",
       "   2 │ W            2.18102   -1.1795e-12\n",
       "   3 │ X            2.0       -1.94712e-10\n",
       "   4 │ Y            2.0       -2.33356e-10\n",
       "   5 │ XI           2.0       -1.86688e-10\n",
       "   6 │ PF           1.0       -3.34985e-10\n",
       "   7 │ PU           0.917004   3.32182e-9\n",
       "   8 │ PW           1.0        1.21341e-9\n",
       "   9 │ CX           1.25       0.0\n",
       "  10 │ PZ           1.0       -2.80039e-10\n",
       "  11 │ PY           1.0        1.87321e-8\n",
       "  12 │ PX           1.05112    3.02691e-12\n",
       "  13 │ CONS       400.0        2.41956e-8\n",
       "  14 │ XPADJ        0.189207   2.15667e-11\n",
       "  15 │ XQADJ        0.378414  -7.18747e-11\n",
       "  16 │ ENTRE       40.0       -4.90367e-10"
      ]
     },
     "metadata": {},
     "output_type": "display_data"
    }
   ],
   "source": [
    "set_value!(ENDOW, 2)\n",
    "\n",
    "solve!(M62)\n",
    "generate_report(M62)"
   ]
  },
  {
   "cell_type": "code",
   "execution_count": 24,
   "metadata": {},
   "outputs": [
    {
     "name": "stdout",
     "output_type": "stream",
     "text": [
      "Index: 1.0511205190574011\n"
     ]
    }
   ],
   "source": [
    "println(\"Index: $(value((N*CX^(1-EP))^(1/(1-EP))))\")"
   ]
  }
 ],
 "metadata": {
  "kernelspec": {
   "display_name": "Julia 1.9.2",
   "language": "julia",
   "name": "julia-1.9"
  },
  "language_info": {
   "file_extension": ".jl",
   "mimetype": "application/julia",
   "name": "julia",
   "version": "1.9.2"
  }
 },
 "nbformat": 4,
 "nbformat_minor": 2
}
